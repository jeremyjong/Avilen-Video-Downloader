{
 "cells": [
  {
   "cell_type": "code",
   "execution_count": 81,
   "metadata": {},
   "outputs": [],
   "source": [
    "from selenium import webdriver\n",
    "from selenium.webdriver.common.keys import Keys\n",
    "from selenium.webdriver.support.ui import Select\n",
    "from selenium.webdriver.support.ui import WebDriverWait\n",
    "from selenium.webdriver.support import expected_conditions as EC\n",
    "from selenium.webdriver.common.by import By\n",
    "from selenium.common.exceptions import TimeoutException\n",
    "import m3u8_To_MP4\n",
    "import re\n",
    "import time\n",
    "import os\n",
    "import csv"
   ]
  },
  {
   "cell_type": "code",
   "execution_count": 82,
   "metadata": {},
   "outputs": [],
   "source": [
    "# If you want to open Firefox\n",
    "driver = webdriver.Firefox()\n",
    "\n",
    "# Navigate to a webpage\n",
    "driver.get(\"https://avilen.learning-ware.jp/lesson/detail?id=77467601\")\n",
    "\n",
    "wait = WebDriverWait(driver, 10)  # 10 seconds is the maximum wait time\n",
    "login_id_element = wait.until(EC.visibility_of_element_located((By.ID, \"loginid\")))\n",
    "\n",
    "login_id_element.send_keys(\"etsnxd\")\n",
    "\n",
    "wait = WebDriverWait(driver, 10)  # 10 seconds is the maximum wait time\n",
    "password_input = wait.until(EC.visibility_of_element_located((By.ID, \"password\")))\n",
    "password_input.send_keys(\"avilen200101\")\n",
    "\n",
    "password_input.submit()"
   ]
  },
  {
   "cell_type": "code",
   "execution_count": 83,
   "metadata": {},
   "outputs": [],
   "source": [
    "time.sleep(5)\n",
    "\n",
    "elements = driver.find_elements(By.XPATH,'//*[@onclick]')\n",
    "urls = []\n",
    "for elem in elements:\n",
    "    onclick = elem.get_attribute('onclick')  # get the onclick attribute\n",
    "    # Regular expression pattern to extract the URL\n",
    "    match = re.search(r\"windowOpenPost\\('([^']+)\", onclick)\n",
    "\n",
    "    if match:\n",
    "        url = match.group(1)        \n",
    "        urls.append(\"https://avilen.learning-ware.jp\" + url)"
   ]
  },
  {
   "cell_type": "code",
   "execution_count": 84,
   "metadata": {},
   "outputs": [
    {
     "name": "stdout",
     "output_type": "stream",
     "text": [
      "['https://avilen.learning-ware.jp/lesson/frame?userLearningLessonId=77467601&unitId=465533', 'https://avilen.learning-ware.jp/lesson/frame?userLearningLessonId=77467601&unitId=465775', 'https://avilen.learning-ware.jp/lesson/frame?userLearningLessonId=77467601&unitId=465776', 'https://avilen.learning-ware.jp/lesson/frame?userLearningLessonId=77467601&unitId=465784', 'https://avilen.learning-ware.jp/lesson/frame?userLearningLessonId=77467601&unitId=566306', 'https://avilen.learning-ware.jp/lesson/frame?userLearningLessonId=77467601&unitId=465783', 'https://avilen.learning-ware.jp/lesson/frame?userLearningLessonId=77467601&unitId=465777', 'https://avilen.learning-ware.jp/lesson/frame?userLearningLessonId=77467601&unitId=465779', 'https://avilen.learning-ware.jp/lesson/frame?userLearningLessonId=77467601&unitId=465780', 'https://avilen.learning-ware.jp/lesson/frame?userLearningLessonId=77467601&unitId=465532', 'https://avilen.learning-ware.jp/lesson/frame?userLearningLessonId=77467601&unitId=760726', 'https://avilen.learning-ware.jp/lesson/frame?userLearningLessonId=77467601&unitId=465778', 'https://avilen.learning-ware.jp/lesson/frame?userLearningLessonId=77467601&unitId=465786', 'https://avilen.learning-ware.jp/lesson/frame?userLearningLessonId=77467601&unitId=465787', 'https://avilen.learning-ware.jp/lesson/frame?userLearningLessonId=77467601&unitId=465789', 'https://avilen.learning-ware.jp/lesson/frame?userLearningLessonId=77467601&unitId=474652', 'https://avilen.learning-ware.jp/lesson/frame?userLearningLessonId=77467601&unitId=474655', 'https://avilen.learning-ware.jp/lesson/frame?userLearningLessonId=77467601&unitId=474653', 'https://avilen.learning-ware.jp/lesson/frame?userLearningLessonId=77467601&unitId=629792', 'https://avilen.learning-ware.jp/lesson/frame?userLearningLessonId=77467601&unitId=629790', 'https://avilen.learning-ware.jp/lesson/frame?userLearningLessonId=77467601&unitId=474654', 'https://avilen.learning-ware.jp/lesson/frame?userLearningLessonId=77467601&unitId=629791', 'https://avilen.learning-ware.jp/lesson/frame?userLearningLessonId=77467601&unitId=465535', 'https://avilen.learning-ware.jp/lesson/frame?userLearningLessonId=77467601&unitId=465536', 'https://avilen.learning-ware.jp/lesson/frame?userLearningLessonId=77467601&unitId=465537', 'https://avilen.learning-ware.jp/lesson/frame?userLearningLessonId=77467601&unitId=465538', 'https://avilen.learning-ware.jp/lesson/frame?userLearningLessonId=77467601&unitId=465539', 'https://avilen.learning-ware.jp/lesson/frame?userLearningLessonId=77467601&unitId=470120', 'https://avilen.learning-ware.jp/lesson/frame?userLearningLessonId=77467601&unitId=470121', 'https://avilen.learning-ware.jp/lesson/frame?userLearningLessonId=77467601&unitId=470122', 'https://avilen.learning-ware.jp/lesson/frame?userLearningLessonId=77467601&unitId=465541', 'https://avilen.learning-ware.jp/lesson/frame?userLearningLessonId=77467601&unitId=465542', 'https://avilen.learning-ware.jp/lesson/frame?userLearningLessonId=77467601&unitId=465543', 'https://avilen.learning-ware.jp/lesson/frame?userLearningLessonId=77467601&unitId=470253', 'https://avilen.learning-ware.jp/lesson/frame?userLearningLessonId=77467601&unitId=470255', 'https://avilen.learning-ware.jp/lesson/frame?userLearningLessonId=77467601&unitId=470258', 'https://avilen.learning-ware.jp/lesson/frame?userLearningLessonId=77467601&unitId=470261', 'https://avilen.learning-ware.jp/lesson/frame?userLearningLessonId=77467601&unitId=470263', 'https://avilen.learning-ware.jp/lesson/frame?userLearningLessonId=77467601&unitId=470265', 'https://avilen.learning-ware.jp/lesson/frame?userLearningLessonId=77467601&unitId=470273', 'https://avilen.learning-ware.jp/lesson/frame?userLearningLessonId=77467601&unitId=470274', 'https://avilen.learning-ware.jp/lesson/frame?userLearningLessonId=77467601&unitId=470280', 'https://avilen.learning-ware.jp/lesson/frame?userLearningLessonId=77467601&unitId=470281', 'https://avilen.learning-ware.jp/lesson/frame?userLearningLessonId=77467601&unitId=465785', 'https://avilen.learning-ware.jp/lesson/frame?userLearningLessonId=77467601&unitId=465544', 'https://avilen.learning-ware.jp/lesson/frame?userLearningLessonId=77467601&unitId=470567', 'https://avilen.learning-ware.jp/lesson/frame?userLearningLessonId=77467601&unitId=470568', 'https://avilen.learning-ware.jp/lesson/frame?userLearningLessonId=77467601&unitId=470570', 'https://avilen.learning-ware.jp/lesson/frame?userLearningLessonId=77467601&unitId=465560', 'https://avilen.learning-ware.jp/lesson/frame?userLearningLessonId=77467601&unitId=470573', 'https://avilen.learning-ware.jp/lesson/frame?userLearningLessonId=77467601&unitId=470575', 'https://avilen.learning-ware.jp/lesson/frame?userLearningLessonId=77467601&unitId=470577', 'https://avilen.learning-ware.jp/lesson/frame?userLearningLessonId=77467601&unitId=470578', 'https://avilen.learning-ware.jp/lesson/frame?userLearningLessonId=77467601&unitId=470579', 'https://avilen.learning-ware.jp/lesson/frame?userLearningLessonId=77467601&unitId=470582', 'https://avilen.learning-ware.jp/lesson/frame?userLearningLessonId=77467601&unitId=470580', 'https://avilen.learning-ware.jp/lesson/frame?userLearningLessonId=77467601&unitId=470584', 'https://avilen.learning-ware.jp/lesson/frame?userLearningLessonId=77467601&unitId=470586', 'https://avilen.learning-ware.jp/lesson/frame?userLearningLessonId=77467601&unitId=470587', 'https://avilen.learning-ware.jp/lesson/frame?userLearningLessonId=77467601&unitId=470588', 'https://avilen.learning-ware.jp/lesson/frame?userLearningLessonId=77467601&unitId=470589', 'https://avilen.learning-ware.jp/lesson/frame?userLearningLessonId=77467601&unitId=465616', 'https://avilen.learning-ware.jp/lesson/frame?userLearningLessonId=77467601&unitId=465617', 'https://avilen.learning-ware.jp/lesson/frame?userLearningLessonId=77467601&unitId=465618', 'https://avilen.learning-ware.jp/lesson/frame?userLearningLessonId=77467601&unitId=465619', 'https://avilen.learning-ware.jp/lesson/frame?userLearningLessonId=77467601&unitId=465620', 'https://avilen.learning-ware.jp/lesson/frame?userLearningLessonId=77467601&unitId=465695', 'https://avilen.learning-ware.jp/lesson/frame?userLearningLessonId=77467601&unitId=465621', 'https://avilen.learning-ware.jp/lesson/frame?userLearningLessonId=77467601&unitId=465650', 'https://avilen.learning-ware.jp/lesson/frame?userLearningLessonId=77467601&unitId=470619', 'https://avilen.learning-ware.jp/lesson/frame?userLearningLessonId=77467601&unitId=470620', 'https://avilen.learning-ware.jp/lesson/frame?userLearningLessonId=77467601&unitId=470621', 'https://avilen.learning-ware.jp/lesson/frame?userLearningLessonId=77467601&unitId=470623', 'https://avilen.learning-ware.jp/lesson/frame?userLearningLessonId=77467601&unitId=465610', 'https://avilen.learning-ware.jp/lesson/frame?userLearningLessonId=77467601&unitId=470624', 'https://avilen.learning-ware.jp/lesson/frame?userLearningLessonId=77467601&unitId=470626', 'https://avilen.learning-ware.jp/lesson/frame?userLearningLessonId=77467601&unitId=465612', 'https://avilen.learning-ware.jp/lesson/frame?userLearningLessonId=77467601&unitId=470627', 'https://avilen.learning-ware.jp/lesson/frame?userLearningLessonId=77467601&unitId=470629', 'https://avilen.learning-ware.jp/lesson/frame?userLearningLessonId=77467601&unitId=470631', 'https://avilen.learning-ware.jp/lesson/frame?userLearningLessonId=77467601&unitId=465614', 'https://avilen.learning-ware.jp/lesson/frame?userLearningLessonId=77467601&unitId=465651', 'https://avilen.learning-ware.jp/lesson/frame?userLearningLessonId=77467601&unitId=465564', 'https://avilen.learning-ware.jp/lesson/frame?userLearningLessonId=77467601&unitId=465565', 'https://avilen.learning-ware.jp/lesson/frame?userLearningLessonId=77467601&unitId=465566', 'https://avilen.learning-ware.jp/lesson/frame?userLearningLessonId=77467601&unitId=470637', 'https://avilen.learning-ware.jp/lesson/frame?userLearningLessonId=77467601&unitId=470639', 'https://avilen.learning-ware.jp/lesson/frame?userLearningLessonId=77467601&unitId=470641', 'https://avilen.learning-ware.jp/lesson/frame?userLearningLessonId=77467601&unitId=470642', 'https://avilen.learning-ware.jp/lesson/frame?userLearningLessonId=77467601&unitId=470643', 'https://avilen.learning-ware.jp/lesson/frame?userLearningLessonId=77467601&unitId=470646', 'https://avilen.learning-ware.jp/lesson/frame?userLearningLessonId=77467601&unitId=470647', 'https://avilen.learning-ware.jp/lesson/frame?userLearningLessonId=77467601&unitId=470648', 'https://avilen.learning-ware.jp/lesson/frame?userLearningLessonId=77467601&unitId=465569', 'https://avilen.learning-ware.jp/lesson/frame?userLearningLessonId=77467601&unitId=470649', 'https://avilen.learning-ware.jp/lesson/frame?userLearningLessonId=77467601&unitId=470651', 'https://avilen.learning-ware.jp/lesson/frame?userLearningLessonId=77467601&unitId=470652', 'https://avilen.learning-ware.jp/lesson/frame?userLearningLessonId=77467601&unitId=470657', 'https://avilen.learning-ware.jp/lesson/frame?userLearningLessonId=77467601&unitId=465571', 'https://avilen.learning-ware.jp/lesson/frame?userLearningLessonId=77467601&unitId=470658', 'https://avilen.learning-ware.jp/lesson/frame?userLearningLessonId=77467601&unitId=470659', 'https://avilen.learning-ware.jp/lesson/frame?userLearningLessonId=77467601&unitId=470661', 'https://avilen.learning-ware.jp/lesson/frame?userLearningLessonId=77467601&unitId=470662', 'https://avilen.learning-ware.jp/lesson/frame?userLearningLessonId=77467601&unitId=465573', 'https://avilen.learning-ware.jp/lesson/frame?userLearningLessonId=77467601&unitId=465652', 'https://avilen.learning-ware.jp/lesson/frame?userLearningLessonId=77467601&unitId=465575', 'https://avilen.learning-ware.jp/lesson/frame?userLearningLessonId=77467601&unitId=465576', 'https://avilen.learning-ware.jp/lesson/frame?userLearningLessonId=77467601&unitId=465577', 'https://avilen.learning-ware.jp/lesson/frame?userLearningLessonId=77467601&unitId=465578', 'https://avilen.learning-ware.jp/lesson/frame?userLearningLessonId=77467601&unitId=465579', 'https://avilen.learning-ware.jp/lesson/frame?userLearningLessonId=77467601&unitId=465580', 'https://avilen.learning-ware.jp/lesson/frame?userLearningLessonId=77467601&unitId=465581', 'https://avilen.learning-ware.jp/lesson/frame?userLearningLessonId=77467601&unitId=470664', 'https://avilen.learning-ware.jp/lesson/frame?userLearningLessonId=77467601&unitId=470665', 'https://avilen.learning-ware.jp/lesson/frame?userLearningLessonId=77467601&unitId=470666', 'https://avilen.learning-ware.jp/lesson/frame?userLearningLessonId=77467601&unitId=470667', 'https://avilen.learning-ware.jp/lesson/frame?userLearningLessonId=77467601&unitId=470669', 'https://avilen.learning-ware.jp/lesson/frame?userLearningLessonId=77467601&unitId=470672', 'https://avilen.learning-ware.jp/lesson/frame?userLearningLessonId=77467601&unitId=465584', 'https://avilen.learning-ware.jp/lesson/frame?userLearningLessonId=77467601&unitId=465653', 'https://avilen.learning-ware.jp/lesson/frame?userLearningLessonId=77467601&unitId=465586', 'https://avilen.learning-ware.jp/lesson/frame?userLearningLessonId=77467601&unitId=465587', 'https://avilen.learning-ware.jp/lesson/frame?userLearningLessonId=77467601&unitId=465588', 'https://avilen.learning-ware.jp/lesson/frame?userLearningLessonId=77467601&unitId=470689', 'https://avilen.learning-ware.jp/lesson/frame?userLearningLessonId=77467601&unitId=465592', 'https://avilen.learning-ware.jp/lesson/frame?userLearningLessonId=77467601&unitId=470690', 'https://avilen.learning-ware.jp/lesson/frame?userLearningLessonId=77467601&unitId=470692', 'https://avilen.learning-ware.jp/lesson/frame?userLearningLessonId=77467601&unitId=470694', 'https://avilen.learning-ware.jp/lesson/frame?userLearningLessonId=77467601&unitId=470695', 'https://avilen.learning-ware.jp/lesson/frame?userLearningLessonId=77467601&unitId=470696', 'https://avilen.learning-ware.jp/lesson/frame?userLearningLessonId=77467601&unitId=470697', 'https://avilen.learning-ware.jp/lesson/frame?userLearningLessonId=77467601&unitId=465594', 'https://avilen.learning-ware.jp/lesson/frame?userLearningLessonId=77467601&unitId=465595', 'https://avilen.learning-ware.jp/lesson/frame?userLearningLessonId=77467601&unitId=465596', 'https://avilen.learning-ware.jp/lesson/frame?userLearningLessonId=77467601&unitId=544435', 'https://avilen.learning-ware.jp/lesson/frame?userLearningLessonId=77467601&unitId=544436', 'https://avilen.learning-ware.jp/lesson/frame?userLearningLessonId=77467601&unitId=465597', 'https://avilen.learning-ware.jp/lesson/frame?userLearningLessonId=77467601&unitId=465654', 'https://avilen.learning-ware.jp/lesson/frame?userLearningLessonId=77467601&unitId=465599', 'https://avilen.learning-ware.jp/lesson/frame?userLearningLessonId=77467601&unitId=465600', 'https://avilen.learning-ware.jp/lesson/frame?userLearningLessonId=77467601&unitId=465601', 'https://avilen.learning-ware.jp/lesson/frame?userLearningLessonId=77467601&unitId=465602', 'https://avilen.learning-ware.jp/lesson/frame?userLearningLessonId=77467601&unitId=471579', 'https://avilen.learning-ware.jp/lesson/frame?userLearningLessonId=77467601&unitId=471580', 'https://avilen.learning-ware.jp/lesson/frame?userLearningLessonId=77467601&unitId=471581', 'https://avilen.learning-ware.jp/lesson/frame?userLearningLessonId=77467601&unitId=471582', 'https://avilen.learning-ware.jp/lesson/frame?userLearningLessonId=77467601&unitId=471583', 'https://avilen.learning-ware.jp/lesson/frame?userLearningLessonId=77467601&unitId=465604', 'https://avilen.learning-ware.jp/lesson/frame?userLearningLessonId=77467601&unitId=465605', 'https://avilen.learning-ware.jp/lesson/frame?userLearningLessonId=77467601&unitId=465658', 'https://avilen.learning-ware.jp/lesson/frame?userLearningLessonId=77467601&unitId=465623', 'https://avilen.learning-ware.jp/lesson/frame?userLearningLessonId=77467601&unitId=465624', 'https://avilen.learning-ware.jp/lesson/frame?userLearningLessonId=77467601&unitId=465625', 'https://avilen.learning-ware.jp/lesson/frame?userLearningLessonId=77467601&unitId=465626', 'https://avilen.learning-ware.jp/lesson/frame?userLearningLessonId=77467601&unitId=465627', 'https://avilen.learning-ware.jp/lesson/frame?userLearningLessonId=77467601&unitId=465628', 'https://avilen.learning-ware.jp/lesson/frame?userLearningLessonId=77467601&unitId=465629', 'https://avilen.learning-ware.jp/lesson/frame?userLearningLessonId=77467601&unitId=465630', 'https://avilen.learning-ware.jp/lesson/frame?userLearningLessonId=77467601&unitId=465631', 'https://avilen.learning-ware.jp/lesson/frame?userLearningLessonId=77467601&unitId=465632', 'https://avilen.learning-ware.jp/lesson/frame?userLearningLessonId=77467601&unitId=465633', 'https://avilen.learning-ware.jp/lesson/frame?userLearningLessonId=77467601&unitId=465634', 'https://avilen.learning-ware.jp/lesson/frame?userLearningLessonId=77467601&unitId=465635', 'https://avilen.learning-ware.jp/lesson/frame?userLearningLessonId=77467601&unitId=465636', 'https://avilen.learning-ware.jp/lesson/frame?userLearningLessonId=77467601&unitId=465637', 'https://avilen.learning-ware.jp/lesson/frame?userLearningLessonId=77467601&unitId=465638', 'https://avilen.learning-ware.jp/lesson/frame?userLearningLessonId=77467601&unitId=465639', 'https://avilen.learning-ware.jp/lesson/frame?userLearningLessonId=77467601&unitId=465640', 'https://avilen.learning-ware.jp/lesson/frame?userLearningLessonId=77467601&unitId=465641', 'https://avilen.learning-ware.jp/lesson/frame?userLearningLessonId=77467601&unitId=465642', 'https://avilen.learning-ware.jp/lesson/frame?userLearningLessonId=77467601&unitId=465643', 'https://avilen.learning-ware.jp/lesson/frame?userLearningLessonId=77467601&unitId=465644', 'https://avilen.learning-ware.jp/lesson/frame?userLearningLessonId=77467601&unitId=465645', 'https://avilen.learning-ware.jp/lesson/frame?userLearningLessonId=77467601&unitId=465646', 'https://avilen.learning-ware.jp/lesson/frame?userLearningLessonId=77467601&unitId=470298', 'https://avilen.learning-ware.jp/lesson/frame?userLearningLessonId=77467601&unitId=470300', 'https://avilen.learning-ware.jp/lesson/frame?userLearningLessonId=77467601&unitId=470301', 'https://avilen.learning-ware.jp/lesson/frame?userLearningLessonId=77467601&unitId=470302', 'https://avilen.learning-ware.jp/lesson/frame?userLearningLessonId=77467601&unitId=470304', 'https://avilen.learning-ware.jp/lesson/frame?userLearningLessonId=77467601&unitId=470306', 'https://avilen.learning-ware.jp/lesson/frame?userLearningLessonId=77467601&unitId=470307', 'https://avilen.learning-ware.jp/lesson/frame?userLearningLessonId=77467601&unitId=465648', 'https://avilen.learning-ware.jp/lesson/frame?userLearningLessonId=77467601&unitId=465649', 'https://avilen.learning-ware.jp/lesson/frame?userLearningLessonId=77467601&unitId=465660', 'https://avilen.learning-ware.jp/lesson/frame?userLearningLessonId=77467601&unitId=470366', 'https://avilen.learning-ware.jp/lesson/frame?userLearningLessonId=77467601&unitId=470367', 'https://avilen.learning-ware.jp/lesson/frame?userLearningLessonId=77467601&unitId=470368', 'https://avilen.learning-ware.jp/lesson/frame?userLearningLessonId=77467601&unitId=470369', 'https://avilen.learning-ware.jp/lesson/frame?userLearningLessonId=77467601&unitId=470370', 'https://avilen.learning-ware.jp/lesson/frame?userLearningLessonId=77467601&unitId=470371', 'https://avilen.learning-ware.jp/lesson/frame?userLearningLessonId=77467601&unitId=470372', 'https://avilen.learning-ware.jp/lesson/frame?userLearningLessonId=77467601&unitId=470374', 'https://avilen.learning-ware.jp/lesson/frame?userLearningLessonId=77467601&unitId=470376', 'https://avilen.learning-ware.jp/lesson/frame?userLearningLessonId=77467601&unitId=470378', 'https://avilen.learning-ware.jp/lesson/frame?userLearningLessonId=77467601&unitId=470379', 'https://avilen.learning-ware.jp/lesson/frame?userLearningLessonId=77467601&unitId=470380', 'https://avilen.learning-ware.jp/lesson/frame?userLearningLessonId=77467601&unitId=470381', 'https://avilen.learning-ware.jp/lesson/frame?userLearningLessonId=77467601&unitId=470382', 'https://avilen.learning-ware.jp/lesson/frame?userLearningLessonId=77467601&unitId=470383', 'https://avilen.learning-ware.jp/lesson/frame?userLearningLessonId=77467601&unitId=470384', 'https://avilen.learning-ware.jp/lesson/frame?userLearningLessonId=77467601&unitId=470385', 'https://avilen.learning-ware.jp/lesson/frame?userLearningLessonId=77467601&unitId=470386', 'https://avilen.learning-ware.jp/lesson/frame?userLearningLessonId=77467601&unitId=470387', 'https://avilen.learning-ware.jp/lesson/frame?userLearningLessonId=77467601&unitId=470388', 'https://avilen.learning-ware.jp/lesson/frame?userLearningLessonId=77467601&unitId=470389', 'https://avilen.learning-ware.jp/lesson/frame?userLearningLessonId=77467601&unitId=470390', 'https://avilen.learning-ware.jp/lesson/frame?userLearningLessonId=77467601&unitId=470391', 'https://avilen.learning-ware.jp/lesson/frame?userLearningLessonId=77467601&unitId=470392', 'https://avilen.learning-ware.jp/lesson/frame?userLearningLessonId=77467601&unitId=470393', 'https://avilen.learning-ware.jp/lesson/frame?userLearningLessonId=77467601&unitId=470394', 'https://avilen.learning-ware.jp/lesson/frame?userLearningLessonId=77467601&unitId=470396', 'https://avilen.learning-ware.jp/lesson/frame?userLearningLessonId=77467601&unitId=470397', 'https://avilen.learning-ware.jp/lesson/frame?userLearningLessonId=77467601&unitId=470398', 'https://avilen.learning-ware.jp/lesson/frame?userLearningLessonId=77467601&unitId=470399', 'https://avilen.learning-ware.jp/lesson/frame?userLearningLessonId=77467601&unitId=470400', 'https://avilen.learning-ware.jp/lesson/frame?userLearningLessonId=77467601&unitId=465661', 'https://avilen.learning-ware.jp/lesson/frame?userLearningLessonId=77467601&unitId=465668', 'https://avilen.learning-ware.jp/lesson/frame?userLearningLessonId=77467601&unitId=465669', 'https://avilen.learning-ware.jp/lesson/frame?userLearningLessonId=77467601&unitId=470406', 'https://avilen.learning-ware.jp/lesson/frame?userLearningLessonId=77467601&unitId=470408', 'https://avilen.learning-ware.jp/lesson/frame?userLearningLessonId=77467601&unitId=465671', 'https://avilen.learning-ware.jp/lesson/frame?userLearningLessonId=77467601&unitId=465673', 'https://avilen.learning-ware.jp/lesson/frame?userLearningLessonId=77467601&unitId=465734', 'https://avilen.learning-ware.jp/lesson/frame?userLearningLessonId=77467601&unitId=470409', 'https://avilen.learning-ware.jp/lesson/frame?userLearningLessonId=77467601&unitId=470411', 'https://avilen.learning-ware.jp/lesson/frame?userLearningLessonId=77467601&unitId=470412', 'https://avilen.learning-ware.jp/lesson/frame?userLearningLessonId=77467601&unitId=470413', 'https://avilen.learning-ware.jp/lesson/frame?userLearningLessonId=77467601&unitId=470417', 'https://avilen.learning-ware.jp/lesson/frame?userLearningLessonId=77467601&unitId=470418', 'https://avilen.learning-ware.jp/lesson/frame?userLearningLessonId=77467601&unitId=470419', 'https://avilen.learning-ware.jp/lesson/frame?userLearningLessonId=77467601&unitId=465675', 'https://avilen.learning-ware.jp/lesson/frame?userLearningLessonId=77467601&unitId=465735', 'https://avilen.learning-ware.jp/lesson/frame?userLearningLessonId=77467601&unitId=470420', 'https://avilen.learning-ware.jp/lesson/frame?userLearningLessonId=77467601&unitId=470421', 'https://avilen.learning-ware.jp/lesson/frame?userLearningLessonId=77467601&unitId=470422', 'https://avilen.learning-ware.jp/lesson/frame?userLearningLessonId=77467601&unitId=470423', 'https://avilen.learning-ware.jp/lesson/frame?userLearningLessonId=77467601&unitId=470424', 'https://avilen.learning-ware.jp/lesson/frame?userLearningLessonId=77467601&unitId=470425', 'https://avilen.learning-ware.jp/lesson/frame?userLearningLessonId=77467601&unitId=465677', 'https://avilen.learning-ware.jp/lesson/frame?userLearningLessonId=77467601&unitId=465678', 'https://avilen.learning-ware.jp/lesson/frame?userLearningLessonId=77467601&unitId=470427', 'https://avilen.learning-ware.jp/lesson/frame?userLearningLessonId=77467601&unitId=465680', 'https://avilen.learning-ware.jp/lesson/frame?userLearningLessonId=77467601&unitId=465681', 'https://avilen.learning-ware.jp/lesson/frame?userLearningLessonId=77467601&unitId=465682', 'https://avilen.learning-ware.jp/lesson/frame?userLearningLessonId=77467601&unitId=465683', 'https://avilen.learning-ware.jp/lesson/frame?userLearningLessonId=77467601&unitId=465685', 'https://avilen.learning-ware.jp/lesson/frame?userLearningLessonId=77467601&unitId=465684', 'https://avilen.learning-ware.jp/lesson/frame?userLearningLessonId=77467601&unitId=465686', 'https://avilen.learning-ware.jp/lesson/frame?userLearningLessonId=77467601&unitId=470429', 'https://avilen.learning-ware.jp/lesson/frame?userLearningLessonId=77467601&unitId=470430', 'https://avilen.learning-ware.jp/lesson/frame?userLearningLessonId=77467601&unitId=470432', 'https://avilen.learning-ware.jp/lesson/frame?userLearningLessonId=77467601&unitId=470433', 'https://avilen.learning-ware.jp/lesson/frame?userLearningLessonId=77467601&unitId=470435', 'https://avilen.learning-ware.jp/lesson/frame?userLearningLessonId=77467601&unitId=470436', 'https://avilen.learning-ware.jp/lesson/frame?userLearningLessonId=77467601&unitId=470440', 'https://avilen.learning-ware.jp/lesson/frame?userLearningLessonId=77467601&unitId=470441', 'https://avilen.learning-ware.jp/lesson/frame?userLearningLessonId=77467601&unitId=465688', 'https://avilen.learning-ware.jp/lesson/frame?userLearningLessonId=77467601&unitId=465690', 'https://avilen.learning-ware.jp/lesson/frame?userLearningLessonId=77467601&unitId=465689', 'https://avilen.learning-ware.jp/lesson/frame?userLearningLessonId=77467601&unitId=465691', 'https://avilen.learning-ware.jp/lesson/frame?userLearningLessonId=77467601&unitId=465692', 'https://avilen.learning-ware.jp/lesson/frame?userLearningLessonId=77467601&unitId=465693', 'https://avilen.learning-ware.jp/lesson/frame?userLearningLessonId=77467601&unitId=465694', 'https://avilen.learning-ware.jp/lesson/frame?userLearningLessonId=77467601&unitId=465662', 'https://avilen.learning-ware.jp/lesson/frame?userLearningLessonId=77467601&unitId=471103', 'https://avilen.learning-ware.jp/lesson/frame?userLearningLessonId=77467601&unitId=471104', 'https://avilen.learning-ware.jp/lesson/frame?userLearningLessonId=77467601&unitId=471105', 'https://avilen.learning-ware.jp/lesson/frame?userLearningLessonId=77467601&unitId=471106', 'https://avilen.learning-ware.jp/lesson/frame?userLearningLessonId=77467601&unitId=471107', 'https://avilen.learning-ware.jp/lesson/frame?userLearningLessonId=77467601&unitId=471108', 'https://avilen.learning-ware.jp/lesson/frame?userLearningLessonId=77467601&unitId=471109', 'https://avilen.learning-ware.jp/lesson/frame?userLearningLessonId=77467601&unitId=465699', 'https://avilen.learning-ware.jp/lesson/frame?userLearningLessonId=77467601&unitId=465700', 'https://avilen.learning-ware.jp/lesson/frame?userLearningLessonId=77467601&unitId=465701', 'https://avilen.learning-ware.jp/lesson/frame?userLearningLessonId=77467601&unitId=471113', 'https://avilen.learning-ware.jp/lesson/frame?userLearningLessonId=77467601&unitId=465702', 'https://avilen.learning-ware.jp/lesson/frame?userLearningLessonId=77467601&unitId=465703', 'https://avilen.learning-ware.jp/lesson/frame?userLearningLessonId=77467601&unitId=471363', 'https://avilen.learning-ware.jp/lesson/frame?userLearningLessonId=77467601&unitId=471369', 'https://avilen.learning-ware.jp/lesson/frame?userLearningLessonId=77467601&unitId=471371', 'https://avilen.learning-ware.jp/lesson/frame?userLearningLessonId=77467601&unitId=471466', 'https://avilen.learning-ware.jp/lesson/frame?userLearningLessonId=77467601&unitId=471468', 'https://avilen.learning-ware.jp/lesson/frame?userLearningLessonId=77467601&unitId=471478', 'https://avilen.learning-ware.jp/lesson/frame?userLearningLessonId=77467601&unitId=471479', 'https://avilen.learning-ware.jp/lesson/frame?userLearningLessonId=77467601&unitId=471567', 'https://avilen.learning-ware.jp/lesson/frame?userLearningLessonId=77467601&unitId=471570', 'https://avilen.learning-ware.jp/lesson/frame?userLearningLessonId=77467601&unitId=471573', 'https://avilen.learning-ware.jp/lesson/frame?userLearningLessonId=77467601&unitId=471574', 'https://avilen.learning-ware.jp/lesson/frame?userLearningLessonId=77467601&unitId=465706', 'https://avilen.learning-ware.jp/lesson/frame?userLearningLessonId=77467601&unitId=465663', 'https://avilen.learning-ware.jp/lesson/frame?userLearningLessonId=77467601&unitId=465709', 'https://avilen.learning-ware.jp/lesson/frame?userLearningLessonId=77467601&unitId=470456', 'https://avilen.learning-ware.jp/lesson/frame?userLearningLessonId=77467601&unitId=470462', 'https://avilen.learning-ware.jp/lesson/frame?userLearningLessonId=77467601&unitId=470470', 'https://avilen.learning-ware.jp/lesson/frame?userLearningLessonId=77467601&unitId=470471', 'https://avilen.learning-ware.jp/lesson/frame?userLearningLessonId=77467601&unitId=470472', 'https://avilen.learning-ware.jp/lesson/frame?userLearningLessonId=77467601&unitId=470473', 'https://avilen.learning-ware.jp/lesson/frame?userLearningLessonId=77467601&unitId=470474', 'https://avilen.learning-ware.jp/lesson/frame?userLearningLessonId=77467601&unitId=465711', 'https://avilen.learning-ware.jp/lesson/frame?userLearningLessonId=77467601&unitId=465712', 'https://avilen.learning-ware.jp/lesson/frame?userLearningLessonId=77467601&unitId=470475', 'https://avilen.learning-ware.jp/lesson/frame?userLearningLessonId=77467601&unitId=470476', 'https://avilen.learning-ware.jp/lesson/frame?userLearningLessonId=77467601&unitId=470477', 'https://avilen.learning-ware.jp/lesson/frame?userLearningLessonId=77467601&unitId=470479', 'https://avilen.learning-ware.jp/lesson/frame?userLearningLessonId=77467601&unitId=470480', 'https://avilen.learning-ware.jp/lesson/frame?userLearningLessonId=77467601&unitId=465713', 'https://avilen.learning-ware.jp/lesson/frame?userLearningLessonId=77467601&unitId=465714', 'https://avilen.learning-ware.jp/lesson/frame?userLearningLessonId=77467601&unitId=465715', 'https://avilen.learning-ware.jp/lesson/frame?userLearningLessonId=77467601&unitId=465716', 'https://avilen.learning-ware.jp/lesson/frame?userLearningLessonId=77467601&unitId=465717', 'https://avilen.learning-ware.jp/lesson/frame?userLearningLessonId=77467601&unitId=465664', 'https://avilen.learning-ware.jp/lesson/frame?userLearningLessonId=77467601&unitId=465719', 'https://avilen.learning-ware.jp/lesson/frame?userLearningLessonId=77467601&unitId=465720', 'https://avilen.learning-ware.jp/lesson/frame?userLearningLessonId=77467601&unitId=465721', 'https://avilen.learning-ware.jp/lesson/frame?userLearningLessonId=77467601&unitId=465722', 'https://avilen.learning-ware.jp/lesson/frame?userLearningLessonId=77467601&unitId=470481', 'https://avilen.learning-ware.jp/lesson/frame?userLearningLessonId=77467601&unitId=470482', 'https://avilen.learning-ware.jp/lesson/frame?userLearningLessonId=77467601&unitId=470483', 'https://avilen.learning-ware.jp/lesson/frame?userLearningLessonId=77467601&unitId=470484', 'https://avilen.learning-ware.jp/lesson/frame?userLearningLessonId=77467601&unitId=470485', 'https://avilen.learning-ware.jp/lesson/frame?userLearningLessonId=77467601&unitId=470487', 'https://avilen.learning-ware.jp/lesson/frame?userLearningLessonId=77467601&unitId=470488', 'https://avilen.learning-ware.jp/lesson/frame?userLearningLessonId=77467601&unitId=470490', 'https://avilen.learning-ware.jp/lesson/frame?userLearningLessonId=77467601&unitId=470492', 'https://avilen.learning-ware.jp/lesson/frame?userLearningLessonId=77467601&unitId=470495', 'https://avilen.learning-ware.jp/lesson/frame?userLearningLessonId=77467601&unitId=470496', 'https://avilen.learning-ware.jp/lesson/frame?userLearningLessonId=77467601&unitId=470497', 'https://avilen.learning-ware.jp/lesson/frame?userLearningLessonId=77467601&unitId=470498', 'https://avilen.learning-ware.jp/lesson/frame?userLearningLessonId=77467601&unitId=470499', 'https://avilen.learning-ware.jp/lesson/frame?userLearningLessonId=77467601&unitId=470500', 'https://avilen.learning-ware.jp/lesson/frame?userLearningLessonId=77467601&unitId=470501', 'https://avilen.learning-ware.jp/lesson/frame?userLearningLessonId=77467601&unitId=470502', 'https://avilen.learning-ware.jp/lesson/frame?userLearningLessonId=77467601&unitId=465726', 'https://avilen.learning-ware.jp/lesson/frame?userLearningLessonId=77467601&unitId=465727', 'https://avilen.learning-ware.jp/lesson/frame?userLearningLessonId=77467601&unitId=465728', 'https://avilen.learning-ware.jp/lesson/frame?userLearningLessonId=77467601&unitId=465729', 'https://avilen.learning-ware.jp/lesson/frame?userLearningLessonId=77467601&unitId=465733', 'https://avilen.learning-ware.jp/lesson/frame?userLearningLessonId=77467601&unitId=465730', 'https://avilen.learning-ware.jp/lesson/frame?userLearningLessonId=77467601&unitId=465731', 'https://avilen.learning-ware.jp/lesson/frame?userLearningLessonId=77467601&unitId=465732', 'https://avilen.learning-ware.jp/lesson/frame?userLearningLessonId=77467601&unitId=465665', 'https://avilen.learning-ware.jp/lesson/frame?userLearningLessonId=77467601&unitId=465744', 'https://avilen.learning-ware.jp/lesson/frame?userLearningLessonId=77467601&unitId=465745', 'https://avilen.learning-ware.jp/lesson/frame?userLearningLessonId=77467601&unitId=465746', 'https://avilen.learning-ware.jp/lesson/frame?userLearningLessonId=77467601&unitId=465747', 'https://avilen.learning-ware.jp/lesson/frame?userLearningLessonId=77467601&unitId=465748', 'https://avilen.learning-ware.jp/lesson/frame?userLearningLessonId=77467601&unitId=465749', 'https://avilen.learning-ware.jp/lesson/frame?userLearningLessonId=77467601&unitId=465750', 'https://avilen.learning-ware.jp/lesson/frame?userLearningLessonId=77467601&unitId=465751', 'https://avilen.learning-ware.jp/lesson/frame?userLearningLessonId=77467601&unitId=465752', 'https://avilen.learning-ware.jp/lesson/frame?userLearningLessonId=77467601&unitId=465753', 'https://avilen.learning-ware.jp/lesson/frame?userLearningLessonId=77467601&unitId=465754', 'https://avilen.learning-ware.jp/lesson/frame?userLearningLessonId=77467601&unitId=465666', 'https://avilen.learning-ware.jp/lesson/frame?userLearningLessonId=77467601&unitId=608874', 'https://avilen.learning-ware.jp/lesson/frame?userLearningLessonId=77467601&unitId=465672', 'https://avilen.learning-ware.jp/lesson/frame?userLearningLessonId=77467601&unitId=465755', 'https://avilen.learning-ware.jp/lesson/frame?userLearningLessonId=77467601&unitId=465756', 'https://avilen.learning-ware.jp/lesson/frame?userLearningLessonId=77467601&unitId=465757', 'https://avilen.learning-ware.jp/lesson/frame?userLearningLessonId=77467601&unitId=465758', 'https://avilen.learning-ware.jp/lesson/frame?userLearningLessonId=77467601&unitId=465759', 'https://avilen.learning-ware.jp/lesson/frame?userLearningLessonId=77467601&unitId=465760', 'https://avilen.learning-ware.jp/lesson/frame?userLearningLessonId=77467601&unitId=465761', 'https://avilen.learning-ware.jp/lesson/frame?userLearningLessonId=77467601&unitId=465762', 'https://avilen.learning-ware.jp/lesson/frame?userLearningLessonId=77467601&unitId=465763', 'https://avilen.learning-ware.jp/lesson/frame?userLearningLessonId=77467601&unitId=465764', 'https://avilen.learning-ware.jp/lesson/frame?userLearningLessonId=77467601&unitId=465765', 'https://avilen.learning-ware.jp/lesson/frame?userLearningLessonId=77467601&unitId=465766', 'https://avilen.learning-ware.jp/lesson/frame?userLearningLessonId=77467601&unitId=465767', 'https://avilen.learning-ware.jp/lesson/frame?userLearningLessonId=77467601&unitId=465768', 'https://avilen.learning-ware.jp/lesson/frame?userLearningLessonId=77467601&unitId=465769', 'https://avilen.learning-ware.jp/lesson/frame?userLearningLessonId=77467601&unitId=465770', 'https://avilen.learning-ware.jp/lesson/frame?userLearningLessonId=77467601&unitId=465771', 'https://avilen.learning-ware.jp/lesson/frame?userLearningLessonId=77467601&unitId=465772', 'https://avilen.learning-ware.jp/lesson/frame?userLearningLessonId=77467601&unitId=465773', 'https://avilen.learning-ware.jp/lesson/frame?userLearningLessonId=77467601&unitId=465774', 'https://avilen.learning-ware.jp/lesson/frame?userLearningLessonId=77467601&unitId=609613', 'https://avilen.learning-ware.jp/lesson/frame?userLearningLessonId=77467601&unitId=608872', 'https://avilen.learning-ware.jp/lesson/frame?userLearningLessonId=77467601&unitId=627860', 'https://avilen.learning-ware.jp/lesson/frame?userLearningLessonId=77467601&unitId=627861', 'https://avilen.learning-ware.jp/lesson/frame?userLearningLessonId=77467601&unitId=627862', 'https://avilen.learning-ware.jp/lesson/frame?userLearningLessonId=77467601&unitId=605973', 'https://avilen.learning-ware.jp/lesson/frame?userLearningLessonId=77467601&unitId=606904', 'https://avilen.learning-ware.jp/lesson/frame?userLearningLessonId=77467601&unitId=606910', 'https://avilen.learning-ware.jp/lesson/frame?userLearningLessonId=77467601&unitId=606911', 'https://avilen.learning-ware.jp/lesson/frame?userLearningLessonId=77467601&unitId=606912', 'https://avilen.learning-ware.jp/lesson/frame?userLearningLessonId=77467601&unitId=606913', 'https://avilen.learning-ware.jp/lesson/frame?userLearningLessonId=77467601&unitId=606914', 'https://avilen.learning-ware.jp/lesson/frame?userLearningLessonId=77467601&unitId=606915', 'https://avilen.learning-ware.jp/lesson/frame?userLearningLessonId=77467601&unitId=465738', 'https://avilen.learning-ware.jp/lesson/frame?userLearningLessonId=77467601&unitId=465739', 'https://avilen.learning-ware.jp/lesson/frame?userLearningLessonId=77467601&unitId=465740']\n"
     ]
    }
   ],
   "source": [
    "print(urls)"
   ]
  },
  {
   "cell_type": "code",
   "execution_count": 85,
   "metadata": {},
   "outputs": [],
   "source": [
    "def find_unique_filename(filename):\n",
    "    filename_base, extension = os.path.splitext(filename)\n",
    "    counter = 1\n",
    "\n",
    "    while os.path.exists(filename):\n",
    "        filename = f\"{filename_base}_{counter}{extension}\"\n",
    "        counter += 1\n",
    "\n",
    "    return filename"
   ]
  },
  {
   "cell_type": "code",
   "execution_count": 86,
   "metadata": {},
   "outputs": [
    {
     "data": {
      "text/plain": [
       "'for url in urls[:133]:    \\n    driver.get(url)\\n    file_name = driver.title\\n    wait = WebDriverWait(driver, 3) \\n    \\n    source_element = wait.until(EC.visibility_of_element_located((By.ID, \"sample1\")))\\n    src = source_element.get_attribute(\"src\")\\n    print(src)\\n    driver.get(src)        \\n    try:\\n        stream_video = driver.find_element(By.ID,value=\"streaming_video\")\\n    except Exception as e:        \\n        print(\"nothing found\")\\n        time.sleep(1)\\n    else:\\n        movie_source = stream_video.find_element(By.ID,value=\"movie-source\")        \\n        dl_file = movie_source.get_attribute(\\'src\\')\\n        m3u8_To_MP4.multithread_download(dl_file)\\n       \\n        file_name = find_unique_filename(file_name)\\n\\n        # Renaming the file\\n        os.rename(\"m3u8_To_MP4.mp4\", f\"{file_name}.mp4\")\\n        \\n        print(dl_file)\\n        '"
      ]
     },
     "execution_count": 86,
     "metadata": {},
     "output_type": "execute_result"
    }
   ],
   "source": [
    "\"\"\"for url in urls[:133]:    \n",
    "    driver.get(url)\n",
    "    file_name = driver.title\n",
    "    wait = WebDriverWait(driver, 3) \n",
    "    \n",
    "    source_element = wait.until(EC.visibility_of_element_located((By.ID, \"sample1\")))\n",
    "    src = source_element.get_attribute(\"src\")\n",
    "    print(src)\n",
    "    driver.get(src)        \n",
    "    try:\n",
    "        stream_video = driver.find_element(By.ID,value=\"streaming_video\")\n",
    "    except Exception as e:        \n",
    "        print(\"nothing found\")\n",
    "        time.sleep(1)\n",
    "    else:\n",
    "        movie_source = stream_video.find_element(By.ID,value=\"movie-source\")        \n",
    "        dl_file = movie_source.get_attribute('src')\n",
    "        m3u8_To_MP4.multithread_download(dl_file)\n",
    "       \n",
    "        file_name = find_unique_filename(file_name)\n",
    "\n",
    "        # Renaming the file\n",
    "        os.rename(\"m3u8_To_MP4.mp4\", f\"{file_name}.mp4\")\n",
    "        \n",
    "        print(dl_file)\n",
    "        \"\"\"\n"
   ]
  },
  {
   "cell_type": "code",
   "execution_count": 94,
   "metadata": {},
   "outputs": [
    {
     "name": "stderr",
     "output_type": "stream",
     "text": [
      "2023-06-18 18:02:58,030 | INFO | Resolved available hosts:\n",
      "2023-06-18 18:02:58,031 | INFO | 151.101.110.225:443\n"
     ]
    },
    {
     "name": "stdout",
     "output_type": "stream",
     "text": [
      "https://p-movie.learning-ware.jp/hls-vod/p-movie/530/a76927d2d84bcb92f8d64c6cc92c636751925e40/90837.mp4.m3u8\n",
      "\n",
      "summary\n",
      "m3u8_uri: https://p-movie.learning-ware.jp/hls-vod/p-movie/530/a76927d2d84bcb92f8d64c6cc92c636751925e40/90837.mp4.m3u8;\n",
      "max_retry_times: 3;\n",
      "tmp_dir: C:\\Users\\jerem\\AppData\\Local\\Temp\\m3u8_504408027;\n",
      "mp4_file_path: ./m3u8_To_MP42023-06-18 18-02-58410581.mp4;\n",
      "\n",
      "segment set: |##################################################| 100.0% downloaded segments successfully!\n"
     ]
    },
    {
     "name": "stderr",
     "output_type": "stream",
     "text": [
      "2023-06-18 18:02:59,503 | INFO | decrypt and dump segments...\n",
      "2023-06-18 18:02:59,548 | INFO | merging segments...\n",
      "2023-06-18 18:03:00,957 | INFO | download successfully！ take 2.94s,  average download speed is 25012.76KB/s\n",
      "2023-06-18 18:03:02,386 | INFO | Resolved available hosts:\n",
      "2023-06-18 18:03:02,386 | INFO | 151.101.110.225:443\n"
     ]
    },
    {
     "name": "stdout",
     "output_type": "stream",
     "text": [
      "https://p-movie.learning-ware.jp/hls-vod/p-movie/530/5b31301f33f265316b09d39893f345635d40e299/90833.mp4.m3u8\n",
      "\n",
      "summary\n",
      "m3u8_uri: https://p-movie.learning-ware.jp/hls-vod/p-movie/530/5b31301f33f265316b09d39893f345635d40e299/90833.mp4.m3u8;\n",
      "max_retry_times: 3;\n",
      "tmp_dir: C:\\Users\\jerem\\AppData\\Local\\Temp\\m3u8_250963189;\n",
      "mp4_file_path: ./m3u8_To_MP4.mp4;\n",
      "\n",
      "segment set: |##################################################| 100.0% downloaded segments successfully!\n"
     ]
    },
    {
     "name": "stderr",
     "output_type": "stream",
     "text": [
      "2023-06-18 18:03:03,119 | INFO | decrypt and dump segments...\n",
      "2023-06-18 18:03:03,129 | INFO | merging segments...\n",
      "2023-06-18 18:03:03,564 | INFO | download successfully！ take 1.18s,  average download speed is 17975.31KB/s\n",
      "2023-06-18 18:03:05,035 | INFO | Resolved available hosts:\n",
      "2023-06-18 18:03:05,036 | INFO | 151.101.110.225:443\n"
     ]
    },
    {
     "name": "stdout",
     "output_type": "stream",
     "text": [
      "https://p-movie.learning-ware.jp/hls-vod/p-movie/530/b2deec37e9bced3138dcf753b769f4177969d54b/90836.mp4.m3u8\n",
      "\n",
      "summary\n",
      "m3u8_uri: https://p-movie.learning-ware.jp/hls-vod/p-movie/530/b2deec37e9bced3138dcf753b769f4177969d54b/90836.mp4.m3u8;\n",
      "max_retry_times: 3;\n",
      "tmp_dir: C:\\Users\\jerem\\AppData\\Local\\Temp\\m3u8_141219325;\n",
      "mp4_file_path: ./m3u8_To_MP4.mp4;\n",
      "\n",
      "segment set: |##################################################| 100.0% downloaded segments successfully!\n"
     ]
    },
    {
     "name": "stderr",
     "output_type": "stream",
     "text": [
      "2023-06-18 18:03:05,413 | INFO | decrypt and dump segments...\n",
      "2023-06-18 18:03:05,418 | INFO | merging segments...\n",
      "2023-06-18 18:03:05,615 | INFO | download successfully！ take 0.58s,  average download speed is 10699.20KB/s\n",
      "2023-06-18 18:03:07,109 | INFO | Resolved available hosts:\n",
      "2023-06-18 18:03:07,110 | INFO | 151.101.110.225:443\n"
     ]
    },
    {
     "name": "stdout",
     "output_type": "stream",
     "text": [
      "https://p-movie.learning-ware.jp/hls-vod/p-movie/530/c59302d839f6bc56162276413f9900dd519d08fd/90839.mp4.m3u8\n",
      "\n",
      "summary\n",
      "m3u8_uri: https://p-movie.learning-ware.jp/hls-vod/p-movie/530/c59302d839f6bc56162276413f9900dd519d08fd/90839.mp4.m3u8;\n",
      "max_retry_times: 3;\n",
      "tmp_dir: C:\\Users\\jerem\\AppData\\Local\\Temp\\m3u8_3842629848;\n",
      "mp4_file_path: ./m3u8_To_MP4.mp4;\n",
      "\n",
      "segment set: |##################################################| 100.0% downloaded segments successfully!\n"
     ]
    },
    {
     "name": "stderr",
     "output_type": "stream",
     "text": [
      "2023-06-18 18:03:08,306 | INFO | decrypt and dump segments...\n",
      "2023-06-18 18:03:08,323 | INFO | merging segments...\n",
      "2023-06-18 18:03:08,956 | INFO | download successfully！ take 1.85s,  average download speed is 21504.01KB/s\n",
      "2023-06-18 18:03:10,303 | INFO | Resolved available hosts:\n",
      "2023-06-18 18:03:10,304 | INFO | 151.101.110.225:443\n"
     ]
    },
    {
     "name": "stdout",
     "output_type": "stream",
     "text": [
      "https://p-movie.learning-ware.jp/hls-vod/p-movie/530/d511c1b88f5611c76060f8b5d3511060b23fccba/106474.mp4.m3u8\n",
      "\n",
      "summary\n",
      "m3u8_uri: https://p-movie.learning-ware.jp/hls-vod/p-movie/530/d511c1b88f5611c76060f8b5d3511060b23fccba/106474.mp4.m3u8;\n",
      "max_retry_times: 3;\n",
      "tmp_dir: C:\\Users\\jerem\\AppData\\Local\\Temp\\m3u8_3580053908;\n",
      "mp4_file_path: ./m3u8_To_MP4.mp4;\n",
      "\n",
      "segment set: |##################################################| 100.0% downloaded segments successfully!\n"
     ]
    },
    {
     "name": "stderr",
     "output_type": "stream",
     "text": [
      "2023-06-18 18:03:10,994 | INFO | decrypt and dump segments...\n",
      "2023-06-18 18:03:11,006 | INFO | merging segments...\n",
      "2023-06-18 18:03:11,534 | INFO | download successfully！ take 1.23s,  average download speed is 15586.08KB/s\n",
      "2023-06-18 18:03:12,980 | INFO | Resolved available hosts:\n",
      "2023-06-18 18:03:12,980 | INFO | 151.101.110.225:443\n"
     ]
    },
    {
     "name": "stdout",
     "output_type": "stream",
     "text": [
      "https://p-movie.learning-ware.jp/hls-vod/p-movie/530/baf6c999043517017f770aa5097d1f7cc3c0b8ea/106475.mp4.m3u8\n",
      "\n",
      "summary\n",
      "m3u8_uri: https://p-movie.learning-ware.jp/hls-vod/p-movie/530/baf6c999043517017f770aa5097d1f7cc3c0b8ea/106475.mp4.m3u8;\n",
      "max_retry_times: 3;\n",
      "tmp_dir: C:\\Users\\jerem\\AppData\\Local\\Temp\\m3u8_4285597290;\n",
      "mp4_file_path: ./m3u8_To_MP4.mp4;\n",
      "\n",
      "segment set: |##################################################| 100.0% downloaded segments successfully!\n"
     ]
    },
    {
     "name": "stderr",
     "output_type": "stream",
     "text": [
      "2023-06-18 18:03:15,349 | INFO | decrypt and dump segments...\n",
      "2023-06-18 18:03:15,359 | INFO | merging segments...\n",
      "2023-06-18 18:03:15,729 | INFO | download successfully！ take 2.75s,  average download speed is 3421.27KB/s\n",
      "2023-06-18 18:03:17,168 | INFO | Resolved available hosts:\n",
      "2023-06-18 18:03:17,168 | INFO | 151.101.110.225:443\n"
     ]
    },
    {
     "name": "stdout",
     "output_type": "stream",
     "text": [
      "https://p-movie.learning-ware.jp/hls-vod/p-movie/530/c0b881d6deb8713105636803de6e9fbec451526c/106477.mp4.m3u8\n",
      "\n",
      "summary\n",
      "m3u8_uri: https://p-movie.learning-ware.jp/hls-vod/p-movie/530/c0b881d6deb8713105636803de6e9fbec451526c/106477.mp4.m3u8;\n",
      "max_retry_times: 3;\n",
      "tmp_dir: C:\\Users\\jerem\\AppData\\Local\\Temp\\m3u8_2681372004;\n",
      "mp4_file_path: ./m3u8_To_MP4.mp4;\n",
      "\n",
      "segment set: |##################################################| 100.0% downloaded segments successfully!\n"
     ]
    },
    {
     "name": "stderr",
     "output_type": "stream",
     "text": [
      "2023-06-18 18:03:17,680 | INFO | decrypt and dump segments...\n",
      "2023-06-18 18:03:17,694 | INFO | merging segments...\n",
      "2023-06-18 18:03:18,147 | INFO | download successfully！ take 0.98s,  average download speed is 17871.87KB/s\n",
      "2023-06-18 18:03:19,429 | INFO | Resolved available hosts:\n",
      "2023-06-18 18:03:19,430 | INFO | 151.101.110.225:443\n"
     ]
    },
    {
     "name": "stdout",
     "output_type": "stream",
     "text": [
      "https://p-movie.learning-ware.jp/hls-vod/p-movie/530/63e4533f4f38ba51d57f8b96a9ece899db7a7154/106478.mp4.m3u8\n",
      "\n",
      "summary\n",
      "m3u8_uri: https://p-movie.learning-ware.jp/hls-vod/p-movie/530/63e4533f4f38ba51d57f8b96a9ece899db7a7154/106478.mp4.m3u8;\n",
      "max_retry_times: 3;\n",
      "tmp_dir: C:\\Users\\jerem\\AppData\\Local\\Temp\\m3u8_2873504580;\n",
      "mp4_file_path: ./m3u8_To_MP4.mp4;\n",
      "\n",
      "segment set: |##################################################| 100.0% downloaded segments successfully!\n"
     ]
    },
    {
     "name": "stderr",
     "output_type": "stream",
     "text": [
      "2023-06-18 18:03:20,204 | INFO | decrypt and dump segments...\n",
      "2023-06-18 18:03:20,234 | INFO | merging segments...\n",
      "2023-06-18 18:03:20,879 | INFO | download successfully！ take 1.45s,  average download speed is 17757.64KB/s\n",
      "2023-06-18 18:03:22,274 | INFO | Resolved available hosts:\n",
      "2023-06-18 18:03:22,275 | INFO | 151.101.110.225:443\n"
     ]
    },
    {
     "name": "stdout",
     "output_type": "stream",
     "text": [
      "https://p-movie.learning-ware.jp/hls-vod/p-movie/530/3bc5434c15763f4aa0e24770ea79e2ebe7962788/106480.mp4.m3u8\n",
      "\n",
      "summary\n",
      "m3u8_uri: https://p-movie.learning-ware.jp/hls-vod/p-movie/530/3bc5434c15763f4aa0e24770ea79e2ebe7962788/106480.mp4.m3u8;\n",
      "max_retry_times: 3;\n",
      "tmp_dir: C:\\Users\\jerem\\AppData\\Local\\Temp\\m3u8_2718515248;\n",
      "mp4_file_path: ./m3u8_To_MP4.mp4;\n",
      "\n",
      "segment set: |##################################################| 100.0% downloaded segments successfully!\n"
     ]
    },
    {
     "name": "stderr",
     "output_type": "stream",
     "text": [
      "2023-06-18 18:03:22,750 | INFO | decrypt and dump segments...\n",
      "2023-06-18 18:03:22,764 | INFO | merging segments...\n",
      "2023-06-18 18:03:23,297 | INFO | download successfully！ take 1.02s,  average download speed is 24167.78KB/s\n",
      "2023-06-18 18:03:24,727 | INFO | Resolved available hosts:\n",
      "2023-06-18 18:03:24,727 | INFO | 151.101.110.225:443\n"
     ]
    },
    {
     "name": "stdout",
     "output_type": "stream",
     "text": [
      "https://p-movie.learning-ware.jp/hls-vod/p-movie/530/0101fc270fa181110f9c5088747df061d99649aa/90840.mp4.m3u8\n",
      "\n",
      "summary\n",
      "m3u8_uri: https://p-movie.learning-ware.jp/hls-vod/p-movie/530/0101fc270fa181110f9c5088747df061d99649aa/90840.mp4.m3u8;\n",
      "max_retry_times: 3;\n",
      "tmp_dir: C:\\Users\\jerem\\AppData\\Local\\Temp\\m3u8_1457609270;\n",
      "mp4_file_path: ./m3u8_To_MP4.mp4;\n",
      "\n",
      "segment set: |##################################################| 100.0% downloaded segments successfully!\n"
     ]
    },
    {
     "name": "stderr",
     "output_type": "stream",
     "text": [
      "2023-06-18 18:03:26,968 | INFO | decrypt and dump segments...\n",
      "2023-06-18 18:03:27,040 | INFO | merging segments...\n",
      "2023-06-18 18:03:29,287 | INFO | download successfully！ take 4.56s,  average download speed is 42254.51KB/s\n",
      "2023-06-18 18:03:30,816 | INFO | Resolved available hosts:\n",
      "2023-06-18 18:03:30,817 | INFO | 151.101.110.225:443\n"
     ]
    },
    {
     "name": "stdout",
     "output_type": "stream",
     "text": [
      "https://p-movie.learning-ware.jp/hls-vod/p-movie/530/b4aa13731ef56187949737c4d0bd4ceb032f46bb/90835.mp4.m3u8\n",
      "\n",
      "summary\n",
      "m3u8_uri: https://p-movie.learning-ware.jp/hls-vod/p-movie/530/b4aa13731ef56187949737c4d0bd4ceb032f46bb/90835.mp4.m3u8;\n",
      "max_retry_times: 3;\n",
      "tmp_dir: C:\\Users\\jerem\\AppData\\Local\\Temp\\m3u8_1221497430;\n",
      "mp4_file_path: ./m3u8_To_MP4.mp4;\n",
      "\n",
      "segment set: |##################################################| 100.0% downloaded segments successfully!\n"
     ]
    },
    {
     "name": "stderr",
     "output_type": "stream",
     "text": [
      "2023-06-18 18:03:31,303 | INFO | decrypt and dump segments...\n",
      "2023-06-18 18:03:31,312 | INFO | merging segments...\n",
      "2023-06-18 18:03:31,716 | INFO | download successfully！ take 0.92s,  average download speed is 17447.36KB/s\n"
     ]
    },
    {
     "name": "stdout",
     "output_type": "stream",
     "text": [
      "nothing found\n"
     ]
    },
    {
     "name": "stderr",
     "output_type": "stream",
     "text": [
      "2023-06-18 18:03:34,990 | INFO | Resolved available hosts:\n",
      "2023-06-18 18:03:34,991 | INFO | 151.101.110.225:443\n"
     ]
    },
    {
     "name": "stdout",
     "output_type": "stream",
     "text": [
      "https://p-movie.learning-ware.jp/hls-vod/p-movie/530/a47baad4590fe04191f1ff114f6be3af4ccdf118/90845.mp4.m3u8\n",
      "\n",
      "summary\n",
      "m3u8_uri: https://p-movie.learning-ware.jp/hls-vod/p-movie/530/a47baad4590fe04191f1ff114f6be3af4ccdf118/90845.mp4.m3u8;\n",
      "max_retry_times: 3;\n",
      "tmp_dir: C:\\Users\\jerem\\AppData\\Local\\Temp\\m3u8_1297662438;\n",
      "mp4_file_path: ./m3u8_To_MP4.mp4;\n",
      "\n",
      "segment set: |##################################################| 100.0% downloaded segments successfully!\n"
     ]
    },
    {
     "name": "stderr",
     "output_type": "stream",
     "text": [
      "2023-06-18 18:03:36,852 | INFO | decrypt and dump segments...\n",
      "2023-06-18 18:03:36,912 | INFO | merging segments...\n",
      "2023-06-18 18:03:39,075 | INFO | download successfully！ take 4.09s,  average download speed is 43166.10KB/s\n",
      "2023-06-18 18:03:40,536 | INFO | Resolved available hosts:\n",
      "2023-06-18 18:03:40,537 | INFO | 151.101.110.225:443\n"
     ]
    },
    {
     "name": "stdout",
     "output_type": "stream",
     "text": [
      "https://p-movie.learning-ware.jp/hls-vod/p-movie/530/cf6d29a9d821eba0d44dbbd43b84b0ac7b07fbe8/90847.mp4.m3u8\n",
      "\n",
      "summary\n",
      "m3u8_uri: https://p-movie.learning-ware.jp/hls-vod/p-movie/530/cf6d29a9d821eba0d44dbbd43b84b0ac7b07fbe8/90847.mp4.m3u8;\n",
      "max_retry_times: 3;\n",
      "tmp_dir: C:\\Users\\jerem\\AppData\\Local\\Temp\\m3u8_1474498215;\n",
      "mp4_file_path: ./m3u8_To_MP4.mp4;\n",
      "\n",
      "segment set: |##################################################| 100.0% downloaded segments successfully!\n"
     ]
    },
    {
     "name": "stderr",
     "output_type": "stream",
     "text": [
      "2023-06-18 18:03:42,241 | INFO | decrypt and dump segments...\n",
      "2023-06-18 18:03:42,294 | INFO | merging segments...\n",
      "2023-06-18 18:03:44,109 | INFO | download successfully！ take 3.57s,  average download speed is 42294.42KB/s\n",
      "2023-06-18 18:03:45,718 | INFO | Resolved available hosts:\n",
      "2023-06-18 18:03:45,719 | INFO | 151.101.110.225:443\n"
     ]
    },
    {
     "name": "stdout",
     "output_type": "stream",
     "text": [
      "https://p-movie.learning-ware.jp/hls-vod/p-movie/530/51ab526f504ed3ff741dc77b5bf3969d3a8ff061/90848.mp4.m3u8\n",
      "\n",
      "summary\n",
      "m3u8_uri: https://p-movie.learning-ware.jp/hls-vod/p-movie/530/51ab526f504ed3ff741dc77b5bf3969d3a8ff061/90848.mp4.m3u8;\n",
      "max_retry_times: 3;\n",
      "tmp_dir: C:\\Users\\jerem\\AppData\\Local\\Temp\\m3u8_1598965099;\n",
      "mp4_file_path: ./m3u8_To_MP4.mp4;\n",
      "\n",
      "segment set: |##################################################| 100.0% downloaded segments successfully!\n"
     ]
    },
    {
     "name": "stderr",
     "output_type": "stream",
     "text": [
      "2023-06-18 18:03:47,249 | INFO | decrypt and dump segments...\n",
      "2023-06-18 18:03:47,300 | INFO | merging segments...\n",
      "2023-06-18 18:03:49,122 | INFO | download successfully！ take 3.41s,  average download speed is 50233.80KB/s\n",
      "2023-06-18 18:03:50,921 | INFO | Resolved available hosts:\n",
      "2023-06-18 18:03:50,921 | INFO | 151.101.110.225:443\n"
     ]
    },
    {
     "name": "stdout",
     "output_type": "stream",
     "text": [
      "https://p-movie.learning-ware.jp/hls-vod/p-movie/530/a04d8a175cee2f7e5a994e088ab0b71e86515c97/90841.mp4.m3u8\n",
      "\n",
      "summary\n",
      "m3u8_uri: https://p-movie.learning-ware.jp/hls-vod/p-movie/530/a04d8a175cee2f7e5a994e088ab0b71e86515c97/90841.mp4.m3u8;\n",
      "max_retry_times: 3;\n",
      "tmp_dir: C:\\Users\\jerem\\AppData\\Local\\Temp\\m3u8_126940426;\n",
      "mp4_file_path: ./m3u8_To_MP4.mp4;\n",
      "\n",
      "segment set: |##################################################| 100.0% downloaded segments successfully!\n"
     ]
    },
    {
     "name": "stderr",
     "output_type": "stream",
     "text": [
      "2023-06-18 18:03:52,420 | INFO | decrypt and dump segments...\n",
      "2023-06-18 18:03:52,468 | INFO | merging segments...\n",
      "2023-06-18 18:03:53,923 | INFO | download successfully！ take 3.00s,  average download speed is 39513.98KB/s\n",
      "2023-06-18 18:03:55,255 | INFO | Resolved available hosts:\n",
      "2023-06-18 18:03:55,256 | INFO | 151.101.110.225:443\n"
     ]
    },
    {
     "name": "stdout",
     "output_type": "stream",
     "text": [
      "https://p-movie.learning-ware.jp/hls-vod/p-movie/530/3d772a062f4aac61c77d1adbdae8e3d716200124/90849.mp4.m3u8\n",
      "\n",
      "summary\n",
      "m3u8_uri: https://p-movie.learning-ware.jp/hls-vod/p-movie/530/3d772a062f4aac61c77d1adbdae8e3d716200124/90849.mp4.m3u8;\n",
      "max_retry_times: 3;\n",
      "tmp_dir: C:\\Users\\jerem\\AppData\\Local\\Temp\\m3u8_3700417849;\n",
      "mp4_file_path: ./m3u8_To_MP4.mp4;\n",
      "\n",
      "segment set: |##################################################| 100.0% downloaded segments successfully!\n"
     ]
    },
    {
     "name": "stderr",
     "output_type": "stream",
     "text": [
      "2023-06-18 18:03:57,242 | INFO | decrypt and dump segments...\n",
      "2023-06-18 18:03:57,289 | INFO | merging segments...\n",
      "2023-06-18 18:03:58,876 | INFO | download successfully！ take 3.62s,  average download speed is 33516.28KB/s\n",
      "2023-06-18 18:04:00,627 | INFO | Resolved available hosts:\n",
      "2023-06-18 18:04:00,629 | INFO | 151.101.110.225:443\n"
     ]
    },
    {
     "name": "stdout",
     "output_type": "stream",
     "text": [
      "https://p-movie.learning-ware.jp/hls-vod/p-movie/530/6e428aed954f170bf098faf5e930b003c7be1a88/90846.mp4.m3u8\n",
      "\n",
      "summary\n",
      "m3u8_uri: https://p-movie.learning-ware.jp/hls-vod/p-movie/530/6e428aed954f170bf098faf5e930b003c7be1a88/90846.mp4.m3u8;\n",
      "max_retry_times: 3;\n",
      "tmp_dir: C:\\Users\\jerem\\AppData\\Local\\Temp\\m3u8_140879820;\n",
      "mp4_file_path: ./m3u8_To_MP4.mp4;\n",
      "\n",
      "segment set: |##################################################| 100.0% downloaded segments successfully!\n"
     ]
    },
    {
     "name": "stderr",
     "output_type": "stream",
     "text": [
      "2023-06-18 18:04:02,366 | INFO | decrypt and dump segments...\n",
      "2023-06-18 18:04:02,403 | INFO | merging segments...\n",
      "2023-06-18 18:04:03,759 | INFO | download successfully！ take 3.15s,  average download speed is 29544.50KB/s\n",
      "2023-06-18 18:04:05,160 | INFO | Resolved available hosts:\n",
      "2023-06-18 18:04:05,161 | INFO | 151.101.110.225:443\n"
     ]
    },
    {
     "name": "stdout",
     "output_type": "stream",
     "text": [
      "https://p-movie.learning-ware.jp/hls-vod/p-movie/530/b29908232525232f675e65220935561c91e46fb4/90842.mp4.m3u8\n",
      "\n",
      "summary\n",
      "m3u8_uri: https://p-movie.learning-ware.jp/hls-vod/p-movie/530/b29908232525232f675e65220935561c91e46fb4/90842.mp4.m3u8;\n",
      "max_retry_times: 3;\n",
      "tmp_dir: C:\\Users\\jerem\\AppData\\Local\\Temp\\m3u8_2005437733;\n",
      "mp4_file_path: ./m3u8_To_MP4.mp4;\n",
      "\n",
      "segment set: |##################################################| 100.0% downloaded segments successfully!\n"
     ]
    },
    {
     "name": "stderr",
     "output_type": "stream",
     "text": [
      "2023-06-18 18:04:06,693 | INFO | decrypt and dump segments...\n",
      "2023-06-18 18:04:06,739 | INFO | merging segments...\n",
      "2023-06-18 18:04:08,327 | INFO | download successfully！ take 3.17s,  average download speed is 38357.58KB/s\n",
      "2023-06-18 18:04:09,728 | INFO | Resolved available hosts:\n",
      "2023-06-18 18:04:09,729 | INFO | 151.101.110.225:443\n"
     ]
    },
    {
     "name": "stdout",
     "output_type": "stream",
     "text": [
      "https://p-movie.learning-ware.jp/hls-vod/p-movie/530/80eb85946dd842dd34fe5f90cc26f78e31e60761/90851.mp4.m3u8\n",
      "\n",
      "summary\n",
      "m3u8_uri: https://p-movie.learning-ware.jp/hls-vod/p-movie/530/80eb85946dd842dd34fe5f90cc26f78e31e60761/90851.mp4.m3u8;\n",
      "max_retry_times: 3;\n",
      "tmp_dir: C:\\Users\\jerem\\AppData\\Local\\Temp\\m3u8_1935304288;\n",
      "mp4_file_path: ./m3u8_To_MP4.mp4;\n",
      "\n",
      "segment set: |##################################################| 100.0% downloaded segments successfully!\n"
     ]
    },
    {
     "name": "stderr",
     "output_type": "stream",
     "text": [
      "2023-06-18 18:04:11,434 | INFO | decrypt and dump segments...\n",
      "2023-06-18 18:04:11,489 | INFO | merging segments...\n",
      "2023-06-18 18:04:12,953 | INFO | download successfully！ take 3.23s,  average download speed is 37170.79KB/s\n",
      "2023-06-18 18:04:14,393 | INFO | Resolved available hosts:\n",
      "2023-06-18 18:04:14,394 | INFO | 151.101.110.225:443\n"
     ]
    },
    {
     "name": "stdout",
     "output_type": "stream",
     "text": [
      "https://p-movie.learning-ware.jp/hls-vod/p-movie/530/e529b0e07a768b2e680ecb4e3cca33a5bc9fcb8f/90855.mp4.m3u8\n",
      "\n",
      "summary\n",
      "m3u8_uri: https://p-movie.learning-ware.jp/hls-vod/p-movie/530/e529b0e07a768b2e680ecb4e3cca33a5bc9fcb8f/90855.mp4.m3u8;\n",
      "max_retry_times: 3;\n",
      "tmp_dir: C:\\Users\\jerem\\AppData\\Local\\Temp\\m3u8_1207096386;\n",
      "mp4_file_path: ./m3u8_To_MP4.mp4;\n",
      "\n",
      "segment set: |##################################################| 100.0% downloaded segments successfully!\n"
     ]
    },
    {
     "name": "stderr",
     "output_type": "stream",
     "text": [
      "2023-06-18 18:04:15,515 | INFO | decrypt and dump segments...\n",
      "2023-06-18 18:04:15,549 | INFO | merging segments...\n",
      "2023-06-18 18:04:16,737 | INFO | download successfully！ take 2.35s,  average download speed is 40944.94KB/s\n",
      "2023-06-18 18:04:18,173 | INFO | Resolved available hosts:\n",
      "2023-06-18 18:04:18,174 | INFO | 151.101.110.225:443\n"
     ]
    },
    {
     "name": "stdout",
     "output_type": "stream",
     "text": [
      "https://p-movie.learning-ware.jp/hls-vod/p-movie/530/e29b20320bf3ccd2048c4d0b0682c0169819def8/90854.mp4.m3u8\n",
      "\n",
      "summary\n",
      "m3u8_uri: https://p-movie.learning-ware.jp/hls-vod/p-movie/530/e29b20320bf3ccd2048c4d0b0682c0169819def8/90854.mp4.m3u8;\n",
      "max_retry_times: 3;\n",
      "tmp_dir: C:\\Users\\jerem\\AppData\\Local\\Temp\\m3u8_2918978621;\n",
      "mp4_file_path: ./m3u8_To_MP4.mp4;\n",
      "\n",
      "segment set: |##################################################| 100.0% downloaded segments successfully!\n"
     ]
    },
    {
     "name": "stderr",
     "output_type": "stream",
     "text": [
      "2023-06-18 18:04:20,281 | INFO | decrypt and dump segments...\n",
      "2023-06-18 18:04:20,336 | INFO | merging segments...\n",
      "2023-06-18 18:04:22,314 | INFO | download successfully！ take 4.14s,  average download speed is 40404.30KB/s\n",
      "2023-06-18 18:04:23,820 | INFO | Resolved available hosts:\n",
      "2023-06-18 18:04:23,821 | INFO | 151.101.110.225:443\n"
     ]
    },
    {
     "name": "stdout",
     "output_type": "stream",
     "text": [
      "https://p-movie.learning-ware.jp/hls-vod/p-movie/530/fb7cdce417d99e136b377d17a2689df6bebf65ae/90858.mp4.m3u8\n",
      "\n",
      "summary\n",
      "m3u8_uri: https://p-movie.learning-ware.jp/hls-vod/p-movie/530/fb7cdce417d99e136b377d17a2689df6bebf65ae/90858.mp4.m3u8;\n",
      "max_retry_times: 3;\n",
      "tmp_dir: C:\\Users\\jerem\\AppData\\Local\\Temp\\m3u8_2570207400;\n",
      "mp4_file_path: ./m3u8_To_MP4.mp4;\n",
      "\n",
      "segment set: |##################################################| 100.0% downloaded segments successfully!\n"
     ]
    },
    {
     "name": "stderr",
     "output_type": "stream",
     "text": [
      "2023-06-18 18:04:25,461 | INFO | decrypt and dump segments...\n",
      "2023-06-18 18:04:25,508 | INFO | merging segments...\n",
      "2023-06-18 18:04:27,031 | INFO | download successfully！ take 3.21s,  average download speed is 40773.57KB/s\n",
      "2023-06-18 18:04:28,452 | INFO | Resolved available hosts:\n",
      "2023-06-18 18:04:28,452 | INFO | 151.101.110.225:443\n"
     ]
    },
    {
     "name": "stdout",
     "output_type": "stream",
     "text": [
      "https://p-movie.learning-ware.jp/hls-vod/p-movie/530/81950ff2dcff4916d04761001c7329dcfa3b3dc4/90852.mp4.m3u8\n",
      "\n",
      "summary\n",
      "m3u8_uri: https://p-movie.learning-ware.jp/hls-vod/p-movie/530/81950ff2dcff4916d04761001c7329dcfa3b3dc4/90852.mp4.m3u8;\n",
      "max_retry_times: 3;\n",
      "tmp_dir: C:\\Users\\jerem\\AppData\\Local\\Temp\\m3u8_3495229696;\n",
      "mp4_file_path: ./m3u8_To_MP4.mp4;\n",
      "\n",
      "segment set: |##################################################| 100.0% downloaded segments successfully!\n"
     ]
    },
    {
     "name": "stderr",
     "output_type": "stream",
     "text": [
      "2023-06-18 18:04:29,510 | INFO | decrypt and dump segments...\n",
      "2023-06-18 18:04:29,532 | INFO | merging segments...\n",
      "2023-06-18 18:04:30,170 | INFO | download successfully！ take 1.72s,  average download speed is 22199.80KB/s\n",
      "2023-06-18 18:04:31,626 | INFO | Resolved available hosts:\n",
      "2023-06-18 18:04:31,627 | INFO | 151.101.110.225:443\n"
     ]
    },
    {
     "name": "stdout",
     "output_type": "stream",
     "text": [
      "https://p-movie.learning-ware.jp/hls-vod/p-movie/530/2c0261f8ed95d465f1226de98213106d0b21878a/90850.mp4.m3u8\n",
      "\n",
      "summary\n",
      "m3u8_uri: https://p-movie.learning-ware.jp/hls-vod/p-movie/530/2c0261f8ed95d465f1226de98213106d0b21878a/90850.mp4.m3u8;\n",
      "max_retry_times: 3;\n",
      "tmp_dir: C:\\Users\\jerem\\AppData\\Local\\Temp\\m3u8_1108615581;\n",
      "mp4_file_path: ./m3u8_To_MP4.mp4;\n",
      "\n",
      "segment set: |##################################################| 100.0% downloaded segments successfully!\n"
     ]
    },
    {
     "name": "stderr",
     "output_type": "stream",
     "text": [
      "2023-06-18 18:04:32,639 | INFO | decrypt and dump segments...\n",
      "2023-06-18 18:04:32,661 | INFO | merging segments...\n",
      "2023-06-18 18:04:33,458 | INFO | download successfully！ take 1.85s,  average download speed is 25934.27KB/s\n",
      "2023-06-18 18:04:35,084 | INFO | Resolved available hosts:\n",
      "2023-06-18 18:04:35,085 | INFO | 151.101.110.225:443\n"
     ]
    },
    {
     "name": "stdout",
     "output_type": "stream",
     "text": [
      "https://p-movie.learning-ware.jp/hls-vod/p-movie/530/a0bec9831fe6eb320d0feb0421100a901b5bc2a5/90853.mp4.m3u8\n",
      "\n",
      "summary\n",
      "m3u8_uri: https://p-movie.learning-ware.jp/hls-vod/p-movie/530/a0bec9831fe6eb320d0feb0421100a901b5bc2a5/90853.mp4.m3u8;\n",
      "max_retry_times: 3;\n",
      "tmp_dir: C:\\Users\\jerem\\AppData\\Local\\Temp\\m3u8_3229194083;\n",
      "mp4_file_path: ./m3u8_To_MP4.mp4;\n",
      "\n",
      "segment set: |##################################################| 100.0% downloaded segments successfully!\n"
     ]
    },
    {
     "name": "stderr",
     "output_type": "stream",
     "text": [
      "2023-06-18 18:04:36,664 | INFO | decrypt and dump segments...\n",
      "2023-06-18 18:04:36,702 | INFO | merging segments...\n",
      "2023-06-18 18:04:38,162 | INFO | download successfully！ take 3.08s,  average download speed is 36193.06KB/s\n",
      "2023-06-18 18:04:39,573 | INFO | Resolved available hosts:\n",
      "2023-06-18 18:04:39,573 | INFO | 151.101.110.225:443\n"
     ]
    },
    {
     "name": "stdout",
     "output_type": "stream",
     "text": [
      "https://p-movie.learning-ware.jp/hls-vod/p-movie/530/ff71aaf76297a1f7a857214484fcf2e1c958d949/90859.mp4.m3u8\n",
      "\n",
      "summary\n",
      "m3u8_uri: https://p-movie.learning-ware.jp/hls-vod/p-movie/530/ff71aaf76297a1f7a857214484fcf2e1c958d949/90859.mp4.m3u8;\n",
      "max_retry_times: 3;\n",
      "tmp_dir: C:\\Users\\jerem\\AppData\\Local\\Temp\\m3u8_657363712;\n",
      "mp4_file_path: ./m3u8_To_MP4.mp4;\n",
      "\n",
      "segment set: |##################################################| 100.0% downloaded segments successfully!\n"
     ]
    },
    {
     "name": "stderr",
     "output_type": "stream",
     "text": [
      "2023-06-18 18:04:41,733 | INFO | decrypt and dump segments...\n",
      "2023-06-18 18:04:41,800 | INFO | merging segments...\n",
      "2023-06-18 18:04:43,873 | INFO | download successfully！ take 4.30s,  average download speed is 41097.90KB/s\n",
      "2023-06-18 18:04:45,392 | INFO | Resolved available hosts:\n",
      "2023-06-18 18:04:45,392 | INFO | 151.101.110.225:443\n"
     ]
    },
    {
     "name": "stdout",
     "output_type": "stream",
     "text": [
      "https://p-movie.learning-ware.jp/hls-vod/p-movie/530/bf5e2ab7a6027e8383605f8d25007c0b06418f86/90857.mp4.m3u8\n",
      "\n",
      "summary\n",
      "m3u8_uri: https://p-movie.learning-ware.jp/hls-vod/p-movie/530/bf5e2ab7a6027e8383605f8d25007c0b06418f86/90857.mp4.m3u8;\n",
      "max_retry_times: 3;\n",
      "tmp_dir: C:\\Users\\jerem\\AppData\\Local\\Temp\\m3u8_3944667892;\n",
      "mp4_file_path: ./m3u8_To_MP4.mp4;\n",
      "\n",
      "segment set: |##################################################| 100.0% downloaded segments successfully!\n"
     ]
    },
    {
     "name": "stderr",
     "output_type": "stream",
     "text": [
      "2023-06-18 18:04:47,657 | INFO | decrypt and dump segments...\n",
      "2023-06-18 18:04:47,745 | INFO | merging segments...\n",
      "2023-06-18 18:04:49,962 | INFO | download successfully！ take 4.57s,  average download speed is 40134.48KB/s\n",
      "2023-06-18 18:04:51,331 | INFO | Resolved available hosts:\n",
      "2023-06-18 18:04:51,332 | INFO | 151.101.110.225:443\n"
     ]
    },
    {
     "name": "stdout",
     "output_type": "stream",
     "text": [
      "https://p-movie.learning-ware.jp/hls-vod/p-movie/530/53b83c6ad66742eb28a5fbaf145209c4b2575a76/90856.mp4.m3u8\n",
      "\n",
      "summary\n",
      "m3u8_uri: https://p-movie.learning-ware.jp/hls-vod/p-movie/530/53b83c6ad66742eb28a5fbaf145209c4b2575a76/90856.mp4.m3u8;\n",
      "max_retry_times: 3;\n",
      "tmp_dir: C:\\Users\\jerem\\AppData\\Local\\Temp\\m3u8_2349854983;\n",
      "mp4_file_path: ./m3u8_To_MP4.mp4;\n",
      "\n",
      "segment set: |##################################################| 100.0% downloaded segments successfully!\n"
     ]
    },
    {
     "name": "stderr",
     "output_type": "stream",
     "text": [
      "2023-06-18 18:04:52,633 | INFO | decrypt and dump segments...\n",
      "2023-06-18 18:04:52,672 | INFO | merging segments...\n",
      "2023-06-18 18:04:53,723 | INFO | download successfully！ take 2.39s,  average download speed is 32935.05KB/s\n",
      "2023-06-18 18:04:55,152 | INFO | Resolved available hosts:\n",
      "2023-06-18 18:04:55,153 | INFO | 151.101.110.225:443\n"
     ]
    },
    {
     "name": "stdout",
     "output_type": "stream",
     "text": [
      "https://p-movie.learning-ware.jp/hls-vod/p-movie/530/32ec18027b7f026354ad2b0ee3f0a686091a6c28/90866.mp4.m3u8\n",
      "\n",
      "summary\n",
      "m3u8_uri: https://p-movie.learning-ware.jp/hls-vod/p-movie/530/32ec18027b7f026354ad2b0ee3f0a686091a6c28/90866.mp4.m3u8;\n",
      "max_retry_times: 3;\n",
      "tmp_dir: C:\\Users\\jerem\\AppData\\Local\\Temp\\m3u8_3017594509;\n",
      "mp4_file_path: ./m3u8_To_MP4.mp4;\n",
      "\n",
      "segment set: |##################################################| 100.0% downloaded segments successfully!\n"
     ]
    },
    {
     "name": "stderr",
     "output_type": "stream",
     "text": [
      "2023-06-18 18:04:57,115 | INFO | decrypt and dump segments...\n",
      "2023-06-18 18:04:57,169 | INFO | merging segments...\n",
      "2023-06-18 18:04:58,978 | INFO | download successfully！ take 3.83s,  average download speed is 37854.47KB/s\n",
      "2023-06-18 18:05:00,438 | INFO | Resolved available hosts:\n",
      "2023-06-18 18:05:00,439 | INFO | 151.101.110.225:443\n"
     ]
    },
    {
     "name": "stdout",
     "output_type": "stream",
     "text": [
      "https://p-movie.learning-ware.jp/hls-vod/p-movie/530/e8e7d8bfaf9948a1ee89593965b41382ec46afa2/90861.mp4.m3u8\n",
      "\n",
      "summary\n",
      "m3u8_uri: https://p-movie.learning-ware.jp/hls-vod/p-movie/530/e8e7d8bfaf9948a1ee89593965b41382ec46afa2/90861.mp4.m3u8;\n",
      "max_retry_times: 3;\n",
      "tmp_dir: C:\\Users\\jerem\\AppData\\Local\\Temp\\m3u8_3349454278;\n",
      "mp4_file_path: ./m3u8_To_MP4.mp4;\n",
      "\n",
      "segment set: |##################################################| 100.0% downloaded segments successfully!\n"
     ]
    },
    {
     "name": "stderr",
     "output_type": "stream",
     "text": [
      "2023-06-18 18:05:01,936 | INFO | decrypt and dump segments...\n",
      "2023-06-18 18:05:01,967 | INFO | merging segments...\n",
      "2023-06-18 18:05:03,073 | INFO | download successfully！ take 2.64s,  average download speed is 25681.49KB/s\n",
      "2023-06-18 18:05:04,789 | INFO | Resolved available hosts:\n",
      "2023-06-18 18:05:04,789 | INFO | 151.101.110.225:443\n"
     ]
    },
    {
     "name": "stdout",
     "output_type": "stream",
     "text": [
      "https://p-movie.learning-ware.jp/hls-vod/p-movie/530/27238b94716643a3b2a5b29cd2d267dfeb138893/90864.mp4.m3u8\n",
      "\n",
      "summary\n",
      "m3u8_uri: https://p-movie.learning-ware.jp/hls-vod/p-movie/530/27238b94716643a3b2a5b29cd2d267dfeb138893/90864.mp4.m3u8;\n",
      "max_retry_times: 3;\n",
      "tmp_dir: C:\\Users\\jerem\\AppData\\Local\\Temp\\m3u8_4079190169;\n",
      "mp4_file_path: ./m3u8_To_MP4.mp4;\n",
      "\n",
      "segment set: |##################################################| 100.0% downloaded segments successfully!\n"
     ]
    },
    {
     "name": "stderr",
     "output_type": "stream",
     "text": [
      "2023-06-18 18:05:06,817 | INFO | decrypt and dump segments...\n",
      "2023-06-18 18:05:06,880 | INFO | merging segments...\n",
      "2023-06-18 18:05:09,028 | INFO | download successfully！ take 4.31s,  average download speed is 40962.53KB/s\n",
      "2023-06-18 18:05:10,542 | INFO | Resolved available hosts:\n",
      "2023-06-18 18:05:10,543 | INFO | 151.101.110.225:443\n"
     ]
    },
    {
     "name": "stdout",
     "output_type": "stream",
     "text": [
      "https://p-movie.learning-ware.jp/hls-vod/p-movie/530/ea39af0dabf86c0072c92f8763398a537fc2c114/90867.mp4.m3u8\n",
      "\n",
      "summary\n",
      "m3u8_uri: https://p-movie.learning-ware.jp/hls-vod/p-movie/530/ea39af0dabf86c0072c92f8763398a537fc2c114/90867.mp4.m3u8;\n",
      "max_retry_times: 3;\n",
      "tmp_dir: C:\\Users\\jerem\\AppData\\Local\\Temp\\m3u8_3310266978;\n",
      "mp4_file_path: ./m3u8_To_MP4.mp4;\n",
      "\n",
      "segment set: |##################################################| 100.0% downloaded segments successfully!\n"
     ]
    },
    {
     "name": "stderr",
     "output_type": "stream",
     "text": [
      "2023-06-18 18:05:12,646 | INFO | decrypt and dump segments...\n",
      "2023-06-18 18:05:12,710 | INFO | merging segments...\n",
      "2023-06-18 18:05:14,994 | INFO | download successfully！ take 4.45s,  average download speed is 45374.28KB/s\n",
      "2023-06-18 18:05:16,501 | INFO | Resolved available hosts:\n",
      "2023-06-18 18:05:16,503 | INFO | 151.101.110.225:443\n"
     ]
    },
    {
     "name": "stdout",
     "output_type": "stream",
     "text": [
      "https://p-movie.learning-ware.jp/hls-vod/p-movie/530/4a526bd1b5a7a0637fcd84f888adf82c984a077b/90860.mp4.m3u8\n",
      "\n",
      "summary\n",
      "m3u8_uri: https://p-movie.learning-ware.jp/hls-vod/p-movie/530/4a526bd1b5a7a0637fcd84f888adf82c984a077b/90860.mp4.m3u8;\n",
      "max_retry_times: 3;\n",
      "tmp_dir: C:\\Users\\jerem\\AppData\\Local\\Temp\\m3u8_736549940;\n",
      "mp4_file_path: ./m3u8_To_MP4.mp4;\n",
      "\n",
      "segment set: |##################################################| 100.0% downloaded segments successfully!\n"
     ]
    },
    {
     "name": "stderr",
     "output_type": "stream",
     "text": [
      "2023-06-18 18:05:17,754 | INFO | decrypt and dump segments...\n",
      "2023-06-18 18:05:17,793 | INFO | merging segments...\n",
      "2023-06-18 18:05:18,663 | INFO | download successfully！ take 2.16s,  average download speed is 28231.54KB/s\n",
      "2023-06-18 18:05:20,010 | INFO | Resolved available hosts:\n",
      "2023-06-18 18:05:20,011 | INFO | 151.101.110.225:443\n"
     ]
    },
    {
     "name": "stdout",
     "output_type": "stream",
     "text": [
      "https://p-movie.learning-ware.jp/hls-vod/p-movie/530/65ce885f31bcf6e7df9015398c025644874013ec/90863.mp4.m3u8\n",
      "\n",
      "summary\n",
      "m3u8_uri: https://p-movie.learning-ware.jp/hls-vod/p-movie/530/65ce885f31bcf6e7df9015398c025644874013ec/90863.mp4.m3u8;\n",
      "max_retry_times: 3;\n",
      "tmp_dir: C:\\Users\\jerem\\AppData\\Local\\Temp\\m3u8_935510911;\n",
      "mp4_file_path: ./m3u8_To_MP4.mp4;\n",
      "\n",
      "segment set: |##################################################| 100.0% downloaded segments successfully!\n"
     ]
    },
    {
     "name": "stderr",
     "output_type": "stream",
     "text": [
      "2023-06-18 18:05:21,692 | INFO | decrypt and dump segments...\n",
      "2023-06-18 18:05:21,745 | INFO | merging segments...\n",
      "2023-06-18 18:05:23,730 | INFO | download successfully！ take 3.72s,  average download speed is 47497.02KB/s\n",
      "2023-06-18 18:05:25,289 | INFO | Resolved available hosts:\n",
      "2023-06-18 18:05:25,290 | INFO | 151.101.110.225:443\n"
     ]
    },
    {
     "name": "stdout",
     "output_type": "stream",
     "text": [
      "https://p-movie.learning-ware.jp/hls-vod/p-movie/530/5519f1c18a443f74bcccf9970c1ad9e67086eb56/90862.mp4.m3u8\n",
      "\n",
      "summary\n",
      "m3u8_uri: https://p-movie.learning-ware.jp/hls-vod/p-movie/530/5519f1c18a443f74bcccf9970c1ad9e67086eb56/90862.mp4.m3u8;\n",
      "max_retry_times: 3;\n",
      "tmp_dir: C:\\Users\\jerem\\AppData\\Local\\Temp\\m3u8_2518300010;\n",
      "mp4_file_path: ./m3u8_To_MP4.mp4;\n",
      "\n",
      "segment set: |##################################################| 100.0% downloaded segments successfully!\n"
     ]
    },
    {
     "name": "stderr",
     "output_type": "stream",
     "text": [
      "2023-06-18 18:05:26,811 | INFO | decrypt and dump segments...\n",
      "2023-06-18 18:05:26,859 | INFO | merging segments...\n",
      "2023-06-18 18:05:28,173 | INFO | download successfully！ take 2.89s,  average download speed is 34913.25KB/s\n",
      "2023-06-18 18:05:29,641 | INFO | Resolved available hosts:\n",
      "2023-06-18 18:05:29,641 | INFO | 151.101.110.225:443\n"
     ]
    },
    {
     "name": "stdout",
     "output_type": "stream",
     "text": [
      "https://p-movie.learning-ware.jp/hls-vod/p-movie/530/ffdfd738b6ffa9863a7b3b6f2bc4f5b9eff7fbbe/105977.mp4.m3u8\n",
      "\n",
      "summary\n",
      "m3u8_uri: https://p-movie.learning-ware.jp/hls-vod/p-movie/530/ffdfd738b6ffa9863a7b3b6f2bc4f5b9eff7fbbe/105977.mp4.m3u8;\n",
      "max_retry_times: 3;\n",
      "tmp_dir: C:\\Users\\jerem\\AppData\\Local\\Temp\\m3u8_3709442486;\n",
      "mp4_file_path: ./m3u8_To_MP4.mp4;\n",
      "\n",
      "segment set: |##################################################| 100.0% downloaded segments successfully!\n"
     ]
    },
    {
     "name": "stderr",
     "output_type": "stream",
     "text": [
      "2023-06-18 18:05:30,534 | INFO | decrypt and dump segments...\n",
      "2023-06-18 18:05:30,552 | INFO | merging segments...\n",
      "2023-06-18 18:05:31,205 | INFO | download successfully！ take 1.56s,  average download speed is 23571.55KB/s\n",
      "2023-06-18 18:05:32,697 | INFO | Resolved available hosts:\n",
      "2023-06-18 18:05:32,698 | INFO | 151.101.110.225:443\n"
     ]
    },
    {
     "name": "stdout",
     "output_type": "stream",
     "text": [
      "https://p-movie.learning-ware.jp/hls-vod/p-movie/530/dc4495dc260faf11cc22dc0deea36493fe0d1728/105978.mp4.m3u8\n",
      "\n",
      "summary\n",
      "m3u8_uri: https://p-movie.learning-ware.jp/hls-vod/p-movie/530/dc4495dc260faf11cc22dc0deea36493fe0d1728/105978.mp4.m3u8;\n",
      "max_retry_times: 3;\n",
      "tmp_dir: C:\\Users\\jerem\\AppData\\Local\\Temp\\m3u8_1414321246;\n",
      "mp4_file_path: ./m3u8_To_MP4.mp4;\n",
      "\n",
      "segment set: |##################################################| 100.0% downloaded segments successfully!\n"
     ]
    },
    {
     "name": "stderr",
     "output_type": "stream",
     "text": [
      "2023-06-18 18:05:33,378 | INFO | decrypt and dump segments...\n",
      "2023-06-18 18:05:33,391 | INFO | merging segments...\n",
      "2023-06-18 18:05:33,910 | INFO | download successfully！ take 1.21s,  average download speed is 20482.61KB/s\n",
      "2023-06-18 18:05:35,432 | INFO | Resolved available hosts:\n",
      "2023-06-18 18:05:35,435 | INFO | 151.101.110.225:443\n"
     ]
    },
    {
     "name": "stdout",
     "output_type": "stream",
     "text": [
      "https://p-movie.learning-ware.jp/hls-vod/p-movie/530/e96bfaa675cfcaf7ed883a92b4b3f12b109a21a8/105979.mp4.m3u8\n",
      "\n",
      "summary\n",
      "m3u8_uri: https://p-movie.learning-ware.jp/hls-vod/p-movie/530/e96bfaa675cfcaf7ed883a92b4b3f12b109a21a8/105979.mp4.m3u8;\n",
      "max_retry_times: 3;\n",
      "tmp_dir: C:\\Users\\jerem\\AppData\\Local\\Temp\\m3u8_1091409488;\n",
      "mp4_file_path: ./m3u8_To_MP4.mp4;\n",
      "\n",
      "segment set: |##################################################| 100.0% downloaded segments successfully!\n"
     ]
    },
    {
     "name": "stderr",
     "output_type": "stream",
     "text": [
      "2023-06-18 18:05:36,312 | INFO | decrypt and dump segments...\n",
      "2023-06-18 18:05:36,330 | INFO | merging segments...\n",
      "2023-06-18 18:05:36,976 | INFO | download successfully！ take 1.58s,  average download speed is 22894.25KB/s\n",
      "2023-06-18 18:05:38,412 | INFO | Resolved available hosts:\n",
      "2023-06-18 18:05:38,413 | INFO | 151.101.110.225:443\n"
     ]
    },
    {
     "name": "stdout",
     "output_type": "stream",
     "text": [
      "https://p-movie.learning-ware.jp/hls-vod/p-movie/530/8197095186e3342fae4cbc84405b62e28f38c110/105980.mp4.m3u8\n",
      "\n",
      "summary\n",
      "m3u8_uri: https://p-movie.learning-ware.jp/hls-vod/p-movie/530/8197095186e3342fae4cbc84405b62e28f38c110/105980.mp4.m3u8;\n",
      "max_retry_times: 3;\n",
      "tmp_dir: C:\\Users\\jerem\\AppData\\Local\\Temp\\m3u8_3083305400;\n",
      "mp4_file_path: ./m3u8_To_MP4.mp4;\n",
      "\n",
      "segment set: |##################################################| 100.0% downloaded segments successfully!\n"
     ]
    },
    {
     "name": "stderr",
     "output_type": "stream",
     "text": [
      "2023-06-18 18:05:39,271 | INFO | decrypt and dump segments...\n",
      "2023-06-18 18:05:39,295 | INFO | merging segments...\n",
      "2023-06-18 18:05:40,038 | INFO | download successfully！ take 1.63s,  average download speed is 27428.42KB/s\n",
      "2023-06-18 18:05:41,485 | INFO | Resolved available hosts:\n",
      "2023-06-18 18:05:41,487 | INFO | 151.101.110.225:443\n"
     ]
    },
    {
     "name": "stdout",
     "output_type": "stream",
     "text": [
      "https://p-movie.learning-ware.jp/hls-vod/p-movie/530/4205744fbe4db610773651abe5bf832a27756cda/105981.mp4.m3u8\n",
      "\n",
      "summary\n",
      "m3u8_uri: https://p-movie.learning-ware.jp/hls-vod/p-movie/530/4205744fbe4db610773651abe5bf832a27756cda/105981.mp4.m3u8;\n",
      "max_retry_times: 3;\n",
      "tmp_dir: C:\\Users\\jerem\\AppData\\Local\\Temp\\m3u8_1649631602;\n",
      "mp4_file_path: ./m3u8_To_MP4.mp4;\n",
      "\n",
      "segment set: |##################################################| 100.0% downloaded segments successfully!\n"
     ]
    },
    {
     "name": "stderr",
     "output_type": "stream",
     "text": [
      "2023-06-18 18:05:41,946 | INFO | decrypt and dump segments...\n",
      "2023-06-18 18:05:41,954 | INFO | merging segments...\n",
      "2023-06-18 18:05:42,272 | INFO | download successfully！ take 0.79s,  average download speed is 18592.87KB/s\n",
      "2023-06-18 18:05:43,709 | INFO | Resolved available hosts:\n",
      "2023-06-18 18:05:43,710 | INFO | 151.101.110.225:443\n"
     ]
    },
    {
     "name": "stdout",
     "output_type": "stream",
     "text": [
      "https://p-movie.learning-ware.jp/hls-vod/p-movie/530/48b871f1254514c0e62729ca83fff05ca294a33d/105982.mp4.m3u8\n",
      "\n",
      "summary\n",
      "m3u8_uri: https://p-movie.learning-ware.jp/hls-vod/p-movie/530/48b871f1254514c0e62729ca83fff05ca294a33d/105982.mp4.m3u8;\n",
      "max_retry_times: 3;\n",
      "tmp_dir: C:\\Users\\jerem\\AppData\\Local\\Temp\\m3u8_4051894594;\n",
      "mp4_file_path: ./m3u8_To_MP4.mp4;\n",
      "\n",
      "segment set: |##################################################| 100.0% downloaded segments successfully!\n"
     ]
    },
    {
     "name": "stderr",
     "output_type": "stream",
     "text": [
      "2023-06-18 18:05:44,385 | INFO | decrypt and dump segments...\n",
      "2023-06-18 18:05:44,412 | INFO | merging segments...\n",
      "2023-06-18 18:05:44,913 | INFO | download successfully！ take 1.21s,  average download speed is 21073.38KB/s\n",
      "2023-06-18 18:05:46,276 | INFO | Resolved available hosts:\n",
      "2023-06-18 18:05:46,277 | INFO | 151.101.110.225:443\n"
     ]
    },
    {
     "name": "stdout",
     "output_type": "stream",
     "text": [
      "https://p-movie.learning-ware.jp/hls-vod/p-movie/530/d2f4f269782f6330ffe6505a8aef56f52ca5ae24/105983.mp4.m3u8\n",
      "\n",
      "summary\n",
      "m3u8_uri: https://p-movie.learning-ware.jp/hls-vod/p-movie/530/d2f4f269782f6330ffe6505a8aef56f52ca5ae24/105983.mp4.m3u8;\n",
      "max_retry_times: 3;\n",
      "tmp_dir: C:\\Users\\jerem\\AppData\\Local\\Temp\\m3u8_2664991045;\n",
      "mp4_file_path: ./m3u8_To_MP4.mp4;\n",
      "\n",
      "segment set: |##################################################| 100.0% downloaded segments successfully!\n"
     ]
    },
    {
     "name": "stderr",
     "output_type": "stream",
     "text": [
      "2023-06-18 18:05:47,199 | INFO | decrypt and dump segments...\n",
      "2023-06-18 18:05:47,234 | INFO | merging segments...\n",
      "2023-06-18 18:05:47,936 | INFO | download successfully！ take 1.66s,  average download speed is 23954.34KB/s\n",
      "2023-06-18 18:05:49,469 | INFO | Resolved available hosts:\n",
      "2023-06-18 18:05:49,470 | INFO | 151.101.110.225:443\n"
     ]
    },
    {
     "name": "stdout",
     "output_type": "stream",
     "text": [
      "https://p-movie.learning-ware.jp/hls-vod/p-movie/530/7fe7129fb21056b226ef50b3d6919718c7c84fb1/90865.mp4.m3u8\n",
      "\n",
      "summary\n",
      "m3u8_uri: https://p-movie.learning-ware.jp/hls-vod/p-movie/530/7fe7129fb21056b226ef50b3d6919718c7c84fb1/90865.mp4.m3u8;\n",
      "max_retry_times: 3;\n",
      "tmp_dir: C:\\Users\\jerem\\AppData\\Local\\Temp\\m3u8_421994318;\n",
      "mp4_file_path: ./m3u8_To_MP4.mp4;\n",
      "\n",
      "segment set: |##################################################| 100.0% downloaded segments successfully!\n"
     ]
    },
    {
     "name": "stderr",
     "output_type": "stream",
     "text": [
      "2023-06-18 18:05:50,984 | INFO | decrypt and dump segments...\n",
      "2023-06-18 18:05:51,018 | INFO | merging segments...\n",
      "2023-06-18 18:05:51,912 | INFO | download successfully！ take 2.44s,  average download speed is 23939.19KB/s\n",
      "2023-06-18 18:05:53,293 | INFO | Resolved available hosts:\n",
      "2023-06-18 18:05:53,294 | INFO | 151.101.110.225:443\n"
     ]
    },
    {
     "name": "stdout",
     "output_type": "stream",
     "text": [
      "https://p-movie.learning-ware.jp/hls-vod/p-movie/530/222eaf877816c2487f6eb8cb3fb39e0915b69393/90844.mp4.m3u8\n",
      "\n",
      "summary\n",
      "m3u8_uri: https://p-movie.learning-ware.jp/hls-vod/p-movie/530/222eaf877816c2487f6eb8cb3fb39e0915b69393/90844.mp4.m3u8;\n",
      "max_retry_times: 3;\n",
      "tmp_dir: C:\\Users\\jerem\\AppData\\Local\\Temp\\m3u8_1684633583;\n",
      "mp4_file_path: ./m3u8_To_MP4.mp4;\n",
      "\n",
      "segment set: |##################################################| 100.0% downloaded segments successfully!\n"
     ]
    },
    {
     "name": "stderr",
     "output_type": "stream",
     "text": [
      "2023-06-18 18:05:53,924 | INFO | decrypt and dump segments...\n",
      "2023-06-18 18:05:53,935 | INFO | merging segments...\n",
      "2023-06-18 18:05:54,528 | INFO | download successfully！ take 1.24s,  average download speed is 20023.53KB/s\n"
     ]
    },
    {
     "name": "stdout",
     "output_type": "stream",
     "text": [
      "nothing found\n"
     ]
    },
    {
     "name": "stderr",
     "output_type": "stream",
     "text": [
      "2023-06-18 18:05:57,828 | INFO | Resolved available hosts:\n",
      "2023-06-18 18:05:57,829 | INFO | 151.101.110.225:443\n"
     ]
    },
    {
     "name": "stdout",
     "output_type": "stream",
     "text": [
      "https://p-movie.learning-ware.jp/hls-vod/p-movie/530/b186429ec7efc3b5325826d2d97382f3e49e11d7/105984.mp4.m3u8\n",
      "\n",
      "summary\n",
      "m3u8_uri: https://p-movie.learning-ware.jp/hls-vod/p-movie/530/b186429ec7efc3b5325826d2d97382f3e49e11d7/105984.mp4.m3u8;\n",
      "max_retry_times: 3;\n",
      "tmp_dir: C:\\Users\\jerem\\AppData\\Local\\Temp\\m3u8_2395022041;\n",
      "mp4_file_path: ./m3u8_To_MP4.mp4;\n",
      "\n",
      "segment set: |##################################################| 100.0% downloaded segments successfully!\n"
     ]
    },
    {
     "name": "stderr",
     "output_type": "stream",
     "text": [
      "2023-06-18 18:05:58,717 | INFO | decrypt and dump segments...\n",
      "2023-06-18 18:05:58,737 | INFO | merging segments...\n",
      "2023-06-18 18:05:59,405 | INFO | download successfully！ take 1.58s,  average download speed is 23133.74KB/s\n",
      "2023-06-18 18:06:00,764 | INFO | Resolved available hosts:\n",
      "2023-06-18 18:06:00,764 | INFO | 151.101.110.225:443\n"
     ]
    },
    {
     "name": "stdout",
     "output_type": "stream",
     "text": [
      "https://p-movie.learning-ware.jp/hls-vod/p-movie/530/3ca0e0bcb71e67c1e5e09f175cb527aadb703905/105985.mp4.m3u8\n",
      "\n",
      "summary\n",
      "m3u8_uri: https://p-movie.learning-ware.jp/hls-vod/p-movie/530/3ca0e0bcb71e67c1e5e09f175cb527aadb703905/105985.mp4.m3u8;\n",
      "max_retry_times: 3;\n",
      "tmp_dir: C:\\Users\\jerem\\AppData\\Local\\Temp\\m3u8_4126620237;\n",
      "mp4_file_path: ./m3u8_To_MP4.mp4;\n",
      "\n",
      "segment set: |##################################################| 100.0% downloaded segments successfully!\n"
     ]
    },
    {
     "name": "stderr",
     "output_type": "stream",
     "text": [
      "2023-06-18 18:06:01,313 | INFO | decrypt and dump segments...\n",
      "2023-06-18 18:06:01,329 | INFO | merging segments...\n",
      "2023-06-18 18:06:01,778 | INFO | download successfully！ take 1.01s,  average download speed is 23726.12KB/s\n",
      "2023-06-18 18:06:03,245 | INFO | Resolved available hosts:\n",
      "2023-06-18 18:06:03,246 | INFO | 151.101.110.225:443\n"
     ]
    },
    {
     "name": "stdout",
     "output_type": "stream",
     "text": [
      "https://p-movie.learning-ware.jp/hls-vod/p-movie/530/29f6739fd7c4d34a18b5968b264f5341ef3d9e5b/105986.mp4.m3u8\n",
      "\n",
      "summary\n",
      "m3u8_uri: https://p-movie.learning-ware.jp/hls-vod/p-movie/530/29f6739fd7c4d34a18b5968b264f5341ef3d9e5b/105986.mp4.m3u8;\n",
      "max_retry_times: 3;\n",
      "tmp_dir: C:\\Users\\jerem\\AppData\\Local\\Temp\\m3u8_2964533659;\n",
      "mp4_file_path: ./m3u8_To_MP4.mp4;\n",
      "\n",
      "segment set: |##################################################| 100.0% downloaded segments successfully!\n"
     ]
    },
    {
     "name": "stderr",
     "output_type": "stream",
     "text": [
      "2023-06-18 18:06:04,175 | INFO | decrypt and dump segments...\n",
      "2023-06-18 18:06:04,211 | INFO | merging segments...\n",
      "2023-06-18 18:06:05,056 | INFO | download successfully！ take 1.81s,  average download speed is 28629.49KB/s\n",
      "2023-06-18 18:06:06,471 | INFO | Resolved available hosts:\n",
      "2023-06-18 18:06:06,471 | INFO | 151.101.110.225:443\n"
     ]
    },
    {
     "name": "stdout",
     "output_type": "stream",
     "text": [
      "https://p-movie.learning-ware.jp/hls-vod/p-movie/530/8fa4882e1be5f3291f0a07d32601c4cf660ae5cf/105987.mp4.m3u8\n",
      "\n",
      "summary\n",
      "m3u8_uri: https://p-movie.learning-ware.jp/hls-vod/p-movie/530/8fa4882e1be5f3291f0a07d32601c4cf660ae5cf/105987.mp4.m3u8;\n",
      "max_retry_times: 3;\n",
      "tmp_dir: C:\\Users\\jerem\\AppData\\Local\\Temp\\m3u8_2789399715;\n",
      "mp4_file_path: ./m3u8_To_MP4.mp4;\n",
      "\n",
      "segment set: |##################################################| 100.0% downloaded segments successfully!\n"
     ]
    },
    {
     "name": "stderr",
     "output_type": "stream",
     "text": [
      "2023-06-18 18:06:07,044 | INFO | decrypt and dump segments...\n",
      "2023-06-18 18:06:07,052 | INFO | merging segments...\n",
      "2023-06-18 18:06:07,398 | INFO | download successfully！ take 0.94s,  average download speed is 17236.84KB/s\n",
      "2023-06-18 18:06:08,889 | INFO | Resolved available hosts:\n",
      "2023-06-18 18:06:08,889 | INFO | 151.101.110.225:443\n"
     ]
    },
    {
     "name": "stdout",
     "output_type": "stream",
     "text": [
      "https://p-movie.learning-ware.jp/hls-vod/p-movie/530/72edbbd59c18b8a1ceddcc1700193e2783e405ab/105988.mp4.m3u8\n",
      "\n",
      "summary\n",
      "m3u8_uri: https://p-movie.learning-ware.jp/hls-vod/p-movie/530/72edbbd59c18b8a1ceddcc1700193e2783e405ab/105988.mp4.m3u8;\n",
      "max_retry_times: 3;\n",
      "tmp_dir: C:\\Users\\jerem\\AppData\\Local\\Temp\\m3u8_3750174218;\n",
      "mp4_file_path: ./m3u8_To_MP4.mp4;\n",
      "\n",
      "segment set: |##################################################| 100.0% downloaded segments successfully!\n"
     ]
    },
    {
     "name": "stderr",
     "output_type": "stream",
     "text": [
      "2023-06-18 18:06:09,717 | INFO | decrypt and dump segments...\n",
      "2023-06-18 18:06:09,733 | INFO | merging segments...\n",
      "2023-06-18 18:06:10,340 | INFO | download successfully！ take 1.45s,  average download speed is 23166.89KB/s\n",
      "2023-06-18 18:06:11,744 | INFO | Resolved available hosts:\n",
      "2023-06-18 18:06:11,745 | INFO | 151.101.110.225:443\n"
     ]
    },
    {
     "name": "stdout",
     "output_type": "stream",
     "text": [
      "https://p-movie.learning-ware.jp/hls-vod/p-movie/530/85cbdd9b74fef85eaf5ad9508926105af5f673f2/105989.mp4.m3u8\n",
      "\n",
      "summary\n",
      "m3u8_uri: https://p-movie.learning-ware.jp/hls-vod/p-movie/530/85cbdd9b74fef85eaf5ad9508926105af5f673f2/105989.mp4.m3u8;\n",
      "max_retry_times: 3;\n",
      "tmp_dir: C:\\Users\\jerem\\AppData\\Local\\Temp\\m3u8_3572434540;\n",
      "mp4_file_path: ./m3u8_To_MP4.mp4;\n",
      "\n",
      "segment set: |##################################################| 100.0% downloaded segments successfully!\n"
     ]
    },
    {
     "name": "stderr",
     "output_type": "stream",
     "text": [
      "2023-06-18 18:06:12,378 | INFO | decrypt and dump segments...\n",
      "2023-06-18 18:06:12,391 | INFO | merging segments...\n",
      "2023-06-18 18:06:12,856 | INFO | download successfully！ take 1.11s,  average download speed is 22568.35KB/s\n",
      "2023-06-18 18:06:14,342 | INFO | Resolved available hosts:\n",
      "2023-06-18 18:06:14,343 | INFO | 151.101.110.225:443\n"
     ]
    },
    {
     "name": "stdout",
     "output_type": "stream",
     "text": [
      "https://p-movie.learning-ware.jp/hls-vod/p-movie/530/ad340c15b50c1bfffe5d40b01c7e1d3ebfedc682/105990.mp4.m3u8\n",
      "\n",
      "summary\n",
      "m3u8_uri: https://p-movie.learning-ware.jp/hls-vod/p-movie/530/ad340c15b50c1bfffe5d40b01c7e1d3ebfedc682/105990.mp4.m3u8;\n",
      "max_retry_times: 3;\n",
      "tmp_dir: C:\\Users\\jerem\\AppData\\Local\\Temp\\m3u8_163187473;\n",
      "mp4_file_path: ./m3u8_To_MP4.mp4;\n",
      "\n",
      "segment set: |##################################################| 100.0% downloaded segments successfully!\n"
     ]
    },
    {
     "name": "stderr",
     "output_type": "stream",
     "text": [
      "2023-06-18 18:06:15,840 | INFO | decrypt and dump segments...\n",
      "2023-06-18 18:06:15,881 | INFO | merging segments...\n",
      "2023-06-18 18:06:16,826 | INFO | download successfully！ take 2.48s,  average download speed is 20485.72KB/s\n",
      "2023-06-18 18:06:18,303 | INFO | Resolved available hosts:\n",
      "2023-06-18 18:06:18,303 | INFO | 151.101.110.225:443\n"
     ]
    },
    {
     "name": "stdout",
     "output_type": "stream",
     "text": [
      "https://p-movie.learning-ware.jp/hls-vod/p-movie/530/222fd400d2019d9bcd4e6e4fb09f592a2c109e5b/105991.mp4.m3u8\n",
      "\n",
      "summary\n",
      "m3u8_uri: https://p-movie.learning-ware.jp/hls-vod/p-movie/530/222fd400d2019d9bcd4e6e4fb09f592a2c109e5b/105991.mp4.m3u8;\n",
      "max_retry_times: 3;\n",
      "tmp_dir: C:\\Users\\jerem\\AppData\\Local\\Temp\\m3u8_517054723;\n",
      "mp4_file_path: ./m3u8_To_MP4.mp4;\n",
      "\n",
      "segment set: |##################################################| 100.0% downloaded segments successfully!\n"
     ]
    },
    {
     "name": "stderr",
     "output_type": "stream",
     "text": [
      "2023-06-18 18:06:19,293 | INFO | decrypt and dump segments...\n",
      "2023-06-18 18:06:19,306 | INFO | merging segments...\n",
      "2023-06-18 18:06:19,794 | INFO | download successfully！ take 1.49s,  average download speed is 15642.46KB/s\n",
      "2023-06-18 18:06:21,212 | INFO | Resolved available hosts:\n",
      "2023-06-18 18:06:21,212 | INFO | 151.101.110.225:443\n"
     ]
    },
    {
     "name": "stdout",
     "output_type": "stream",
     "text": [
      "https://p-movie.learning-ware.jp/hls-vod/p-movie/530/7271169225c1c9bb0f7cd9511cefda5235dbc3eb/105992.mp4.m3u8\n",
      "\n",
      "summary\n",
      "m3u8_uri: https://p-movie.learning-ware.jp/hls-vod/p-movie/530/7271169225c1c9bb0f7cd9511cefda5235dbc3eb/105992.mp4.m3u8;\n",
      "max_retry_times: 3;\n",
      "tmp_dir: C:\\Users\\jerem\\AppData\\Local\\Temp\\m3u8_1227672566;\n",
      "mp4_file_path: ./m3u8_To_MP4.mp4;\n",
      "\n",
      "segment set: |##################################################| 100.0% downloaded segments successfully!\n"
     ]
    },
    {
     "name": "stderr",
     "output_type": "stream",
     "text": [
      "2023-06-18 18:06:21,915 | INFO | decrypt and dump segments...\n",
      "2023-06-18 18:06:21,924 | INFO | merging segments...\n",
      "2023-06-18 18:06:22,312 | INFO | download successfully！ take 1.10s,  average download speed is 15886.03KB/s\n",
      "2023-06-18 18:06:23,723 | INFO | Resolved available hosts:\n",
      "2023-06-18 18:06:23,724 | INFO | 151.101.110.225:443\n"
     ]
    },
    {
     "name": "stdout",
     "output_type": "stream",
     "text": [
      "https://p-movie.learning-ware.jp/hls-vod/p-movie/530/5652806412672dd31ce80fac02c0299cb4f10721/105993.mp4.m3u8\n",
      "\n",
      "summary\n",
      "m3u8_uri: https://p-movie.learning-ware.jp/hls-vod/p-movie/530/5652806412672dd31ce80fac02c0299cb4f10721/105993.mp4.m3u8;\n",
      "max_retry_times: 3;\n",
      "tmp_dir: C:\\Users\\jerem\\AppData\\Local\\Temp\\m3u8_1211756944;\n",
      "mp4_file_path: ./m3u8_To_MP4.mp4;\n",
      "\n",
      "segment set: |##################################################| 100.0% downloaded segments successfully!\n"
     ]
    },
    {
     "name": "stderr",
     "output_type": "stream",
     "text": [
      "2023-06-18 18:06:24,357 | INFO | decrypt and dump segments...\n",
      "2023-06-18 18:06:24,366 | INFO | merging segments...\n",
      "2023-06-18 18:06:24,719 | INFO | download successfully！ take 1.01s,  average download speed is 15931.04KB/s\n",
      "2023-06-18 18:06:26,141 | INFO | Resolved available hosts:\n",
      "2023-06-18 18:06:26,141 | INFO | 151.101.110.225:443\n"
     ]
    },
    {
     "name": "stdout",
     "output_type": "stream",
     "text": [
      "https://p-movie.learning-ware.jp/hls-vod/p-movie/530/8996990bf3d6cc22b40531c478c984bdd823d56e/105994.mp4.m3u8\n",
      "\n",
      "summary\n",
      "m3u8_uri: https://p-movie.learning-ware.jp/hls-vod/p-movie/530/8996990bf3d6cc22b40531c478c984bdd823d56e/105994.mp4.m3u8;\n",
      "max_retry_times: 3;\n",
      "tmp_dir: C:\\Users\\jerem\\AppData\\Local\\Temp\\m3u8_2934289538;\n",
      "mp4_file_path: ./m3u8_To_MP4.mp4;\n",
      "\n",
      "segment set: |##################################################| 100.0% downloaded segments successfully!\n"
     ]
    },
    {
     "name": "stderr",
     "output_type": "stream",
     "text": [
      "2023-06-18 18:06:26,836 | INFO | decrypt and dump segments...\n",
      "2023-06-18 18:06:26,854 | INFO | merging segments...\n",
      "2023-06-18 18:06:27,218 | INFO | download successfully！ take 1.09s,  average download speed is 15649.16KB/s\n",
      "2023-06-18 18:06:28,552 | INFO | Resolved available hosts:\n",
      "2023-06-18 18:06:28,552 | INFO | 151.101.110.225:443\n"
     ]
    },
    {
     "name": "stdout",
     "output_type": "stream",
     "text": [
      "https://p-movie.learning-ware.jp/hls-vod/p-movie/530/48e5b03b5103610c7443e63ac3d2f2f59645398f/105995.mp4.m3u8\n",
      "\n",
      "summary\n",
      "m3u8_uri: https://p-movie.learning-ware.jp/hls-vod/p-movie/530/48e5b03b5103610c7443e63ac3d2f2f59645398f/105995.mp4.m3u8;\n",
      "max_retry_times: 3;\n",
      "tmp_dir: C:\\Users\\jerem\\AppData\\Local\\Temp\\m3u8_4194328862;\n",
      "mp4_file_path: ./m3u8_To_MP4.mp4;\n",
      "\n",
      "segment set: |##################################################| 100.0% downloaded segments successfully!\n"
     ]
    },
    {
     "name": "stderr",
     "output_type": "stream",
     "text": [
      "2023-06-18 18:06:29,321 | INFO | decrypt and dump segments...\n",
      "2023-06-18 18:06:29,336 | INFO | merging segments...\n",
      "2023-06-18 18:06:29,884 | INFO | download successfully！ take 1.33s,  average download speed is 21803.70KB/s\n",
      "2023-06-18 18:06:31,385 | INFO | Resolved available hosts:\n",
      "2023-06-18 18:06:31,385 | INFO | 151.101.110.225:443\n"
     ]
    },
    {
     "name": "stdout",
     "output_type": "stream",
     "text": [
      "https://p-movie.learning-ware.jp/hls-vod/p-movie/530/462ec969aae8c245dc2b99f9fa4770a84e8bb74d/105996.mp4.m3u8\n",
      "\n",
      "summary\n",
      "m3u8_uri: https://p-movie.learning-ware.jp/hls-vod/p-movie/530/462ec969aae8c245dc2b99f9fa4770a84e8bb74d/105996.mp4.m3u8;\n",
      "max_retry_times: 3;\n",
      "tmp_dir: C:\\Users\\jerem\\AppData\\Local\\Temp\\m3u8_340201653;\n",
      "mp4_file_path: ./m3u8_To_MP4.mp4;\n",
      "\n",
      "segment set: |##################################################| 100.0% downloaded segments successfully!\n"
     ]
    },
    {
     "name": "stderr",
     "output_type": "stream",
     "text": [
      "2023-06-18 18:06:32,368 | INFO | decrypt and dump segments...\n",
      "2023-06-18 18:06:32,400 | INFO | merging segments...\n",
      "2023-06-18 18:06:33,240 | INFO | download successfully！ take 1.86s,  average download speed is 25423.65KB/s\n",
      "2023-06-18 18:06:34,667 | INFO | Resolved available hosts:\n",
      "2023-06-18 18:06:34,668 | INFO | 151.101.110.225:443\n"
     ]
    },
    {
     "name": "stdout",
     "output_type": "stream",
     "text": [
      "https://p-movie.learning-ware.jp/hls-vod/p-movie/530/c713c5b64f851391b0e4097182a3eda868614a34/105997.mp4.m3u8\n",
      "\n",
      "summary\n",
      "m3u8_uri: https://p-movie.learning-ware.jp/hls-vod/p-movie/530/c713c5b64f851391b0e4097182a3eda868614a34/105997.mp4.m3u8;\n",
      "max_retry_times: 3;\n",
      "tmp_dir: C:\\Users\\jerem\\AppData\\Local\\Temp\\m3u8_3271738485;\n",
      "mp4_file_path: ./m3u8_To_MP4.mp4;\n",
      "\n",
      "segment set: |##################################################| 100.0% downloaded segments successfully!\n"
     ]
    },
    {
     "name": "stderr",
     "output_type": "stream",
     "text": [
      "2023-06-18 18:06:35,146 | INFO | decrypt and dump segments...\n",
      "2023-06-18 18:06:35,153 | INFO | merging segments...\n",
      "2023-06-18 18:06:35,397 | INFO | download successfully！ take 0.76s,  average download speed is 13147.70KB/s\n",
      "2023-06-18 18:06:36,838 | INFO | Resolved available hosts:\n",
      "2023-06-18 18:06:36,838 | INFO | 151.101.110.225:443\n"
     ]
    },
    {
     "name": "stdout",
     "output_type": "stream",
     "text": [
      "https://p-movie.learning-ware.jp/hls-vod/p-movie/530/00832b20d1c60c23d93b3a03012bb93b133711dc/105998.mp4.m3u8\n",
      "\n",
      "summary\n",
      "m3u8_uri: https://p-movie.learning-ware.jp/hls-vod/p-movie/530/00832b20d1c60c23d93b3a03012bb93b133711dc/105998.mp4.m3u8;\n",
      "max_retry_times: 3;\n",
      "tmp_dir: C:\\Users\\jerem\\AppData\\Local\\Temp\\m3u8_1471843279;\n",
      "mp4_file_path: ./m3u8_To_MP4.mp4;\n",
      "\n",
      "segment set: |##################################################| 100.0% downloaded segments successfully!\n"
     ]
    },
    {
     "name": "stderr",
     "output_type": "stream",
     "text": [
      "2023-06-18 18:06:37,667 | INFO | decrypt and dump segments...\n",
      "2023-06-18 18:06:37,683 | INFO | merging segments...\n",
      "2023-06-18 18:06:38,277 | INFO | download successfully！ take 1.46s,  average download speed is 22996.36KB/s\n",
      "2023-06-18 18:06:39,630 | INFO | Resolved available hosts:\n",
      "2023-06-18 18:06:39,630 | INFO | 151.101.110.225:443\n"
     ]
    },
    {
     "name": "stdout",
     "output_type": "stream",
     "text": [
      "https://p-movie.learning-ware.jp/hls-vod/p-movie/530/659d15732afa4691b18b8b2c1e6245d05a1f722d/105999.mp4.m3u8\n",
      "\n",
      "summary\n",
      "m3u8_uri: https://p-movie.learning-ware.jp/hls-vod/p-movie/530/659d15732afa4691b18b8b2c1e6245d05a1f722d/105999.mp4.m3u8;\n",
      "max_retry_times: 3;\n",
      "tmp_dir: C:\\Users\\jerem\\AppData\\Local\\Temp\\m3u8_138339128;\n",
      "mp4_file_path: ./m3u8_To_MP4.mp4;\n",
      "\n",
      "segment set: |##################################################| 100.0% downloaded segments successfully!\n"
     ]
    },
    {
     "name": "stderr",
     "output_type": "stream",
     "text": [
      "2023-06-18 18:06:40,803 | INFO | decrypt and dump segments...\n",
      "2023-06-18 18:06:40,819 | INFO | merging segments...\n",
      "2023-06-18 18:06:41,331 | INFO | download successfully！ take 1.70s,  average download speed is 13425.59KB/s\n",
      "2023-06-18 18:06:42,805 | INFO | Resolved available hosts:\n",
      "2023-06-18 18:06:42,805 | INFO | 151.101.110.225:443\n"
     ]
    },
    {
     "name": "stdout",
     "output_type": "stream",
     "text": [
      "https://p-movie.learning-ware.jp/hls-vod/p-movie/530/232ff2df152a053dfea380684d6b2c6bf4aee5bf/106000.mp4.m3u8\n",
      "\n",
      "summary\n",
      "m3u8_uri: https://p-movie.learning-ware.jp/hls-vod/p-movie/530/232ff2df152a053dfea380684d6b2c6bf4aee5bf/106000.mp4.m3u8;\n",
      "max_retry_times: 3;\n",
      "tmp_dir: C:\\Users\\jerem\\AppData\\Local\\Temp\\m3u8_2126196788;\n",
      "mp4_file_path: ./m3u8_To_MP4.mp4;\n",
      "\n",
      "segment set: |##################################################| 100.0% downloaded segments successfully!\n"
     ]
    },
    {
     "name": "stderr",
     "output_type": "stream",
     "text": [
      "2023-06-18 18:06:43,402 | INFO | decrypt and dump segments...\n",
      "2023-06-18 18:06:43,411 | INFO | merging segments...\n",
      "2023-06-18 18:06:43,678 | INFO | download successfully！ take 0.87s,  average download speed is 11429.99KB/s\n",
      "2023-06-18 18:06:45,082 | INFO | Resolved available hosts:\n",
      "2023-06-18 18:06:45,083 | INFO | 151.101.110.225:443\n"
     ]
    },
    {
     "name": "stdout",
     "output_type": "stream",
     "text": [
      "https://p-movie.learning-ware.jp/hls-vod/p-movie/530/217b7a9875200f7f50b39c1e6e5637816ec3354f/106001.mp4.m3u8\n",
      "\n",
      "summary\n",
      "m3u8_uri: https://p-movie.learning-ware.jp/hls-vod/p-movie/530/217b7a9875200f7f50b39c1e6e5637816ec3354f/106001.mp4.m3u8;\n",
      "max_retry_times: 3;\n",
      "tmp_dir: C:\\Users\\jerem\\AppData\\Local\\Temp\\m3u8_2774424024;\n",
      "mp4_file_path: ./m3u8_To_MP4.mp4;\n",
      "\n",
      "segment set: |##################################################| 100.0% downloaded segments successfully!\n"
     ]
    },
    {
     "name": "stderr",
     "output_type": "stream",
     "text": [
      "2023-06-18 18:06:46,572 | INFO | decrypt and dump segments...\n",
      "2023-06-18 18:06:46,593 | INFO | merging segments...\n",
      "2023-06-18 18:06:47,268 | INFO | download successfully！ take 2.19s,  average download speed is 14970.92KB/s\n",
      "2023-06-18 18:06:48,620 | INFO | Resolved available hosts:\n",
      "2023-06-18 18:06:48,621 | INFO | 151.101.110.225:443\n"
     ]
    },
    {
     "name": "stdout",
     "output_type": "stream",
     "text": [
      "https://p-movie.learning-ware.jp/hls-vod/p-movie/530/fd576c0cf05703066f4c8c37ce97c1f0137b27bb/106002.mp4.m3u8\n",
      "\n",
      "summary\n",
      "m3u8_uri: https://p-movie.learning-ware.jp/hls-vod/p-movie/530/fd576c0cf05703066f4c8c37ce97c1f0137b27bb/106002.mp4.m3u8;\n",
      "max_retry_times: 3;\n",
      "tmp_dir: C:\\Users\\jerem\\AppData\\Local\\Temp\\m3u8_2318378361;\n",
      "mp4_file_path: ./m3u8_To_MP4.mp4;\n",
      "\n",
      "segment set: |##################################################| 100.0% downloaded segments successfully!\n"
     ]
    },
    {
     "name": "stderr",
     "output_type": "stream",
     "text": [
      "2023-06-18 18:06:49,590 | INFO | decrypt and dump segments...\n",
      "2023-06-18 18:06:49,610 | INFO | merging segments...\n",
      "2023-06-18 18:06:50,054 | INFO | download successfully！ take 1.44s,  average download speed is 13653.95KB/s\n",
      "2023-06-18 18:06:51,331 | INFO | Resolved available hosts:\n",
      "2023-06-18 18:06:51,331 | INFO | 151.101.110.225:443\n"
     ]
    },
    {
     "name": "stdout",
     "output_type": "stream",
     "text": [
      "https://p-movie.learning-ware.jp/hls-vod/p-movie/530/a94316c342907a9dae828fbe98b0a9d58b4d1333/106003.mp4.m3u8\n",
      "\n",
      "summary\n",
      "m3u8_uri: https://p-movie.learning-ware.jp/hls-vod/p-movie/530/a94316c342907a9dae828fbe98b0a9d58b4d1333/106003.mp4.m3u8;\n",
      "max_retry_times: 3;\n",
      "tmp_dir: C:\\Users\\jerem\\AppData\\Local\\Temp\\m3u8_3936931148;\n",
      "mp4_file_path: ./m3u8_To_MP4.mp4;\n",
      "\n",
      "segment set: |##################################################| 100.0% downloaded segments successfully!\n"
     ]
    },
    {
     "name": "stderr",
     "output_type": "stream",
     "text": [
      "2023-06-18 18:06:52,056 | INFO | decrypt and dump segments...\n",
      "2023-06-18 18:06:52,076 | INFO | merging segments...\n",
      "2023-06-18 18:06:52,695 | INFO | download successfully！ take 1.37s,  average download speed is 25919.74KB/s\n",
      "2023-06-18 18:06:54,157 | INFO | Resolved available hosts:\n",
      "2023-06-18 18:06:54,159 | INFO | 151.101.110.225:443\n"
     ]
    },
    {
     "name": "stdout",
     "output_type": "stream",
     "text": [
      "https://p-movie.learning-ware.jp/hls-vod/p-movie/530/0b11f3408850c1e4e263007fcdf7ed23d30606f6/106004.mp4.m3u8\n",
      "\n",
      "summary\n",
      "m3u8_uri: https://p-movie.learning-ware.jp/hls-vod/p-movie/530/0b11f3408850c1e4e263007fcdf7ed23d30606f6/106004.mp4.m3u8;\n",
      "max_retry_times: 3;\n",
      "tmp_dir: C:\\Users\\jerem\\AppData\\Local\\Temp\\m3u8_346730735;\n",
      "mp4_file_path: ./m3u8_To_MP4.mp4;\n",
      "\n",
      "segment set: |##################################################| 100.0% downloaded segments successfully!\n"
     ]
    },
    {
     "name": "stderr",
     "output_type": "stream",
     "text": [
      "2023-06-18 18:06:55,612 | INFO | decrypt and dump segments...\n",
      "2023-06-18 18:06:55,630 | INFO | merging segments...\n",
      "2023-06-18 18:06:56,248 | INFO | download successfully！ take 2.09s,  average download speed is 13777.69KB/s\n",
      "2023-06-18 18:06:57,781 | INFO | Resolved available hosts:\n",
      "2023-06-18 18:06:57,781 | INFO | 151.101.110.225:443\n"
     ]
    },
    {
     "name": "stdout",
     "output_type": "stream",
     "text": [
      "https://p-movie.learning-ware.jp/hls-vod/p-movie/530/b631ae77396f0faff937ba42e09b521357899278/106005.mp4.m3u8\n",
      "\n",
      "summary\n",
      "m3u8_uri: https://p-movie.learning-ware.jp/hls-vod/p-movie/530/b631ae77396f0faff937ba42e09b521357899278/106005.mp4.m3u8;\n",
      "max_retry_times: 3;\n",
      "tmp_dir: C:\\Users\\jerem\\AppData\\Local\\Temp\\m3u8_1119031328;\n",
      "mp4_file_path: ./m3u8_To_MP4.mp4;\n",
      "\n",
      "segment set: |##################################################| 100.0% downloaded segments successfully!\n"
     ]
    },
    {
     "name": "stderr",
     "output_type": "stream",
     "text": [
      "2023-06-18 18:06:58,767 | INFO | decrypt and dump segments...\n",
      "2023-06-18 18:06:58,789 | INFO | merging segments...\n",
      "2023-06-18 18:06:59,458 | INFO | download successfully！ take 1.68s,  average download speed is 21963.24KB/s\n",
      "2023-06-18 18:07:00,855 | INFO | Resolved available hosts:\n",
      "2023-06-18 18:07:00,855 | INFO | 151.101.110.225:443\n"
     ]
    },
    {
     "name": "stdout",
     "output_type": "stream",
     "text": [
      "https://p-movie.learning-ware.jp/hls-vod/p-movie/530/f9fe84569279122e19eb3014172d531f8a32ed48/106006.mp4.m3u8\n",
      "\n",
      "summary\n",
      "m3u8_uri: https://p-movie.learning-ware.jp/hls-vod/p-movie/530/f9fe84569279122e19eb3014172d531f8a32ed48/106006.mp4.m3u8;\n",
      "max_retry_times: 3;\n",
      "tmp_dir: C:\\Users\\jerem\\AppData\\Local\\Temp\\m3u8_3354222494;\n",
      "mp4_file_path: ./m3u8_To_MP4.mp4;\n",
      "\n",
      "segment set: |##################################################| 100.0% downloaded segments successfully!\n"
     ]
    },
    {
     "name": "stderr",
     "output_type": "stream",
     "text": [
      "2023-06-18 18:07:01,596 | INFO | decrypt and dump segments...\n",
      "2023-06-18 18:07:01,609 | INFO | merging segments...\n",
      "2023-06-18 18:07:02,088 | INFO | download successfully！ take 1.23s,  average download speed is 18621.36KB/s\n",
      "2023-06-18 18:07:03,647 | INFO | Resolved available hosts:\n",
      "2023-06-18 18:07:03,648 | INFO | 151.101.110.225:443\n"
     ]
    },
    {
     "name": "stdout",
     "output_type": "stream",
     "text": [
      "https://p-movie.learning-ware.jp/hls-vod/p-movie/530/7c1e9fc92f35d56ae14300eda5b1c24d98766fc6/106007.mp4.m3u8\n",
      "\n",
      "summary\n",
      "m3u8_uri: https://p-movie.learning-ware.jp/hls-vod/p-movie/530/7c1e9fc92f35d56ae14300eda5b1c24d98766fc6/106007.mp4.m3u8;\n",
      "max_retry_times: 3;\n",
      "tmp_dir: C:\\Users\\jerem\\AppData\\Local\\Temp\\m3u8_305026206;\n",
      "mp4_file_path: ./m3u8_To_MP4.mp4;\n",
      "\n",
      "segment set: |##################################################| 100.0% downloaded segments successfully!\n"
     ]
    },
    {
     "name": "stderr",
     "output_type": "stream",
     "text": [
      "2023-06-18 18:07:04,615 | INFO | decrypt and dump segments...\n",
      "2023-06-18 18:07:04,634 | INFO | merging segments...\n",
      "2023-06-18 18:07:05,266 | INFO | download successfully！ take 1.62s,  average download speed is 21214.80KB/s\n",
      "2023-06-18 18:07:06,680 | INFO | Resolved available hosts:\n",
      "2023-06-18 18:07:06,680 | INFO | 151.101.110.225:443\n"
     ]
    },
    {
     "name": "stdout",
     "output_type": "stream",
     "text": [
      "https://p-movie.learning-ware.jp/hls-vod/p-movie/530/e550e304a5a72bd685b323a75cbbd451e7012ba2/106008.mp4.m3u8\n",
      "\n",
      "summary\n",
      "m3u8_uri: https://p-movie.learning-ware.jp/hls-vod/p-movie/530/e550e304a5a72bd685b323a75cbbd451e7012ba2/106008.mp4.m3u8;\n",
      "max_retry_times: 3;\n",
      "tmp_dir: C:\\Users\\jerem\\AppData\\Local\\Temp\\m3u8_1571772324;\n",
      "mp4_file_path: ./m3u8_To_MP4.mp4;\n",
      "\n",
      "segment set: |##################################################| 100.0% downloaded segments successfully!\n"
     ]
    },
    {
     "name": "stderr",
     "output_type": "stream",
     "text": [
      "2023-06-18 18:07:07,443 | INFO | decrypt and dump segments...\n",
      "2023-06-18 18:07:07,457 | INFO | merging segments...\n",
      "2023-06-18 18:07:07,923 | INFO | download successfully！ take 1.26s,  average download speed is 17491.99KB/s\n",
      "2023-06-18 18:07:09,385 | INFO | Resolved available hosts:\n",
      "2023-06-18 18:07:09,385 | INFO | 151.101.110.225:443\n"
     ]
    },
    {
     "name": "stdout",
     "output_type": "stream",
     "text": [
      "https://p-movie.learning-ware.jp/hls-vod/p-movie/530/13a08be6e096ffe2cbe2ec8bab27968c1872a770/106009.mp4.m3u8\n",
      "\n",
      "summary\n",
      "m3u8_uri: https://p-movie.learning-ware.jp/hls-vod/p-movie/530/13a08be6e096ffe2cbe2ec8bab27968c1872a770/106009.mp4.m3u8;\n",
      "max_retry_times: 3;\n",
      "tmp_dir: C:\\Users\\jerem\\AppData\\Local\\Temp\\m3u8_3628065818;\n",
      "mp4_file_path: ./m3u8_To_MP4.mp4;\n",
      "\n",
      "segment set: |##################################################| 100.0% downloaded segments successfully!\n"
     ]
    },
    {
     "name": "stderr",
     "output_type": "stream",
     "text": [
      "2023-06-18 18:07:10,086 | INFO | decrypt and dump segments...\n",
      "2023-06-18 18:07:10,104 | INFO | merging segments...\n",
      "2023-06-18 18:07:10,736 | INFO | download successfully！ take 1.37s,  average download speed is 27588.11KB/s\n",
      "2023-06-18 18:07:12,282 | INFO | Resolved available hosts:\n",
      "2023-06-18 18:07:12,283 | INFO | 151.101.110.225:443\n"
     ]
    },
    {
     "name": "stdout",
     "output_type": "stream",
     "text": [
      "https://p-movie.learning-ware.jp/hls-vod/p-movie/530/d3a0de4fefbcd1dd5bce70bf27fa749f7a2e8201/106010.mp4.m3u8\n",
      "\n",
      "summary\n",
      "m3u8_uri: https://p-movie.learning-ware.jp/hls-vod/p-movie/530/d3a0de4fefbcd1dd5bce70bf27fa749f7a2e8201/106010.mp4.m3u8;\n",
      "max_retry_times: 3;\n",
      "tmp_dir: C:\\Users\\jerem\\AppData\\Local\\Temp\\m3u8_958447047;\n",
      "mp4_file_path: ./m3u8_To_MP4.mp4;\n",
      "\n",
      "segment set: |##################################################| 100.0% downloaded segments successfully!\n"
     ]
    },
    {
     "name": "stderr",
     "output_type": "stream",
     "text": [
      "2023-06-18 18:07:13,102 | INFO | decrypt and dump segments...\n",
      "2023-06-18 18:07:13,114 | INFO | merging segments...\n",
      "2023-06-18 18:07:13,577 | INFO | download successfully！ take 1.30s,  average download speed is 16416.38KB/s\n",
      "2023-06-18 18:07:14,873 | INFO | Resolved available hosts:\n",
      "2023-06-18 18:07:14,874 | INFO | 151.101.110.225:443\n"
     ]
    },
    {
     "name": "stdout",
     "output_type": "stream",
     "text": [
      "https://p-movie.learning-ware.jp/hls-vod/p-movie/530/e61356f153072a8aada989c35c82a2f3a03ca77f/106011.mp4.m3u8\n",
      "\n",
      "summary\n",
      "m3u8_uri: https://p-movie.learning-ware.jp/hls-vod/p-movie/530/e61356f153072a8aada989c35c82a2f3a03ca77f/106011.mp4.m3u8;\n",
      "max_retry_times: 3;\n",
      "tmp_dir: C:\\Users\\jerem\\AppData\\Local\\Temp\\m3u8_3443282701;\n",
      "mp4_file_path: ./m3u8_To_MP4.mp4;\n",
      "\n",
      "segment set: |##################################################| 100.0% downloaded segments successfully!\n"
     ]
    },
    {
     "name": "stderr",
     "output_type": "stream",
     "text": [
      "2023-06-18 18:07:15,496 | INFO | decrypt and dump segments...\n",
      "2023-06-18 18:07:15,507 | INFO | merging segments...\n",
      "2023-06-18 18:07:15,919 | INFO | download successfully！ take 1.05s,  average download speed is 18808.37KB/s\n",
      "2023-06-18 18:07:17,278 | INFO | Resolved available hosts:\n",
      "2023-06-18 18:07:17,278 | INFO | 151.101.110.225:443\n"
     ]
    },
    {
     "name": "stdout",
     "output_type": "stream",
     "text": [
      "https://p-movie.learning-ware.jp/hls-vod/p-movie/530/8b4cccd8199706651268f2bd15722414f3f625ad/106012.mp4.m3u8\n",
      "\n",
      "summary\n",
      "m3u8_uri: https://p-movie.learning-ware.jp/hls-vod/p-movie/530/8b4cccd8199706651268f2bd15722414f3f625ad/106012.mp4.m3u8;\n",
      "max_retry_times: 3;\n",
      "tmp_dir: C:\\Users\\jerem\\AppData\\Local\\Temp\\m3u8_1766997692;\n",
      "mp4_file_path: ./m3u8_To_MP4.mp4;\n",
      "\n",
      "segment set: |##################################################| 100.0% downloaded segments successfully!\n"
     ]
    },
    {
     "name": "stderr",
     "output_type": "stream",
     "text": [
      "2023-06-18 18:07:18,290 | INFO | decrypt and dump segments...\n",
      "2023-06-18 18:07:18,331 | INFO | merging segments...\n",
      "2023-06-18 18:07:19,017 | INFO | download successfully！ take 1.74s,  average download speed is 20890.76KB/s\n",
      "2023-06-18 18:07:20,495 | INFO | Resolved available hosts:\n",
      "2023-06-18 18:07:20,496 | INFO | 151.101.110.225:443\n"
     ]
    },
    {
     "name": "stdout",
     "output_type": "stream",
     "text": [
      "https://p-movie.learning-ware.jp/hls-vod/p-movie/530/171d47238d681ef34f24b0376cb0158b2dcc51f2/106013.mp4.m3u8\n",
      "\n",
      "summary\n",
      "m3u8_uri: https://p-movie.learning-ware.jp/hls-vod/p-movie/530/171d47238d681ef34f24b0376cb0158b2dcc51f2/106013.mp4.m3u8;\n",
      "max_retry_times: 3;\n",
      "tmp_dir: C:\\Users\\jerem\\AppData\\Local\\Temp\\m3u8_1922032646;\n",
      "mp4_file_path: ./m3u8_To_MP4.mp4;\n",
      "\n",
      "segment set: |##################################################| 100.0% downloaded segments successfully!\n"
     ]
    },
    {
     "name": "stderr",
     "output_type": "stream",
     "text": [
      "2023-06-18 18:07:21,351 | INFO | decrypt and dump segments...\n",
      "2023-06-18 18:07:21,368 | INFO | merging segments...\n",
      "2023-06-18 18:07:21,821 | INFO | download successfully！ take 1.33s,  average download speed is 16722.48KB/s\n",
      "2023-06-18 18:07:23,184 | INFO | Resolved available hosts:\n",
      "2023-06-18 18:07:23,185 | INFO | 151.101.110.225:443\n"
     ]
    },
    {
     "name": "stdout",
     "output_type": "stream",
     "text": [
      "https://p-movie.learning-ware.jp/hls-vod/p-movie/530/74d6746bc6b34e6a62c7f193ae54b610da499dff/106014.mp4.m3u8\n",
      "\n",
      "summary\n",
      "m3u8_uri: https://p-movie.learning-ware.jp/hls-vod/p-movie/530/74d6746bc6b34e6a62c7f193ae54b610da499dff/106014.mp4.m3u8;\n",
      "max_retry_times: 3;\n",
      "tmp_dir: C:\\Users\\jerem\\AppData\\Local\\Temp\\m3u8_541634897;\n",
      "mp4_file_path: ./m3u8_To_MP4.mp4;\n",
      "\n",
      "segment set: |##################################################| 100.0% downloaded segments successfully!\n"
     ]
    },
    {
     "name": "stderr",
     "output_type": "stream",
     "text": [
      "2023-06-18 18:07:24,339 | INFO | decrypt and dump segments...\n",
      "2023-06-18 18:07:24,360 | INFO | merging segments...\n",
      "2023-06-18 18:07:25,011 | INFO | download successfully！ take 1.83s,  average download speed is 17846.80KB/s\n"
     ]
    },
    {
     "name": "stdout",
     "output_type": "stream",
     "text": [
      "nothing found\n"
     ]
    },
    {
     "name": "stderr",
     "output_type": "stream",
     "text": [
      "2023-06-18 18:07:28,552 | INFO | Resolved available hosts:\n",
      "2023-06-18 18:07:28,553 | INFO | 151.101.110.225:443\n"
     ]
    },
    {
     "name": "stdout",
     "output_type": "stream",
     "text": [
      "https://p-movie.learning-ware.jp/hls-vod/p-movie/530/793b09221f6d2cef149c129a120a21886c513665/90879.mp4.m3u8\n",
      "\n",
      "summary\n",
      "m3u8_uri: https://p-movie.learning-ware.jp/hls-vod/p-movie/530/793b09221f6d2cef149c129a120a21886c513665/90879.mp4.m3u8;\n",
      "max_retry_times: 3;\n",
      "tmp_dir: C:\\Users\\jerem\\AppData\\Local\\Temp\\m3u8_2470636777;\n",
      "mp4_file_path: ./m3u8_To_MP4.mp4;\n",
      "\n",
      "segment set: |##################################################| 100.0% downloaded segments successfully!\n"
     ]
    },
    {
     "name": "stderr",
     "output_type": "stream",
     "text": [
      "2023-06-18 18:07:31,181 | INFO | decrypt and dump segments...\n",
      "2023-06-18 18:07:31,281 | INFO | merging segments...\n",
      "2023-06-18 18:07:34,442 | INFO | download successfully！ take 5.89s,  average download speed is 52197.88KB/s\n",
      "2023-06-18 18:07:35,833 | INFO | Resolved available hosts:\n",
      "2023-06-18 18:07:35,834 | INFO | 151.101.110.225:443\n"
     ]
    },
    {
     "name": "stdout",
     "output_type": "stream",
     "text": [
      "https://p-movie.learning-ware.jp/hls-vod/p-movie/530/b39d66ba8aea1e174488f4747446dea246440385/90873.mp4.m3u8\n",
      "\n",
      "summary\n",
      "m3u8_uri: https://p-movie.learning-ware.jp/hls-vod/p-movie/530/b39d66ba8aea1e174488f4747446dea246440385/90873.mp4.m3u8;\n",
      "max_retry_times: 3;\n",
      "tmp_dir: C:\\Users\\jerem\\AppData\\Local\\Temp\\m3u8_1534375790;\n",
      "mp4_file_path: ./m3u8_To_MP4.mp4;\n",
      "\n",
      "segment set: |##################################################| 100.0% downloaded segments successfully!\n"
     ]
    },
    {
     "name": "stderr",
     "output_type": "stream",
     "text": [
      "2023-06-18 18:07:36,568 | INFO | decrypt and dump segments...\n",
      "2023-06-18 18:07:36,592 | INFO | merging segments...\n",
      "2023-06-18 18:07:36,918 | INFO | download successfully！ take 1.09s,  average download speed is 11669.91KB/s\n",
      "2023-06-18 18:07:38,502 | INFO | Resolved available hosts:\n",
      "2023-06-18 18:07:38,503 | INFO | 151.101.110.225:443\n"
     ]
    },
    {
     "name": "stdout",
     "output_type": "stream",
     "text": [
      "https://p-movie.learning-ware.jp/hls-vod/p-movie/530/21450d4bab697775f7aa2469a381deb741870c80/106015.mp4.m3u8\n",
      "\n",
      "summary\n",
      "m3u8_uri: https://p-movie.learning-ware.jp/hls-vod/p-movie/530/21450d4bab697775f7aa2469a381deb741870c80/106015.mp4.m3u8;\n",
      "max_retry_times: 3;\n",
      "tmp_dir: C:\\Users\\jerem\\AppData\\Local\\Temp\\m3u8_2787169706;\n",
      "mp4_file_path: ./m3u8_To_MP4.mp4;\n",
      "\n",
      "segment set: |##################################################| 100.0% downloaded segments successfully!\n"
     ]
    },
    {
     "name": "stderr",
     "output_type": "stream",
     "text": [
      "2023-06-18 18:07:39,832 | INFO | decrypt and dump segments...\n",
      "2023-06-18 18:07:39,849 | INFO | merging segments...\n",
      "2023-06-18 18:07:40,522 | INFO | download successfully！ take 2.04s,  average download speed is 14284.20KB/s\n",
      "2023-06-18 18:07:41,918 | INFO | Resolved available hosts:\n",
      "2023-06-18 18:07:41,919 | INFO | 151.101.110.225:443\n"
     ]
    },
    {
     "name": "stdout",
     "output_type": "stream",
     "text": [
      "https://p-movie.learning-ware.jp/hls-vod/p-movie/530/b6ba756569a93415ff5af4020a91e36eb2015c43/106016.mp4.m3u8\n",
      "\n",
      "summary\n",
      "m3u8_uri: https://p-movie.learning-ware.jp/hls-vod/p-movie/530/b6ba756569a93415ff5af4020a91e36eb2015c43/106016.mp4.m3u8;\n",
      "max_retry_times: 3;\n",
      "tmp_dir: C:\\Users\\jerem\\AppData\\Local\\Temp\\m3u8_640750310;\n",
      "mp4_file_path: ./m3u8_To_MP4.mp4;\n",
      "\n",
      "segment set: |##################################################| 100.0% downloaded segments successfully!\n"
     ]
    },
    {
     "name": "stderr",
     "output_type": "stream",
     "text": [
      "2023-06-18 18:07:43,403 | INFO | decrypt and dump segments...\n",
      "2023-06-18 18:07:43,430 | INFO | merging segments...\n",
      "2023-06-18 18:07:44,335 | INFO | download successfully！ take 2.42s,  average download speed is 20376.78KB/s\n",
      "2023-06-18 18:07:45,707 | INFO | Resolved available hosts:\n",
      "2023-06-18 18:07:45,707 | INFO | 151.101.110.225:443\n"
     ]
    },
    {
     "name": "stdout",
     "output_type": "stream",
     "text": [
      "https://p-movie.learning-ware.jp/hls-vod/p-movie/530/eb93fbc1a0d0dba80d29f87d2d713ab16099c4ce/90874.mp4.m3u8\n",
      "\n",
      "summary\n",
      "m3u8_uri: https://p-movie.learning-ware.jp/hls-vod/p-movie/530/eb93fbc1a0d0dba80d29f87d2d713ab16099c4ce/90874.mp4.m3u8;\n",
      "max_retry_times: 3;\n",
      "tmp_dir: C:\\Users\\jerem\\AppData\\Local\\Temp\\m3u8_1861055914;\n",
      "mp4_file_path: ./m3u8_To_MP4.mp4;\n",
      "\n",
      "segment set: |##################################################| 100.0% downloaded segments successfully!\n"
     ]
    },
    {
     "name": "stderr",
     "output_type": "stream",
     "text": [
      "2023-06-18 18:07:46,966 | INFO | decrypt and dump segments...\n",
      "2023-06-18 18:07:46,987 | INFO | merging segments...\n",
      "2023-06-18 18:07:47,758 | INFO | download successfully！ take 2.05s,  average download speed is 25615.10KB/s\n",
      "2023-06-18 18:07:49,207 | INFO | Resolved available hosts:\n",
      "2023-06-18 18:07:49,207 | INFO | 151.101.110.225:443\n"
     ]
    },
    {
     "name": "stdout",
     "output_type": "stream",
     "text": [
      "https://p-movie.learning-ware.jp/hls-vod/p-movie/530/7ec2cc60f222b8215502f60d4ac2d88a2f0b0cd6/90878.mp4.m3u8\n",
      "\n",
      "summary\n",
      "m3u8_uri: https://p-movie.learning-ware.jp/hls-vod/p-movie/530/7ec2cc60f222b8215502f60d4ac2d88a2f0b0cd6/90878.mp4.m3u8;\n",
      "max_retry_times: 3;\n",
      "tmp_dir: C:\\Users\\jerem\\AppData\\Local\\Temp\\m3u8_1707422654;\n",
      "mp4_file_path: ./m3u8_To_MP4.mp4;\n",
      "\n",
      "segment set: |##################################################| 100.0% downloaded segments successfully!\n"
     ]
    },
    {
     "name": "stderr",
     "output_type": "stream",
     "text": [
      "2023-06-18 18:07:50,544 | INFO | decrypt and dump segments...\n",
      "2023-06-18 18:07:50,586 | INFO | merging segments...\n",
      "2023-06-18 18:07:51,965 | INFO | download successfully！ take 2.76s,  average download speed is 40531.14KB/s\n",
      "2023-06-18 18:07:53,566 | INFO | Resolved available hosts:\n",
      "2023-06-18 18:07:53,566 | INFO | 151.101.110.225:443\n"
     ]
    },
    {
     "name": "stdout",
     "output_type": "stream",
     "text": [
      "https://p-movie.learning-ware.jp/hls-vod/p-movie/530/cdf5be8887f3a05394b669e3b0c12ca7b994af93/91208.mp4.m3u8\n",
      "\n",
      "summary\n",
      "m3u8_uri: https://p-movie.learning-ware.jp/hls-vod/p-movie/530/cdf5be8887f3a05394b669e3b0c12ca7b994af93/91208.mp4.m3u8;\n",
      "max_retry_times: 3;\n",
      "tmp_dir: C:\\Users\\jerem\\AppData\\Local\\Temp\\m3u8_408908359;\n",
      "mp4_file_path: ./m3u8_To_MP4.mp4;\n",
      "\n",
      "segment set: |##################################################| 100.0% downloaded segments successfully!\n"
     ]
    },
    {
     "name": "stderr",
     "output_type": "stream",
     "text": [
      "2023-06-18 18:07:56,095 | INFO | decrypt and dump segments...\n",
      "2023-06-18 18:07:56,176 | INFO | merging segments...\n",
      "2023-06-18 18:07:59,080 | INFO | download successfully！ take 5.52s,  average download speed is 49889.93KB/s\n",
      "2023-06-18 18:08:00,721 | INFO | Resolved available hosts:\n",
      "2023-06-18 18:08:00,722 | INFO | 151.101.110.225:443\n"
     ]
    },
    {
     "name": "stdout",
     "output_type": "stream",
     "text": [
      "https://p-movie.learning-ware.jp/hls-vod/p-movie/530/acd78e8958058f73a851d5aae5bc1a0bb6158e08/106017.mp4.m3u8\n",
      "\n",
      "summary\n",
      "m3u8_uri: https://p-movie.learning-ware.jp/hls-vod/p-movie/530/acd78e8958058f73a851d5aae5bc1a0bb6158e08/106017.mp4.m3u8;\n",
      "max_retry_times: 3;\n",
      "tmp_dir: C:\\Users\\jerem\\AppData\\Local\\Temp\\m3u8_4009865885;\n",
      "mp4_file_path: ./m3u8_To_MP4.mp4;\n",
      "\n",
      "segment set: |##################################################| 100.0% downloaded segments successfully!\n"
     ]
    },
    {
     "name": "stderr",
     "output_type": "stream",
     "text": [
      "2023-06-18 18:08:01,413 | INFO | decrypt and dump segments...\n",
      "2023-06-18 18:08:01,422 | INFO | merging segments...\n",
      "2023-06-18 18:08:01,755 | INFO | download successfully！ take 1.03s,  average download speed is 14747.53KB/s\n",
      "2023-06-18 18:08:03,186 | INFO | Resolved available hosts:\n",
      "2023-06-18 18:08:03,187 | INFO | 151.101.110.225:443\n"
     ]
    },
    {
     "name": "stdout",
     "output_type": "stream",
     "text": [
      "https://p-movie.learning-ware.jp/hls-vod/p-movie/530/c0c084553ffbad80614ea46c239d02205a813082/106018.mp4.m3u8\n",
      "\n",
      "summary\n",
      "m3u8_uri: https://p-movie.learning-ware.jp/hls-vod/p-movie/530/c0c084553ffbad80614ea46c239d02205a813082/106018.mp4.m3u8;\n",
      "max_retry_times: 3;\n",
      "tmp_dir: C:\\Users\\jerem\\AppData\\Local\\Temp\\m3u8_856646224;\n",
      "mp4_file_path: ./m3u8_To_MP4.mp4;\n",
      "\n",
      "segment set: |##################################################| 100.0% downloaded segments successfully!\n"
     ]
    },
    {
     "name": "stderr",
     "output_type": "stream",
     "text": [
      "2023-06-18 18:08:04,543 | INFO | decrypt and dump segments...\n",
      "2023-06-18 18:08:04,568 | INFO | merging segments...\n",
      "2023-06-18 18:08:05,437 | INFO | download successfully！ take 2.25s,  average download speed is 21584.24KB/s\n",
      "2023-06-18 18:08:07,013 | INFO | Resolved available hosts:\n",
      "2023-06-18 18:08:07,014 | INFO | 151.101.110.225:443\n"
     ]
    },
    {
     "name": "stdout",
     "output_type": "stream",
     "text": [
      "https://p-movie.learning-ware.jp/hls-vod/p-movie/530/a5f9769120bb2d6e663ff5f802370347a386ba50/106019.mp4.m3u8\n",
      "\n",
      "summary\n",
      "m3u8_uri: https://p-movie.learning-ware.jp/hls-vod/p-movie/530/a5f9769120bb2d6e663ff5f802370347a386ba50/106019.mp4.m3u8;\n",
      "max_retry_times: 3;\n",
      "tmp_dir: C:\\Users\\jerem\\AppData\\Local\\Temp\\m3u8_3891481013;\n",
      "mp4_file_path: ./m3u8_To_MP4.mp4;\n",
      "\n",
      "segment set: |##################################################| 100.0% downloaded segments successfully!\n"
     ]
    },
    {
     "name": "stderr",
     "output_type": "stream",
     "text": [
      "2023-06-18 18:08:07,547 | INFO | decrypt and dump segments...\n",
      "2023-06-18 18:08:07,555 | INFO | merging segments...\n",
      "2023-06-18 18:08:07,783 | INFO | download successfully！ take 0.77s,  average download speed is 10669.54KB/s\n",
      "2023-06-18 18:08:09,444 | INFO | Resolved available hosts:\n",
      "2023-06-18 18:08:09,444 | INFO | 151.101.110.225:443\n"
     ]
    },
    {
     "name": "stdout",
     "output_type": "stream",
     "text": [
      "https://p-movie.learning-ware.jp/hls-vod/p-movie/530/4b5ed3bf556ea23e971f6b480234c805c9074f30/106020.mp4.m3u8\n",
      "\n",
      "summary\n",
      "m3u8_uri: https://p-movie.learning-ware.jp/hls-vod/p-movie/530/4b5ed3bf556ea23e971f6b480234c805c9074f30/106020.mp4.m3u8;\n",
      "max_retry_times: 3;\n",
      "tmp_dir: C:\\Users\\jerem\\AppData\\Local\\Temp\\m3u8_2880473872;\n",
      "mp4_file_path: ./m3u8_To_MP4.mp4;\n",
      "\n",
      "segment set: |##################################################| 100.0% downloaded segments successfully!\n"
     ]
    },
    {
     "name": "stderr",
     "output_type": "stream",
     "text": [
      "2023-06-18 18:08:10,363 | INFO | decrypt and dump segments...\n",
      "2023-06-18 18:08:10,382 | INFO | merging segments...\n",
      "2023-06-18 18:08:11,509 | INFO | download successfully！ take 2.08s,  average download speed is 20491.60KB/s\n",
      "2023-06-18 18:08:12,899 | INFO | Resolved available hosts:\n",
      "2023-06-18 18:08:12,900 | INFO | 151.101.110.225:443\n"
     ]
    },
    {
     "name": "stdout",
     "output_type": "stream",
     "text": [
      "https://p-movie.learning-ware.jp/hls-vod/p-movie/530/587fc25ba9f7be8df84d7475fef042e1682bd66b/106021.mp4.m3u8\n",
      "\n",
      "summary\n",
      "m3u8_uri: https://p-movie.learning-ware.jp/hls-vod/p-movie/530/587fc25ba9f7be8df84d7475fef042e1682bd66b/106021.mp4.m3u8;\n",
      "max_retry_times: 3;\n",
      "tmp_dir: C:\\Users\\jerem\\AppData\\Local\\Temp\\m3u8_2669504969;\n",
      "mp4_file_path: ./m3u8_To_MP4.mp4;\n",
      "\n",
      "segment set: |##################################################| 100.0% downloaded segments successfully!\n"
     ]
    },
    {
     "name": "stderr",
     "output_type": "stream",
     "text": [
      "2023-06-18 18:08:14,328 | INFO | decrypt and dump segments...\n",
      "2023-06-18 18:08:14,353 | INFO | merging segments...\n",
      "2023-06-18 18:08:15,207 | INFO | download successfully！ take 2.31s,  average download speed is 19537.14KB/s\n",
      "2023-06-18 18:08:16,593 | INFO | Resolved available hosts:\n",
      "2023-06-18 18:08:16,594 | INFO | 151.101.110.225:443\n"
     ]
    },
    {
     "name": "stdout",
     "output_type": "stream",
     "text": [
      "https://p-movie.learning-ware.jp/hls-vod/p-movie/530/155155a136242b8bd5992be3a4557895e2cc61c3/106022.mp4.m3u8\n",
      "\n",
      "summary\n",
      "m3u8_uri: https://p-movie.learning-ware.jp/hls-vod/p-movie/530/155155a136242b8bd5992be3a4557895e2cc61c3/106022.mp4.m3u8;\n",
      "max_retry_times: 3;\n",
      "tmp_dir: C:\\Users\\jerem\\AppData\\Local\\Temp\\m3u8_418202990;\n",
      "mp4_file_path: ./m3u8_To_MP4.mp4;\n",
      "\n",
      "segment set: |##################################################| 100.0% downloaded segments successfully!\n"
     ]
    },
    {
     "name": "stderr",
     "output_type": "stream",
     "text": [
      "2023-06-18 18:08:17,952 | INFO | decrypt and dump segments...\n",
      "2023-06-18 18:08:17,968 | INFO | merging segments...\n",
      "2023-06-18 18:08:18,543 | INFO | download successfully！ take 1.95s,  average download speed is 13218.02KB/s\n",
      "2023-06-18 18:08:19,976 | INFO | Resolved available hosts:\n",
      "2023-06-18 18:08:19,977 | INFO | 151.101.110.225:443\n"
     ]
    },
    {
     "name": "stdout",
     "output_type": "stream",
     "text": [
      "https://p-movie.learning-ware.jp/hls-vod/p-movie/530/66b42b6ea7c494cbcde357781207bae4336b36d5/106023.mp4.m3u8\n",
      "\n",
      "summary\n",
      "m3u8_uri: https://p-movie.learning-ware.jp/hls-vod/p-movie/530/66b42b6ea7c494cbcde357781207bae4336b36d5/106023.mp4.m3u8;\n",
      "max_retry_times: 3;\n",
      "tmp_dir: C:\\Users\\jerem\\AppData\\Local\\Temp\\m3u8_2281101338;\n",
      "mp4_file_path: ./m3u8_To_MP4.mp4;\n",
      "\n",
      "segment set: |##################################################| 100.0% downloaded segments successfully!\n"
     ]
    },
    {
     "name": "stderr",
     "output_type": "stream",
     "text": [
      "2023-06-18 18:08:20,720 | INFO | decrypt and dump segments...\n",
      "2023-06-18 18:08:20,743 | INFO | merging segments...\n",
      "2023-06-18 18:08:21,306 | INFO | download successfully！ take 1.33s,  average download speed is 21054.83KB/s\n",
      "2023-06-18 18:08:22,893 | INFO | Resolved available hosts:\n",
      "2023-06-18 18:08:22,894 | INFO | 151.101.110.225:443\n"
     ]
    },
    {
     "name": "stdout",
     "output_type": "stream",
     "text": [
      "https://p-movie.learning-ware.jp/hls-vod/p-movie/530/3614d0ba73b20717f0792660544ef46a6fef0f48/90876.mp4.m3u8\n",
      "\n",
      "summary\n",
      "m3u8_uri: https://p-movie.learning-ware.jp/hls-vod/p-movie/530/3614d0ba73b20717f0792660544ef46a6fef0f48/90876.mp4.m3u8;\n",
      "max_retry_times: 3;\n",
      "tmp_dir: C:\\Users\\jerem\\AppData\\Local\\Temp\\m3u8_1739642971;\n",
      "mp4_file_path: ./m3u8_To_MP4.mp4;\n",
      "\n",
      "segment set: |##################################################| 100.0% downloaded segments successfully!\n"
     ]
    },
    {
     "name": "stderr",
     "output_type": "stream",
     "text": [
      "2023-06-18 18:08:24,503 | INFO | decrypt and dump segments...\n",
      "2023-06-18 18:08:24,586 | INFO | merging segments...\n",
      "2023-06-18 18:08:26,432 | INFO | download successfully！ take 3.54s,  average download speed is 47638.65KB/s\n",
      "2023-06-18 18:08:28,095 | INFO | Resolved available hosts:\n",
      "2023-06-18 18:08:28,096 | INFO | 151.101.110.225:443\n"
     ]
    },
    {
     "name": "stdout",
     "output_type": "stream",
     "text": [
      "https://p-movie.learning-ware.jp/hls-vod/p-movie/530/1e24793bbe27d85b72804ef2c9de54f7dd294d5c/91207.mp4.m3u8\n",
      "\n",
      "summary\n",
      "m3u8_uri: https://p-movie.learning-ware.jp/hls-vod/p-movie/530/1e24793bbe27d85b72804ef2c9de54f7dd294d5c/91207.mp4.m3u8;\n",
      "max_retry_times: 3;\n",
      "tmp_dir: C:\\Users\\jerem\\AppData\\Local\\Temp\\m3u8_1502281879;\n",
      "mp4_file_path: ./m3u8_To_MP4.mp4;\n",
      "\n",
      "segment set: |##################################################| 100.0% downloaded segments successfully!\n"
     ]
    },
    {
     "name": "stderr",
     "output_type": "stream",
     "text": [
      "2023-06-18 18:08:30,379 | INFO | decrypt and dump segments...\n",
      "2023-06-18 18:08:30,453 | INFO | merging segments...\n",
      "2023-06-18 18:08:33,090 | INFO | download successfully！ take 5.00s,  average download speed is 51100.66KB/s\n",
      "2023-06-18 18:08:34,612 | INFO | Resolved available hosts:\n",
      "2023-06-18 18:08:34,612 | INFO | 151.101.110.225:443\n"
     ]
    },
    {
     "name": "stdout",
     "output_type": "stream",
     "text": [
      "https://p-movie.learning-ware.jp/hls-vod/p-movie/530/159a998441ead32d88a5a06dc35b53feb9f5a715/106024.mp4.m3u8\n",
      "\n",
      "summary\n",
      "m3u8_uri: https://p-movie.learning-ware.jp/hls-vod/p-movie/530/159a998441ead32d88a5a06dc35b53feb9f5a715/106024.mp4.m3u8;\n",
      "max_retry_times: 3;\n",
      "tmp_dir: C:\\Users\\jerem\\AppData\\Local\\Temp\\m3u8_3789192418;\n",
      "mp4_file_path: ./m3u8_To_MP4.mp4;\n",
      "\n",
      "segment set: |##################################################| 100.0% downloaded segments successfully!\n"
     ]
    },
    {
     "name": "stderr",
     "output_type": "stream",
     "text": [
      "2023-06-18 18:08:35,256 | INFO | decrypt and dump segments...\n",
      "2023-06-18 18:08:35,270 | INFO | merging segments...\n",
      "2023-06-18 18:08:35,779 | INFO | download successfully！ take 1.17s,  average download speed is 23745.11KB/s\n",
      "2023-06-18 18:08:37,189 | INFO | Resolved available hosts:\n",
      "2023-06-18 18:08:37,190 | INFO | 151.101.110.225:443\n"
     ]
    },
    {
     "name": "stdout",
     "output_type": "stream",
     "text": [
      "https://p-movie.learning-ware.jp/hls-vod/p-movie/530/ed03d5eeed52642fd4e1d65463b554a5c56d5c17/106025.mp4.m3u8\n",
      "\n",
      "summary\n",
      "m3u8_uri: https://p-movie.learning-ware.jp/hls-vod/p-movie/530/ed03d5eeed52642fd4e1d65463b554a5c56d5c17/106025.mp4.m3u8;\n",
      "max_retry_times: 3;\n",
      "tmp_dir: C:\\Users\\jerem\\AppData\\Local\\Temp\\m3u8_2746421689;\n",
      "mp4_file_path: ./m3u8_To_MP4.mp4;\n",
      "\n",
      "segment set: |##################################################| 100.0% downloaded segments successfully!\n"
     ]
    },
    {
     "name": "stderr",
     "output_type": "stream",
     "text": [
      "2023-06-18 18:08:38,019 | INFO | decrypt and dump segments...\n",
      "2023-06-18 18:08:38,033 | INFO | merging segments...\n",
      "2023-06-18 18:08:38,618 | INFO | download successfully！ take 1.43s,  average download speed is 21435.15KB/s\n",
      "2023-06-18 18:08:40,112 | INFO | Resolved available hosts:\n",
      "2023-06-18 18:08:40,112 | INFO | 151.101.110.225:443\n"
     ]
    },
    {
     "name": "stdout",
     "output_type": "stream",
     "text": [
      "https://p-movie.learning-ware.jp/hls-vod/p-movie/530/1c7782da33573d6d2f26ecaadca4758d232185e7/106026.mp4.m3u8\n",
      "\n",
      "summary\n",
      "m3u8_uri: https://p-movie.learning-ware.jp/hls-vod/p-movie/530/1c7782da33573d6d2f26ecaadca4758d232185e7/106026.mp4.m3u8;\n",
      "max_retry_times: 3;\n",
      "tmp_dir: C:\\Users\\jerem\\AppData\\Local\\Temp\\m3u8_1893197669;\n",
      "mp4_file_path: ./m3u8_To_MP4.mp4;\n",
      "\n",
      "segment set: |##################################################| 100.0% downloaded segments successfully!\n"
     ]
    },
    {
     "name": "stderr",
     "output_type": "stream",
     "text": [
      "2023-06-18 18:08:41,076 | INFO | decrypt and dump segments...\n",
      "2023-06-18 18:08:41,094 | INFO | merging segments...\n",
      "2023-06-18 18:08:41,764 | INFO | download successfully！ take 1.67s,  average download speed is 22433.50KB/s\n",
      "2023-06-18 18:08:43,320 | INFO | Resolved available hosts:\n",
      "2023-06-18 18:08:43,321 | INFO | 151.101.110.225:443\n"
     ]
    },
    {
     "name": "stdout",
     "output_type": "stream",
     "text": [
      "https://p-movie.learning-ware.jp/hls-vod/p-movie/530/acdae4fbe7ddedc3313870be853a2d37fb749641/106027.mp4.m3u8\n",
      "\n",
      "summary\n",
      "m3u8_uri: https://p-movie.learning-ware.jp/hls-vod/p-movie/530/acdae4fbe7ddedc3313870be853a2d37fb749641/106027.mp4.m3u8;\n",
      "max_retry_times: 3;\n",
      "tmp_dir: C:\\Users\\jerem\\AppData\\Local\\Temp\\m3u8_3655721879;\n",
      "mp4_file_path: ./m3u8_To_MP4.mp4;\n",
      "\n",
      "segment set: |##################################################| 100.0% downloaded segments successfully!\n"
     ]
    },
    {
     "name": "stderr",
     "output_type": "stream",
     "text": [
      "2023-06-18 18:08:44,756 | INFO | decrypt and dump segments...\n",
      "2023-06-18 18:08:44,793 | INFO | merging segments...\n",
      "2023-06-18 18:08:45,618 | INFO | download successfully！ take 2.30s,  average download speed is 18874.88KB/s\n",
      "2023-06-18 18:08:47,039 | INFO | Resolved available hosts:\n",
      "2023-06-18 18:08:47,040 | INFO | 151.101.110.225:443\n"
     ]
    },
    {
     "name": "stdout",
     "output_type": "stream",
     "text": [
      "https://p-movie.learning-ware.jp/hls-vod/p-movie/530/88360b4f6b46ac2d886e09c1f537a7227e4849db/106028.mp4.m3u8\n",
      "\n",
      "summary\n",
      "m3u8_uri: https://p-movie.learning-ware.jp/hls-vod/p-movie/530/88360b4f6b46ac2d886e09c1f537a7227e4849db/106028.mp4.m3u8;\n",
      "max_retry_times: 3;\n",
      "tmp_dir: C:\\Users\\jerem\\AppData\\Local\\Temp\\m3u8_975415976;\n",
      "mp4_file_path: ./m3u8_To_MP4.mp4;\n",
      "\n",
      "segment set: |##################################################| 100.0% downloaded segments successfully!\n"
     ]
    },
    {
     "name": "stderr",
     "output_type": "stream",
     "text": [
      "2023-06-18 18:08:47,573 | INFO | decrypt and dump segments...\n",
      "2023-06-18 18:08:47,582 | INFO | merging segments...\n",
      "2023-06-18 18:08:47,899 | INFO | download successfully！ take 0.86s,  average download speed is 16635.85KB/s\n",
      "2023-06-18 18:08:49,256 | INFO | Resolved available hosts:\n",
      "2023-06-18 18:08:49,256 | INFO | 151.101.110.225:443\n"
     ]
    },
    {
     "name": "stdout",
     "output_type": "stream",
     "text": [
      "https://p-movie.learning-ware.jp/hls-vod/p-movie/530/109b912be5e2778d9664af552e55ea2534c11b6b/106029.mp4.m3u8\n",
      "\n",
      "summary\n",
      "m3u8_uri: https://p-movie.learning-ware.jp/hls-vod/p-movie/530/109b912be5e2778d9664af552e55ea2534c11b6b/106029.mp4.m3u8;\n",
      "max_retry_times: 3;\n",
      "tmp_dir: C:\\Users\\jerem\\AppData\\Local\\Temp\\m3u8_3492249900;\n",
      "mp4_file_path: ./m3u8_To_MP4.mp4;\n",
      "\n",
      "segment set: |##################################################| 100.0% downloaded segments successfully!\n"
     ]
    },
    {
     "name": "stderr",
     "output_type": "stream",
     "text": [
      "2023-06-18 18:08:50,634 | INFO | decrypt and dump segments...\n",
      "2023-06-18 18:08:50,681 | INFO | merging segments...\n",
      "2023-06-18 18:08:51,311 | INFO | download successfully！ take 2.06s,  average download speed is 13966.26KB/s\n",
      "2023-06-18 18:08:53,120 | INFO | Resolved available hosts:\n",
      "2023-06-18 18:08:53,121 | INFO | 151.101.110.225:443\n"
     ]
    },
    {
     "name": "stdout",
     "output_type": "stream",
     "text": [
      "https://p-movie.learning-ware.jp/hls-vod/p-movie/530/e5006fa2e7c575a06c415383695cacd463d552b0/90883.mp4.m3u8\n",
      "\n",
      "summary\n",
      "m3u8_uri: https://p-movie.learning-ware.jp/hls-vod/p-movie/530/e5006fa2e7c575a06c415383695cacd463d552b0/90883.mp4.m3u8;\n",
      "max_retry_times: 3;\n",
      "tmp_dir: C:\\Users\\jerem\\AppData\\Local\\Temp\\m3u8_19056694;\n",
      "mp4_file_path: ./m3u8_To_MP4.mp4;\n",
      "\n",
      "segment set: |##################################################| 100.0% downloaded segments successfully!\n"
     ]
    },
    {
     "name": "stderr",
     "output_type": "stream",
     "text": [
      "2023-06-18 18:08:53,894 | INFO | decrypt and dump segments...\n",
      "2023-06-18 18:08:53,904 | INFO | merging segments...\n",
      "2023-06-18 18:08:54,283 | INFO | download successfully！ take 1.16s,  average download speed is 18459.43KB/s\n",
      "2023-06-18 18:08:55,698 | INFO | Resolved available hosts:\n",
      "2023-06-18 18:08:55,699 | INFO | 151.101.110.225:443\n"
     ]
    },
    {
     "name": "stdout",
     "output_type": "stream",
     "text": [
      "https://p-movie.learning-ware.jp/hls-vod/p-movie/530/5f266b5b14ca889042ff596b75091f2594872962/90888.mp4.m3u8\n",
      "\n",
      "summary\n",
      "m3u8_uri: https://p-movie.learning-ware.jp/hls-vod/p-movie/530/5f266b5b14ca889042ff596b75091f2594872962/90888.mp4.m3u8;\n",
      "max_retry_times: 3;\n",
      "tmp_dir: C:\\Users\\jerem\\AppData\\Local\\Temp\\m3u8_3486349030;\n",
      "mp4_file_path: ./m3u8_To_MP4.mp4;\n",
      "\n",
      "segment set: |##################################################| 100.0% downloaded segments successfully!\n"
     ]
    },
    {
     "name": "stderr",
     "output_type": "stream",
     "text": [
      "2023-06-18 18:08:57,289 | INFO | decrypt and dump segments...\n",
      "2023-06-18 18:08:57,322 | INFO | merging segments...\n",
      "2023-06-18 18:08:58,508 | INFO | download successfully！ take 2.81s,  average download speed is 31233.28KB/s\n",
      "2023-06-18 18:08:59,936 | INFO | Resolved available hosts:\n",
      "2023-06-18 18:08:59,936 | INFO | 151.101.110.225:443\n"
     ]
    },
    {
     "name": "stdout",
     "output_type": "stream",
     "text": [
      "https://p-movie.learning-ware.jp/hls-vod/p-movie/530/0114b6b4ea56d956c0e6b79b1d7b014451249e8d/106030.mp4.m3u8\n",
      "\n",
      "summary\n",
      "m3u8_uri: https://p-movie.learning-ware.jp/hls-vod/p-movie/530/0114b6b4ea56d956c0e6b79b1d7b014451249e8d/106030.mp4.m3u8;\n",
      "max_retry_times: 3;\n",
      "tmp_dir: C:\\Users\\jerem\\AppData\\Local\\Temp\\m3u8_3653752013;\n",
      "mp4_file_path: ./m3u8_To_MP4.mp4;\n",
      "\n",
      "segment set: |##################################################| 100.0% downloaded segments successfully!\n"
     ]
    },
    {
     "name": "stderr",
     "output_type": "stream",
     "text": [
      "2023-06-18 18:09:00,793 | INFO | decrypt and dump segments...\n",
      "2023-06-18 18:09:00,835 | INFO | merging segments...\n",
      "2023-06-18 18:09:01,574 | INFO | download successfully！ take 1.64s,  average download speed is 26055.23KB/s\n",
      "2023-06-18 18:09:03,055 | INFO | Resolved available hosts:\n",
      "2023-06-18 18:09:03,056 | INFO | 151.101.110.225:443\n"
     ]
    },
    {
     "name": "stdout",
     "output_type": "stream",
     "text": [
      "https://p-movie.learning-ware.jp/hls-vod/p-movie/530/7dad38f1b7b60aff746c832b9398596e8a4cd68a/90890.mp4.m3u8\n",
      "\n",
      "summary\n",
      "m3u8_uri: https://p-movie.learning-ware.jp/hls-vod/p-movie/530/7dad38f1b7b60aff746c832b9398596e8a4cd68a/90890.mp4.m3u8;\n",
      "max_retry_times: 3;\n",
      "tmp_dir: C:\\Users\\jerem\\AppData\\Local\\Temp\\m3u8_1691952787;\n",
      "mp4_file_path: ./m3u8_To_MP4.mp4;\n",
      "\n",
      "segment set: |##################################################| 100.0% downloaded segments successfully!\n"
     ]
    },
    {
     "name": "stderr",
     "output_type": "stream",
     "text": [
      "2023-06-18 18:09:04,526 | INFO | decrypt and dump segments...\n",
      "2023-06-18 18:09:04,560 | INFO | merging segments...\n",
      "2023-06-18 18:09:05,644 | INFO | download successfully！ take 2.59s,  average download speed is 30770.60KB/s\n",
      "2023-06-18 18:09:07,104 | INFO | Resolved available hosts:\n",
      "2023-06-18 18:09:07,105 | INFO | 151.101.110.225:443\n"
     ]
    },
    {
     "name": "stdout",
     "output_type": "stream",
     "text": [
      "https://p-movie.learning-ware.jp/hls-vod/p-movie/530/ea3b6cbefce9b042e7519ab43dfdf5fb01e45316/90889.mp4.m3u8\n",
      "\n",
      "summary\n",
      "m3u8_uri: https://p-movie.learning-ware.jp/hls-vod/p-movie/530/ea3b6cbefce9b042e7519ab43dfdf5fb01e45316/90889.mp4.m3u8;\n",
      "max_retry_times: 3;\n",
      "tmp_dir: C:\\Users\\jerem\\AppData\\Local\\Temp\\m3u8_2456745759;\n",
      "mp4_file_path: ./m3u8_To_MP4.mp4;\n",
      "\n",
      "segment set: |##################################################| 100.0% downloaded segments successfully!\n"
     ]
    },
    {
     "name": "stderr",
     "output_type": "stream",
     "text": [
      "2023-06-18 18:09:08,616 | INFO | decrypt and dump segments...\n",
      "2023-06-18 18:09:08,650 | INFO | merging segments...\n",
      "2023-06-18 18:09:09,831 | INFO | download successfully！ take 2.73s,  average download speed is 32289.05KB/s\n",
      "2023-06-18 18:09:11,318 | INFO | Resolved available hosts:\n",
      "2023-06-18 18:09:11,319 | INFO | 151.101.110.225:443\n"
     ]
    },
    {
     "name": "stdout",
     "output_type": "stream",
     "text": [
      "https://p-movie.learning-ware.jp/hls-vod/p-movie/530/0005259a4f463c60ef7983a01757c442f4e746a8/90891.mp4.m3u8\n",
      "\n",
      "summary\n",
      "m3u8_uri: https://p-movie.learning-ware.jp/hls-vod/p-movie/530/0005259a4f463c60ef7983a01757c442f4e746a8/90891.mp4.m3u8;\n",
      "max_retry_times: 3;\n",
      "tmp_dir: C:\\Users\\jerem\\AppData\\Local\\Temp\\m3u8_2924702618;\n",
      "mp4_file_path: ./m3u8_To_MP4.mp4;\n",
      "\n",
      "segment set: |##################################################| 100.0% downloaded segments successfully!\n"
     ]
    },
    {
     "name": "stderr",
     "output_type": "stream",
     "text": [
      "2023-06-18 18:09:13,347 | INFO | decrypt and dump segments...\n",
      "2023-06-18 18:09:13,452 | INFO | merging segments...\n",
      "2023-06-18 18:09:15,089 | INFO | download successfully！ take 3.78s,  average download speed is 33331.89KB/s\n",
      "2023-06-18 18:09:16,484 | INFO | Resolved available hosts:\n",
      "2023-06-18 18:09:16,484 | INFO | 151.101.110.225:443\n"
     ]
    },
    {
     "name": "stdout",
     "output_type": "stream",
     "text": [
      "https://p-movie.learning-ware.jp/hls-vod/p-movie/530/9dc6601be53af723ed2f05419fc66ee533e2bc1d/90886.mp4.m3u8\n",
      "\n",
      "summary\n",
      "m3u8_uri: https://p-movie.learning-ware.jp/hls-vod/p-movie/530/9dc6601be53af723ed2f05419fc66ee533e2bc1d/90886.mp4.m3u8;\n",
      "max_retry_times: 3;\n",
      "tmp_dir: C:\\Users\\jerem\\AppData\\Local\\Temp\\m3u8_1200572820;\n",
      "mp4_file_path: ./m3u8_To_MP4.mp4;\n",
      "\n",
      "segment set: |##################################################| 100.0% downloaded segments successfully!\n"
     ]
    },
    {
     "name": "stderr",
     "output_type": "stream",
     "text": [
      "2023-06-18 18:09:18,346 | INFO | decrypt and dump segments...\n",
      "2023-06-18 18:09:18,434 | INFO | merging segments...\n",
      "2023-06-18 18:09:20,525 | INFO | download successfully！ take 4.04s,  average download speed is 46447.70KB/s\n",
      "2023-06-18 18:09:22,069 | INFO | Resolved available hosts:\n",
      "2023-06-18 18:09:22,069 | INFO | 151.101.110.225:443\n"
     ]
    },
    {
     "name": "stdout",
     "output_type": "stream",
     "text": [
      "https://p-movie.learning-ware.jp/hls-vod/p-movie/530/0784c30d6ae65aef9832f0cf617c9f7039e27360/90893.mp4.m3u8\n",
      "\n",
      "summary\n",
      "m3u8_uri: https://p-movie.learning-ware.jp/hls-vod/p-movie/530/0784c30d6ae65aef9832f0cf617c9f7039e27360/90893.mp4.m3u8;\n",
      "max_retry_times: 3;\n",
      "tmp_dir: C:\\Users\\jerem\\AppData\\Local\\Temp\\m3u8_4163936285;\n",
      "mp4_file_path: ./m3u8_To_MP4.mp4;\n",
      "\n",
      "segment set: |##################################################| 100.0% downloaded segments successfully!\n"
     ]
    },
    {
     "name": "stderr",
     "output_type": "stream",
     "text": [
      "2023-06-18 18:09:23,984 | INFO | decrypt and dump segments...\n",
      "2023-06-18 18:09:24,041 | INFO | merging segments...\n",
      "2023-06-18 18:09:25,747 | INFO | download successfully！ take 3.68s,  average download speed is 38738.74KB/s\n",
      "2023-06-18 18:09:27,458 | INFO | Resolved available hosts:\n",
      "2023-06-18 18:09:27,459 | INFO | 151.101.110.225:443\n"
     ]
    },
    {
     "name": "stdout",
     "output_type": "stream",
     "text": [
      "https://p-movie.learning-ware.jp/hls-vod/p-movie/530/6e317427f6bda66f5d11e86ba0ae08e4607ecd41/90900.mp4.m3u8\n",
      "\n",
      "summary\n",
      "m3u8_uri: https://p-movie.learning-ware.jp/hls-vod/p-movie/530/6e317427f6bda66f5d11e86ba0ae08e4607ecd41/90900.mp4.m3u8;\n",
      "max_retry_times: 3;\n",
      "tmp_dir: C:\\Users\\jerem\\AppData\\Local\\Temp\\m3u8_848780025;\n",
      "mp4_file_path: ./m3u8_To_MP4.mp4;\n",
      "\n",
      "segment set: |##################################################| 100.0% downloaded segments successfully!\n"
     ]
    },
    {
     "name": "stderr",
     "output_type": "stream",
     "text": [
      "2023-06-18 18:09:31,044 | INFO | decrypt and dump segments...\n",
      "2023-06-18 18:09:31,128 | INFO | merging segments...\n",
      "2023-06-18 18:09:34,223 | INFO | download successfully！ take 6.77s,  average download speed is 37553.78KB/s\n",
      "2023-06-18 18:09:35,809 | INFO | Resolved available hosts:\n",
      "2023-06-18 18:09:35,809 | INFO | 151.101.110.225:443\n"
     ]
    },
    {
     "name": "stdout",
     "output_type": "stream",
     "text": [
      "https://p-movie.learning-ware.jp/hls-vod/p-movie/530/8d41cdc985fd4321493a44e30763add29fd76fd0/90894.mp4.m3u8\n",
      "\n",
      "summary\n",
      "m3u8_uri: https://p-movie.learning-ware.jp/hls-vod/p-movie/530/8d41cdc985fd4321493a44e30763add29fd76fd0/90894.mp4.m3u8;\n",
      "max_retry_times: 3;\n",
      "tmp_dir: C:\\Users\\jerem\\AppData\\Local\\Temp\\m3u8_2969220353;\n",
      "mp4_file_path: ./m3u8_To_MP4.mp4;\n",
      "\n",
      "segment set: |##################################################| 100.0% downloaded segments successfully!\n"
     ]
    },
    {
     "name": "stderr",
     "output_type": "stream",
     "text": [
      "2023-06-18 18:09:37,829 | INFO | decrypt and dump segments...\n",
      "2023-06-18 18:09:37,902 | INFO | merging segments...\n",
      "2023-06-18 18:09:40,080 | INFO | download successfully！ take 4.27s,  average download speed is 46815.82KB/s\n",
      "2023-06-18 18:09:41,462 | INFO | Resolved available hosts:\n",
      "2023-06-18 18:09:41,463 | INFO | 151.101.110.225:443\n"
     ]
    },
    {
     "name": "stdout",
     "output_type": "stream",
     "text": [
      "https://p-movie.learning-ware.jp/hls-vod/p-movie/530/6598aac4242bced9bc3ff49a6d21d4dc812afee3/106031.mp4.m3u8\n",
      "\n",
      "summary\n",
      "m3u8_uri: https://p-movie.learning-ware.jp/hls-vod/p-movie/530/6598aac4242bced9bc3ff49a6d21d4dc812afee3/106031.mp4.m3u8;\n",
      "max_retry_times: 3;\n",
      "tmp_dir: C:\\Users\\jerem\\AppData\\Local\\Temp\\m3u8_327293580;\n",
      "mp4_file_path: ./m3u8_To_MP4.mp4;\n",
      "\n",
      "segment set: |##################################################| 100.0% downloaded segments successfully!\n"
     ]
    },
    {
     "name": "stderr",
     "output_type": "stream",
     "text": [
      "2023-06-18 18:09:42,113 | INFO | decrypt and dump segments...\n",
      "2023-06-18 18:09:42,122 | INFO | merging segments...\n",
      "2023-06-18 18:09:42,436 | INFO | download successfully！ take 0.99s,  average download speed is 13731.98KB/s\n",
      "2023-06-18 18:09:43,816 | INFO | Resolved available hosts:\n",
      "2023-06-18 18:09:43,816 | INFO | 151.101.110.225:443\n"
     ]
    },
    {
     "name": "stdout",
     "output_type": "stream",
     "text": [
      "https://p-movie.learning-ware.jp/hls-vod/p-movie/530/be76785ea0ab5667d5c6b24c4bb2a559e689eb17/106032.mp4.m3u8\n",
      "\n",
      "summary\n",
      "m3u8_uri: https://p-movie.learning-ware.jp/hls-vod/p-movie/530/be76785ea0ab5667d5c6b24c4bb2a559e689eb17/106032.mp4.m3u8;\n",
      "max_retry_times: 3;\n",
      "tmp_dir: C:\\Users\\jerem\\AppData\\Local\\Temp\\m3u8_2113285049;\n",
      "mp4_file_path: ./m3u8_To_MP4.mp4;\n",
      "\n",
      "segment set: |##################################################| 100.0% downloaded segments successfully!\n"
     ]
    },
    {
     "name": "stderr",
     "output_type": "stream",
     "text": [
      "2023-06-18 18:09:44,865 | INFO | decrypt and dump segments...\n",
      "2023-06-18 18:09:44,910 | INFO | merging segments...\n",
      "2023-06-18 18:09:45,682 | INFO | download successfully！ take 1.87s,  average download speed is 23286.92KB/s\n",
      "2023-06-18 18:09:47,233 | INFO | Resolved available hosts:\n",
      "2023-06-18 18:09:47,233 | INFO | 151.101.110.225:443\n"
     ]
    },
    {
     "name": "stdout",
     "output_type": "stream",
     "text": [
      "https://p-movie.learning-ware.jp/hls-vod/p-movie/530/70d624f9144667693041bfd4d897a68c4c8e6afe/106033.mp4.m3u8\n",
      "\n",
      "summary\n",
      "m3u8_uri: https://p-movie.learning-ware.jp/hls-vod/p-movie/530/70d624f9144667693041bfd4d897a68c4c8e6afe/106033.mp4.m3u8;\n",
      "max_retry_times: 3;\n",
      "tmp_dir: C:\\Users\\jerem\\AppData\\Local\\Temp\\m3u8_1347772547;\n",
      "mp4_file_path: ./m3u8_To_MP4.mp4;\n",
      "\n",
      "segment set: |##################################################| 100.0% downloaded segments successfully!\n"
     ]
    },
    {
     "name": "stderr",
     "output_type": "stream",
     "text": [
      "2023-06-18 18:09:48,337 | INFO | decrypt and dump segments...\n",
      "2023-06-18 18:09:48,363 | INFO | merging segments...\n",
      "2023-06-18 18:09:49,185 | INFO | download successfully！ take 1.95s,  average download speed is 24148.19KB/s\n",
      "2023-06-18 18:09:50,660 | INFO | Resolved available hosts:\n",
      "2023-06-18 18:09:50,660 | INFO | 151.101.110.225:443\n"
     ]
    },
    {
     "name": "stdout",
     "output_type": "stream",
     "text": [
      "https://p-movie.learning-ware.jp/hls-vod/p-movie/530/60e3f9ff9df5eea02d2dc362c74d41c07fe12c1b/106034.mp4.m3u8\n",
      "\n",
      "summary\n",
      "m3u8_uri: https://p-movie.learning-ware.jp/hls-vod/p-movie/530/60e3f9ff9df5eea02d2dc362c74d41c07fe12c1b/106034.mp4.m3u8;\n",
      "max_retry_times: 3;\n",
      "tmp_dir: C:\\Users\\jerem\\AppData\\Local\\Temp\\m3u8_1109575872;\n",
      "mp4_file_path: ./m3u8_To_MP4.mp4;\n",
      "\n",
      "segment set: |##################################################| 100.0% downloaded segments successfully!\n"
     ]
    },
    {
     "name": "stderr",
     "output_type": "stream",
     "text": [
      "2023-06-18 18:09:51,572 | INFO | decrypt and dump segments...\n",
      "2023-06-18 18:09:51,594 | INFO | merging segments...\n",
      "2023-06-18 18:09:52,476 | INFO | download successfully！ take 1.82s,  average download speed is 30869.67KB/s\n",
      "2023-06-18 18:09:54,202 | INFO | Resolved available hosts:\n",
      "2023-06-18 18:09:54,203 | INFO | 151.101.110.225:443\n"
     ]
    },
    {
     "name": "stdout",
     "output_type": "stream",
     "text": [
      "https://p-movie.learning-ware.jp/hls-vod/p-movie/530/0c073dea6785e8393dea34c8bd91ad5e0b338901/106035.mp4.m3u8\n",
      "\n",
      "summary\n",
      "m3u8_uri: https://p-movie.learning-ware.jp/hls-vod/p-movie/530/0c073dea6785e8393dea34c8bd91ad5e0b338901/106035.mp4.m3u8;\n",
      "max_retry_times: 3;\n",
      "tmp_dir: C:\\Users\\jerem\\AppData\\Local\\Temp\\m3u8_3317270820;\n",
      "mp4_file_path: ./m3u8_To_MP4.mp4;\n",
      "\n",
      "segment set: |##################################################| 100.0% downloaded segments successfully!\n"
     ]
    },
    {
     "name": "stderr",
     "output_type": "stream",
     "text": [
      "2023-06-18 18:09:54,985 | INFO | decrypt and dump segments...\n",
      "2023-06-18 18:09:55,002 | INFO | merging segments...\n",
      "2023-06-18 18:09:55,675 | INFO | download successfully！ take 1.47s,  average download speed is 25553.24KB/s\n",
      "2023-06-18 18:09:57,207 | INFO | Resolved available hosts:\n",
      "2023-06-18 18:09:57,208 | INFO | 151.101.110.225:443\n"
     ]
    },
    {
     "name": "stdout",
     "output_type": "stream",
     "text": [
      "https://p-movie.learning-ware.jp/hls-vod/p-movie/530/1319613e127c5d8fd47fcfbbb285abe8a513de8b/106037.mp4.m3u8\n",
      "\n",
      "summary\n",
      "m3u8_uri: https://p-movie.learning-ware.jp/hls-vod/p-movie/530/1319613e127c5d8fd47fcfbbb285abe8a513de8b/106037.mp4.m3u8;\n",
      "max_retry_times: 3;\n",
      "tmp_dir: C:\\Users\\jerem\\AppData\\Local\\Temp\\m3u8_2065086274;\n",
      "mp4_file_path: ./m3u8_To_MP4.mp4;\n",
      "\n",
      "segment set: |##################################################| 100.0% downloaded segments successfully!\n"
     ]
    },
    {
     "name": "stderr",
     "output_type": "stream",
     "text": [
      "2023-06-18 18:09:58,103 | INFO | decrypt and dump segments...\n",
      "2023-06-18 18:09:58,137 | INFO | merging segments...\n",
      "2023-06-18 18:09:59,133 | INFO | download successfully！ take 1.93s,  average download speed is 33118.44KB/s\n",
      "2023-06-18 18:10:00,623 | INFO | Resolved available hosts:\n",
      "2023-06-18 18:10:00,623 | INFO | 151.101.110.225:443\n"
     ]
    },
    {
     "name": "stdout",
     "output_type": "stream",
     "text": [
      "https://p-movie.learning-ware.jp/hls-vod/p-movie/530/95a267349626ceb6e70bf8191c845f67737b39c7/106075.mp4.m3u8\n",
      "\n",
      "summary\n",
      "m3u8_uri: https://p-movie.learning-ware.jp/hls-vod/p-movie/530/95a267349626ceb6e70bf8191c845f67737b39c7/106075.mp4.m3u8;\n",
      "max_retry_times: 3;\n",
      "tmp_dir: C:\\Users\\jerem\\AppData\\Local\\Temp\\m3u8_1813495651;\n",
      "mp4_file_path: ./m3u8_To_MP4.mp4;\n",
      "\n",
      "segment set: |##################################################| 100.0% downloaded segments successfully!\n"
     ]
    },
    {
     "name": "stderr",
     "output_type": "stream",
     "text": [
      "2023-06-18 18:10:01,571 | INFO | decrypt and dump segments...\n",
      "2023-06-18 18:10:01,588 | INFO | merging segments...\n",
      "2023-06-18 18:10:02,236 | INFO | download successfully！ take 1.62s,  average download speed is 21352.20KB/s\n",
      "2023-06-18 18:10:03,894 | INFO | Resolved available hosts:\n",
      "2023-06-18 18:10:03,895 | INFO | 151.101.110.225:443\n"
     ]
    },
    {
     "name": "stdout",
     "output_type": "stream",
     "text": [
      "https://p-movie.learning-ware.jp/hls-vod/p-movie/530/93dda64c94eb901c64fa1d370e404257e0deaac4/106076.mp4.m3u8\n",
      "\n",
      "summary\n",
      "m3u8_uri: https://p-movie.learning-ware.jp/hls-vod/p-movie/530/93dda64c94eb901c64fa1d370e404257e0deaac4/106076.mp4.m3u8;\n",
      "max_retry_times: 3;\n",
      "tmp_dir: C:\\Users\\jerem\\AppData\\Local\\Temp\\m3u8_173853804;\n",
      "mp4_file_path: ./m3u8_To_MP4.mp4;\n",
      "\n",
      "segment set: |##################################################| 100.0% downloaded segments successfully!\n"
     ]
    },
    {
     "name": "stderr",
     "output_type": "stream",
     "text": [
      "2023-06-18 18:10:04,663 | INFO | decrypt and dump segments...\n",
      "2023-06-18 18:10:04,679 | INFO | merging segments...\n",
      "2023-06-18 18:10:05,244 | INFO | download successfully！ take 1.35s,  average download speed is 23102.71KB/s\n",
      "2023-06-18 18:10:06,759 | INFO | Resolved available hosts:\n",
      "2023-06-18 18:10:06,760 | INFO | 151.101.110.225:443\n"
     ]
    },
    {
     "name": "stdout",
     "output_type": "stream",
     "text": [
      "https://p-movie.learning-ware.jp/hls-vod/p-movie/530/bc02ce91e0984c404b5b1459cc0241c9da5acf1b/90897.mp4.m3u8\n",
      "\n",
      "summary\n",
      "m3u8_uri: https://p-movie.learning-ware.jp/hls-vod/p-movie/530/bc02ce91e0984c404b5b1459cc0241c9da5acf1b/90897.mp4.m3u8;\n",
      "max_retry_times: 3;\n",
      "tmp_dir: C:\\Users\\jerem\\AppData\\Local\\Temp\\m3u8_1846137358;\n",
      "mp4_file_path: ./m3u8_To_MP4.mp4;\n",
      "\n",
      "segment set: |##################################################| 100.0% downloaded segments successfully!\n"
     ]
    },
    {
     "name": "stderr",
     "output_type": "stream",
     "text": [
      "2023-06-18 18:10:08,026 | INFO | decrypt and dump segments...\n",
      "2023-06-18 18:10:08,059 | INFO | merging segments...\n",
      "2023-06-18 18:10:09,172 | INFO | download successfully！ take 2.41s,  average download speed is 35189.35KB/s\n",
      "2023-06-18 18:10:10,623 | INFO | Resolved available hosts:\n",
      "2023-06-18 18:10:10,624 | INFO | 151.101.110.225:443\n"
     ]
    },
    {
     "name": "stdout",
     "output_type": "stream",
     "text": [
      "https://p-movie.learning-ware.jp/hls-vod/p-movie/530/bd5cb482678a8b32aca0dca5820488cb1a917686/90892.mp4.m3u8\n",
      "\n",
      "summary\n",
      "m3u8_uri: https://p-movie.learning-ware.jp/hls-vod/p-movie/530/bd5cb482678a8b32aca0dca5820488cb1a917686/90892.mp4.m3u8;\n",
      "max_retry_times: 3;\n",
      "tmp_dir: C:\\Users\\jerem\\AppData\\Local\\Temp\\m3u8_3779907311;\n",
      "mp4_file_path: ./m3u8_To_MP4.mp4;\n",
      "\n",
      "segment set: |##################################################| 100.0% downloaded segments successfully!\n"
     ]
    },
    {
     "name": "stderr",
     "output_type": "stream",
     "text": [
      "2023-06-18 18:10:11,586 | INFO | decrypt and dump segments...\n",
      "2023-06-18 18:10:11,598 | INFO | merging segments...\n",
      "2023-06-18 18:10:12,063 | INFO | download successfully！ take 1.48s,  average download speed is 16564.98KB/s\n",
      "2023-06-18 18:10:13,831 | INFO | Resolved available hosts:\n",
      "2023-06-18 18:10:13,832 | INFO | 151.101.110.225:443\n"
     ]
    },
    {
     "name": "stdout",
     "output_type": "stream",
     "text": [
      "https://p-movie.learning-ware.jp/hls-vod/p-movie/530/fba4c05a089be51328043eb1b799f6836816623d/90901.mp4.m3u8\n",
      "\n",
      "summary\n",
      "m3u8_uri: https://p-movie.learning-ware.jp/hls-vod/p-movie/530/fba4c05a089be51328043eb1b799f6836816623d/90901.mp4.m3u8;\n",
      "max_retry_times: 3;\n",
      "tmp_dir: C:\\Users\\jerem\\AppData\\Local\\Temp\\m3u8_1977757130;\n",
      "mp4_file_path: ./m3u8_To_MP4.mp4;\n",
      "\n",
      "segment set: |##################################################| 100.0% downloaded segments successfully!\n"
     ]
    },
    {
     "name": "stderr",
     "output_type": "stream",
     "text": [
      "2023-06-18 18:10:16,483 | INFO | decrypt and dump segments...\n",
      "2023-06-18 18:10:16,592 | INFO | merging segments...\n",
      "2023-06-18 18:10:19,641 | INFO | download successfully！ take 5.83s,  average download speed is 51599.14KB/s\n",
      "2023-06-18 18:10:21,243 | INFO | Resolved available hosts:\n",
      "2023-06-18 18:10:21,243 | INFO | 151.101.110.225:443\n"
     ]
    },
    {
     "name": "stdout",
     "output_type": "stream",
     "text": [
      "https://p-movie.learning-ware.jp/hls-vod/p-movie/530/e6d011f029e2344baf21c7365fcd9cfcbffa2001/90896.mp4.m3u8\n",
      "\n",
      "summary\n",
      "m3u8_uri: https://p-movie.learning-ware.jp/hls-vod/p-movie/530/e6d011f029e2344baf21c7365fcd9cfcbffa2001/90896.mp4.m3u8;\n",
      "max_retry_times: 3;\n",
      "tmp_dir: C:\\Users\\jerem\\AppData\\Local\\Temp\\m3u8_2225158679;\n",
      "mp4_file_path: ./m3u8_To_MP4.mp4;\n",
      "\n",
      "segment set: |##################################################| 100.0% downloaded segments successfully!\n"
     ]
    },
    {
     "name": "stderr",
     "output_type": "stream",
     "text": [
      "2023-06-18 18:10:22,789 | INFO | decrypt and dump segments...\n",
      "2023-06-18 18:10:22,850 | INFO | merging segments...\n",
      "2023-06-18 18:10:24,125 | INFO | download successfully！ take 2.88s,  average download speed is 34555.67KB/s\n",
      "2023-06-18 18:10:25,684 | INFO | Resolved available hosts:\n",
      "2023-06-18 18:10:25,685 | INFO | 151.101.110.225:443\n"
     ]
    },
    {
     "name": "stdout",
     "output_type": "stream",
     "text": [
      "https://p-movie.learning-ware.jp/hls-vod/p-movie/530/79f46cb3d191c0eb230776cae2667e1a0b7182d4/90899.mp4.m3u8\n",
      "\n",
      "summary\n",
      "m3u8_uri: https://p-movie.learning-ware.jp/hls-vod/p-movie/530/79f46cb3d191c0eb230776cae2667e1a0b7182d4/90899.mp4.m3u8;\n",
      "max_retry_times: 3;\n",
      "tmp_dir: C:\\Users\\jerem\\AppData\\Local\\Temp\\m3u8_4133600329;\n",
      "mp4_file_path: ./m3u8_To_MP4.mp4;\n",
      "\n",
      "segment set: |##################################################| 100.0% downloaded segments successfully!\n"
     ]
    },
    {
     "name": "stderr",
     "output_type": "stream",
     "text": [
      "2023-06-18 18:10:27,305 | INFO | decrypt and dump segments...\n",
      "2023-06-18 18:10:27,344 | INFO | merging segments...\n",
      "2023-06-18 18:10:28,623 | INFO | download successfully！ take 2.94s,  average download speed is 34705.01KB/s\n",
      "2023-06-18 18:10:30,067 | INFO | Resolved available hosts:\n",
      "2023-06-18 18:10:30,068 | INFO | 151.101.110.225:443\n"
     ]
    },
    {
     "name": "stdout",
     "output_type": "stream",
     "text": [
      "https://p-movie.learning-ware.jp/hls-vod/p-movie/530/072fe2f929a9ca08695fb7b1711c7381ddbbdb9d/90898.mp4.m3u8\n",
      "\n",
      "summary\n",
      "m3u8_uri: https://p-movie.learning-ware.jp/hls-vod/p-movie/530/072fe2f929a9ca08695fb7b1711c7381ddbbdb9d/90898.mp4.m3u8;\n",
      "max_retry_times: 3;\n",
      "tmp_dir: C:\\Users\\jerem\\AppData\\Local\\Temp\\m3u8_2981309267;\n",
      "mp4_file_path: ./m3u8_To_MP4.mp4;\n",
      "\n",
      "segment set: |##################################################| 100.0% downloaded segments successfully!\n"
     ]
    },
    {
     "name": "stderr",
     "output_type": "stream",
     "text": [
      "2023-06-18 18:10:32,711 | INFO | decrypt and dump segments...\n",
      "2023-06-18 18:10:32,791 | INFO | merging segments...\n",
      "2023-06-18 18:10:35,371 | INFO | download successfully！ take 5.30s,  average download speed is 42261.50KB/s\n",
      "2023-06-18 18:10:36,881 | INFO | Resolved available hosts:\n",
      "2023-06-18 18:10:36,882 | INFO | 151.101.110.225:443\n"
     ]
    },
    {
     "name": "stdout",
     "output_type": "stream",
     "text": [
      "https://p-movie.learning-ware.jp/hls-vod/p-movie/530/1abb5730a6835baacb114718c21abe02b0de34f1/90884.mp4.m3u8\n",
      "\n",
      "summary\n",
      "m3u8_uri: https://p-movie.learning-ware.jp/hls-vod/p-movie/530/1abb5730a6835baacb114718c21abe02b0de34f1/90884.mp4.m3u8;\n",
      "max_retry_times: 3;\n",
      "tmp_dir: C:\\Users\\jerem\\AppData\\Local\\Temp\\m3u8_502329925;\n",
      "mp4_file_path: ./m3u8_To_MP4.mp4;\n",
      "\n",
      "segment set: |##################################################| 100.0% downloaded segments successfully!\n"
     ]
    },
    {
     "name": "stderr",
     "output_type": "stream",
     "text": [
      "2023-06-18 18:10:37,596 | INFO | decrypt and dump segments...\n",
      "2023-06-18 18:10:37,619 | INFO | merging segments...\n",
      "2023-06-18 18:10:38,178 | INFO | download successfully！ take 1.30s,  average download speed is 18299.39KB/s\n"
     ]
    },
    {
     "name": "stdout",
     "output_type": "stream",
     "text": [
      "nothing found\n"
     ]
    },
    {
     "name": "stderr",
     "output_type": "stream",
     "text": [
      "2023-06-18 18:10:41,663 | INFO | Resolved available hosts:\n",
      "2023-06-18 18:10:41,663 | INFO | 151.101.110.225:443\n"
     ]
    },
    {
     "name": "stdout",
     "output_type": "stream",
     "text": [
      "https://p-movie.learning-ware.jp/hls-vod/p-movie/530/515751e1ffebcb2b2009107e863bfc0db4068c00/106376.mp4.m3u8\n",
      "\n",
      "summary\n",
      "m3u8_uri: https://p-movie.learning-ware.jp/hls-vod/p-movie/530/515751e1ffebcb2b2009107e863bfc0db4068c00/106376.mp4.m3u8;\n",
      "max_retry_times: 3;\n",
      "tmp_dir: C:\\Users\\jerem\\AppData\\Local\\Temp\\m3u8_770993313;\n",
      "mp4_file_path: ./m3u8_To_MP4.mp4;\n",
      "\n",
      "segment set: |##################################################| 100.0% downloaded segments successfully!\n"
     ]
    },
    {
     "name": "stderr",
     "output_type": "stream",
     "text": [
      "2023-06-18 18:10:42,109 | INFO | decrypt and dump segments...\n",
      "2023-06-18 18:10:42,116 | INFO | merging segments...\n",
      "2023-06-18 18:10:42,392 | INFO | download successfully！ take 0.73s,  average download speed is 15075.13KB/s\n",
      "2023-06-18 18:10:43,789 | INFO | Resolved available hosts:\n",
      "2023-06-18 18:10:43,790 | INFO | 151.101.110.225:443\n"
     ]
    },
    {
     "name": "stdout",
     "output_type": "stream",
     "text": [
      "https://p-movie.learning-ware.jp/hls-vod/p-movie/530/559776c0d25ba47faea13b4efb1c6beea989644f/106377.mp4.m3u8\n",
      "\n",
      "summary\n",
      "m3u8_uri: https://p-movie.learning-ware.jp/hls-vod/p-movie/530/559776c0d25ba47faea13b4efb1c6beea989644f/106377.mp4.m3u8;\n",
      "max_retry_times: 3;\n",
      "tmp_dir: C:\\Users\\jerem\\AppData\\Local\\Temp\\m3u8_2554924771;\n",
      "mp4_file_path: ./m3u8_To_MP4.mp4;\n",
      "\n",
      "segment set: |##################################################| 100.0% downloaded segments successfully!\n"
     ]
    },
    {
     "name": "stderr",
     "output_type": "stream",
     "text": [
      "2023-06-18 18:10:44,644 | INFO | decrypt and dump segments...\n",
      "2023-06-18 18:10:44,663 | INFO | merging segments...\n",
      "2023-06-18 18:10:45,080 | INFO | download successfully！ take 1.31s,  average download speed is 13971.41KB/s\n",
      "2023-06-18 18:10:46,487 | INFO | Resolved available hosts:\n",
      "2023-06-18 18:10:46,488 | INFO | 151.101.110.225:443\n"
     ]
    },
    {
     "name": "stdout",
     "output_type": "stream",
     "text": [
      "https://p-movie.learning-ware.jp/hls-vod/p-movie/530/4029b1875797781e48813f07678dd1144da6db57/106378.mp4.m3u8\n",
      "\n",
      "summary\n",
      "m3u8_uri: https://p-movie.learning-ware.jp/hls-vod/p-movie/530/4029b1875797781e48813f07678dd1144da6db57/106378.mp4.m3u8;\n",
      "max_retry_times: 3;\n",
      "tmp_dir: C:\\Users\\jerem\\AppData\\Local\\Temp\\m3u8_1286450973;\n",
      "mp4_file_path: ./m3u8_To_MP4.mp4;\n",
      "\n",
      "segment set: |##################################################| 100.0% downloaded segments successfully!\n"
     ]
    },
    {
     "name": "stderr",
     "output_type": "stream",
     "text": [
      "2023-06-18 18:10:47,956 | INFO | decrypt and dump segments...\n",
      "2023-06-18 18:10:47,986 | INFO | merging segments...\n",
      "2023-06-18 18:10:48,979 | INFO | download successfully！ take 2.51s,  average download speed is 15554.43KB/s\n",
      "2023-06-18 18:10:50,388 | INFO | Resolved available hosts:\n",
      "2023-06-18 18:10:50,389 | INFO | 151.101.110.225:443\n"
     ]
    },
    {
     "name": "stdout",
     "output_type": "stream",
     "text": [
      "https://p-movie.learning-ware.jp/hls-vod/p-movie/530/9ab71cc3921cca27cf273db06939be74c156d3bd/106379.mp4.m3u8\n",
      "\n",
      "summary\n",
      "m3u8_uri: https://p-movie.learning-ware.jp/hls-vod/p-movie/530/9ab71cc3921cca27cf273db06939be74c156d3bd/106379.mp4.m3u8;\n",
      "max_retry_times: 3;\n",
      "tmp_dir: C:\\Users\\jerem\\AppData\\Local\\Temp\\m3u8_1067668344;\n",
      "mp4_file_path: ./m3u8_To_MP4.mp4;\n",
      "\n",
      "segment set: |##################################################| 100.0% downloaded segments successfully!\n"
     ]
    },
    {
     "name": "stderr",
     "output_type": "stream",
     "text": [
      "2023-06-18 18:10:51,067 | INFO | decrypt and dump segments...\n",
      "2023-06-18 18:10:51,082 | INFO | merging segments...\n",
      "2023-06-18 18:10:51,509 | INFO | download successfully！ take 1.12s,  average download speed is 19055.74KB/s\n",
      "2023-06-18 18:10:52,946 | INFO | Resolved available hosts:\n",
      "2023-06-18 18:10:52,946 | INFO | 151.101.110.225:443\n"
     ]
    },
    {
     "name": "stdout",
     "output_type": "stream",
     "text": [
      "https://p-movie.learning-ware.jp/hls-vod/p-movie/530/2e8b672db84221603f4a7dd93d3c2b690ab44e89/106380.mp4.m3u8\n",
      "\n",
      "summary\n",
      "m3u8_uri: https://p-movie.learning-ware.jp/hls-vod/p-movie/530/2e8b672db84221603f4a7dd93d3c2b690ab44e89/106380.mp4.m3u8;\n",
      "max_retry_times: 3;\n",
      "tmp_dir: C:\\Users\\jerem\\AppData\\Local\\Temp\\m3u8_2951861721;\n",
      "mp4_file_path: ./m3u8_To_MP4.mp4;\n",
      "\n",
      "segment set: |##################################################| 100.0% downloaded segments successfully!\n"
     ]
    },
    {
     "name": "stderr",
     "output_type": "stream",
     "text": [
      "2023-06-18 18:10:53,697 | INFO | decrypt and dump segments...\n",
      "2023-06-18 18:10:53,713 | INFO | merging segments...\n",
      "2023-06-18 18:10:54,348 | INFO | download successfully！ take 1.40s,  average download speed is 25533.06KB/s\n",
      "2023-06-18 18:10:55,863 | INFO | Resolved available hosts:\n",
      "2023-06-18 18:10:55,864 | INFO | 151.101.110.225:443\n"
     ]
    },
    {
     "name": "stdout",
     "output_type": "stream",
     "text": [
      "https://p-movie.learning-ware.jp/hls-vod/p-movie/530/d69e86f2504f2f97987d58b9a581947316ef97c3/106381.mp4.m3u8\n",
      "\n",
      "summary\n",
      "m3u8_uri: https://p-movie.learning-ware.jp/hls-vod/p-movie/530/d69e86f2504f2f97987d58b9a581947316ef97c3/106381.mp4.m3u8;\n",
      "max_retry_times: 3;\n",
      "tmp_dir: C:\\Users\\jerem\\AppData\\Local\\Temp\\m3u8_3333839744;\n",
      "mp4_file_path: ./m3u8_To_MP4.mp4;\n",
      "\n",
      "segment set: |##################################################| 100.0% downloaded segments successfully!\n"
     ]
    },
    {
     "name": "stderr",
     "output_type": "stream",
     "text": [
      "2023-06-18 18:10:56,647 | INFO | decrypt and dump segments...\n",
      "2023-06-18 18:10:56,663 | INFO | merging segments...\n",
      "2023-06-18 18:10:57,296 | INFO | download successfully！ take 1.43s,  average download speed is 25358.37KB/s\n",
      "2023-06-18 18:10:58,995 | INFO | Resolved available hosts:\n",
      "2023-06-18 18:10:58,995 | INFO | 151.101.110.225:443\n"
     ]
    },
    {
     "name": "stdout",
     "output_type": "stream",
     "text": [
      "https://p-movie.learning-ware.jp/hls-vod/p-movie/530/73a4319937f761cabf5a741aa7defdddafa6e3d9/106382.mp4.m3u8\n",
      "\n",
      "summary\n",
      "m3u8_uri: https://p-movie.learning-ware.jp/hls-vod/p-movie/530/73a4319937f761cabf5a741aa7defdddafa6e3d9/106382.mp4.m3u8;\n",
      "max_retry_times: 3;\n",
      "tmp_dir: C:\\Users\\jerem\\AppData\\Local\\Temp\\m3u8_3826628020;\n",
      "mp4_file_path: ./m3u8_To_MP4.mp4;\n",
      "\n",
      "segment set: |##################################################| 100.0% downloaded segments successfully!\n"
     ]
    },
    {
     "name": "stderr",
     "output_type": "stream",
     "text": [
      "2023-06-18 18:10:59,817 | INFO | decrypt and dump segments...\n",
      "2023-06-18 18:10:59,832 | INFO | merging segments...\n",
      "2023-06-18 18:11:00,462 | INFO | download successfully！ take 1.47s,  average download speed is 22128.76KB/s\n",
      "2023-06-18 18:11:01,895 | INFO | Resolved available hosts:\n",
      "2023-06-18 18:11:01,895 | INFO | 151.101.110.225:443\n"
     ]
    },
    {
     "name": "stdout",
     "output_type": "stream",
     "text": [
      "https://p-movie.learning-ware.jp/hls-vod/p-movie/530/22d40af1e7cdf246bfb8bb92eedea59e2cfc3d5c/91041.mp4.m3u8\n",
      "\n",
      "summary\n",
      "m3u8_uri: https://p-movie.learning-ware.jp/hls-vod/p-movie/530/22d40af1e7cdf246bfb8bb92eedea59e2cfc3d5c/91041.mp4.m3u8;\n",
      "max_retry_times: 3;\n",
      "tmp_dir: C:\\Users\\jerem\\AppData\\Local\\Temp\\m3u8_2348323131;\n",
      "mp4_file_path: ./m3u8_To_MP4.mp4;\n",
      "\n",
      "segment set: |##################################################| 100.0% downloaded segments successfully!\n"
     ]
    },
    {
     "name": "stderr",
     "output_type": "stream",
     "text": [
      "2023-06-18 18:11:04,361 | INFO | decrypt and dump segments...\n",
      "2023-06-18 18:11:04,423 | INFO | merging segments...\n",
      "2023-06-18 18:11:06,529 | INFO | download successfully！ take 4.64s,  average download speed is 36304.22KB/s\n",
      "2023-06-18 18:11:08,238 | INFO | Resolved available hosts:\n",
      "2023-06-18 18:11:08,238 | INFO | 151.101.110.225:443\n"
     ]
    },
    {
     "name": "stdout",
     "output_type": "stream",
     "text": [
      "https://p-movie.learning-ware.jp/hls-vod/p-movie/530/e59949876a9dc7e8a4d40120dfa135f3bcfc5a1d/91043.mp4.m3u8\n",
      "\n",
      "summary\n",
      "m3u8_uri: https://p-movie.learning-ware.jp/hls-vod/p-movie/530/e59949876a9dc7e8a4d40120dfa135f3bcfc5a1d/91043.mp4.m3u8;\n",
      "max_retry_times: 3;\n",
      "tmp_dir: C:\\Users\\jerem\\AppData\\Local\\Temp\\m3u8_720590492;\n",
      "mp4_file_path: ./m3u8_To_MP4.mp4;\n",
      "\n",
      "segment set: |##################################################| 100.0% downloaded segments successfully!\n"
     ]
    },
    {
     "name": "stderr",
     "output_type": "stream",
     "text": [
      "2023-06-18 18:11:09,797 | INFO | decrypt and dump segments...\n",
      "2023-06-18 18:11:09,833 | INFO | merging segments...\n",
      "2023-06-18 18:11:11,089 | INFO | download successfully！ take 2.85s,  average download speed is 31961.13KB/s\n",
      "2023-06-18 18:11:12,511 | INFO | Resolved available hosts:\n",
      "2023-06-18 18:11:12,512 | INFO | 151.101.110.225:443\n"
     ]
    },
    {
     "name": "stdout",
     "output_type": "stream",
     "text": [
      "https://p-movie.learning-ware.jp/hls-vod/p-movie/530/0844135a100e72037992070f5a04dc88ee802191/91039.mp4.m3u8\n",
      "\n",
      "summary\n",
      "m3u8_uri: https://p-movie.learning-ware.jp/hls-vod/p-movie/530/0844135a100e72037992070f5a04dc88ee802191/91039.mp4.m3u8;\n",
      "max_retry_times: 3;\n",
      "tmp_dir: C:\\Users\\jerem\\AppData\\Local\\Temp\\m3u8_3765871153;\n",
      "mp4_file_path: ./m3u8_To_MP4.mp4;\n",
      "\n",
      "segment set: |##################################################| 100.0% downloaded segments successfully!\n"
     ]
    },
    {
     "name": "stderr",
     "output_type": "stream",
     "text": [
      "2023-06-18 18:11:14,853 | INFO | decrypt and dump segments...\n",
      "2023-06-18 18:11:14,931 | INFO | merging segments...\n",
      "2023-06-18 18:11:17,353 | INFO | download successfully！ take 4.84s,  average download speed is 43294.39KB/s\n",
      "2023-06-18 18:11:18,855 | INFO | Resolved available hosts:\n",
      "2023-06-18 18:11:18,856 | INFO | 151.101.110.225:443\n"
     ]
    },
    {
     "name": "stdout",
     "output_type": "stream",
     "text": [
      "https://p-movie.learning-ware.jp/hls-vod/p-movie/530/2e98e97223713dd5dbc16e9d523a4a87eb25808e/106383.mp4.m3u8\n",
      "\n",
      "summary\n",
      "m3u8_uri: https://p-movie.learning-ware.jp/hls-vod/p-movie/530/2e98e97223713dd5dbc16e9d523a4a87eb25808e/106383.mp4.m3u8;\n",
      "max_retry_times: 3;\n",
      "tmp_dir: C:\\Users\\jerem\\AppData\\Local\\Temp\\m3u8_3946766617;\n",
      "mp4_file_path: ./m3u8_To_MP4.mp4;\n",
      "\n",
      "segment set: |##################################################| 100.0% downloaded segments successfully!\n"
     ]
    },
    {
     "name": "stderr",
     "output_type": "stream",
     "text": [
      "2023-06-18 18:11:19,947 | INFO | decrypt and dump segments...\n",
      "2023-06-18 18:11:19,974 | INFO | merging segments...\n",
      "2023-06-18 18:11:20,774 | INFO | download successfully！ take 1.95s,  average download speed is 22991.84KB/s\n",
      "2023-06-18 18:11:22,381 | INFO | Resolved available hosts:\n",
      "2023-06-18 18:11:22,381 | INFO | 151.101.110.225:443\n"
     ]
    },
    {
     "name": "stdout",
     "output_type": "stream",
     "text": [
      "https://p-movie.learning-ware.jp/hls-vod/p-movie/530/b7275dad94fd77877a56978df21ea60813bfea0a/91044.mp4.m3u8\n",
      "\n",
      "summary\n",
      "m3u8_uri: https://p-movie.learning-ware.jp/hls-vod/p-movie/530/b7275dad94fd77877a56978df21ea60813bfea0a/91044.mp4.m3u8;\n",
      "max_retry_times: 3;\n",
      "tmp_dir: C:\\Users\\jerem\\AppData\\Local\\Temp\\m3u8_1144423258;\n",
      "mp4_file_path: ./m3u8_To_MP4.mp4;\n",
      "\n",
      "segment set: |##################################################| 100.0% downloaded segments successfully!\n"
     ]
    },
    {
     "name": "stderr",
     "output_type": "stream",
     "text": [
      "2023-06-18 18:11:24,329 | INFO | decrypt and dump segments...\n",
      "2023-06-18 18:11:24,386 | INFO | merging segments...\n",
      "2023-06-18 18:11:26,239 | INFO | download successfully！ take 3.86s,  average download speed is 40665.01KB/s\n",
      "2023-06-18 18:11:27,933 | INFO | Resolved available hosts:\n",
      "2023-06-18 18:11:27,934 | INFO | 151.101.110.225:443\n"
     ]
    },
    {
     "name": "stdout",
     "output_type": "stream",
     "text": [
      "https://p-movie.learning-ware.jp/hls-vod/p-movie/530/1d8f450c9cdd9830fc7890680f11d8166c58ce73/91040.mp4.m3u8\n",
      "\n",
      "summary\n",
      "m3u8_uri: https://p-movie.learning-ware.jp/hls-vod/p-movie/530/1d8f450c9cdd9830fc7890680f11d8166c58ce73/91040.mp4.m3u8;\n",
      "max_retry_times: 3;\n",
      "tmp_dir: C:\\Users\\jerem\\AppData\\Local\\Temp\\m3u8_433640345;\n",
      "mp4_file_path: ./m3u8_To_MP4.mp4;\n",
      "\n",
      "segment set: |##################################################| 100.0% downloaded segments successfully!\n"
     ]
    },
    {
     "name": "stderr",
     "output_type": "stream",
     "text": [
      "2023-06-18 18:11:29,267 | INFO | decrypt and dump segments...\n",
      "2023-06-18 18:11:29,299 | INFO | merging segments...\n",
      "2023-06-18 18:11:30,461 | INFO | download successfully！ take 2.53s,  average download speed is 34595.84KB/s\n",
      "2023-06-18 18:11:32,037 | INFO | Resolved available hosts:\n",
      "2023-06-18 18:11:32,037 | INFO | 151.101.110.225:443\n"
     ]
    },
    {
     "name": "stdout",
     "output_type": "stream",
     "text": [
      "https://p-movie.learning-ware.jp/hls-vod/p-movie/530/8eef2a219c6a98661de9d332aaca5d4e6aa0c30a/106384.mp4.m3u8\n",
      "\n",
      "summary\n",
      "m3u8_uri: https://p-movie.learning-ware.jp/hls-vod/p-movie/530/8eef2a219c6a98661de9d332aaca5d4e6aa0c30a/106384.mp4.m3u8;\n",
      "max_retry_times: 3;\n",
      "tmp_dir: C:\\Users\\jerem\\AppData\\Local\\Temp\\m3u8_1847760382;\n",
      "mp4_file_path: ./m3u8_To_MP4.mp4;\n",
      "\n",
      "segment set: |##################################################| 100.0% downloaded segments successfully!\n"
     ]
    },
    {
     "name": "stderr",
     "output_type": "stream",
     "text": [
      "2023-06-18 18:11:32,838 | INFO | decrypt and dump segments...\n",
      "2023-06-18 18:11:32,854 | INFO | merging segments...\n",
      "2023-06-18 18:11:33,239 | INFO | download successfully！ take 1.20s,  average download speed is 13111.71KB/s\n",
      "2023-06-18 18:11:34,808 | INFO | Resolved available hosts:\n",
      "2023-06-18 18:11:34,809 | INFO | 151.101.110.225:443\n"
     ]
    },
    {
     "name": "stdout",
     "output_type": "stream",
     "text": [
      "https://p-movie.learning-ware.jp/hls-vod/p-movie/530/d6c6b1a902c91ed5f86466466376334653bb00bc/106385.mp4.m3u8\n",
      "\n",
      "summary\n",
      "m3u8_uri: https://p-movie.learning-ware.jp/hls-vod/p-movie/530/d6c6b1a902c91ed5f86466466376334653bb00bc/106385.mp4.m3u8;\n",
      "max_retry_times: 3;\n",
      "tmp_dir: C:\\Users\\jerem\\AppData\\Local\\Temp\\m3u8_932431014;\n",
      "mp4_file_path: ./m3u8_To_MP4.mp4;\n",
      "\n",
      "segment set: |##################################################| 100.0% downloaded segments successfully!\n"
     ]
    },
    {
     "name": "stderr",
     "output_type": "stream",
     "text": [
      "2023-06-18 18:11:35,673 | INFO | decrypt and dump segments...\n",
      "2023-06-18 18:11:35,687 | INFO | merging segments...\n",
      "2023-06-18 18:11:36,267 | INFO | download successfully！ take 1.46s,  average download speed is 17978.43KB/s\n",
      "2023-06-18 18:11:37,723 | INFO | Resolved available hosts:\n",
      "2023-06-18 18:11:37,723 | INFO | 151.101.110.225:443\n"
     ]
    },
    {
     "name": "stdout",
     "output_type": "stream",
     "text": [
      "https://p-movie.learning-ware.jp/hls-vod/p-movie/530/4c626ffc96319a8b37765ef9eddb03acd6e2a31a/106386.mp4.m3u8\n",
      "\n",
      "summary\n",
      "m3u8_uri: https://p-movie.learning-ware.jp/hls-vod/p-movie/530/4c626ffc96319a8b37765ef9eddb03acd6e2a31a/106386.mp4.m3u8;\n",
      "max_retry_times: 3;\n",
      "tmp_dir: C:\\Users\\jerem\\AppData\\Local\\Temp\\m3u8_3574925531;\n",
      "mp4_file_path: ./m3u8_To_MP4.mp4;\n",
      "\n",
      "segment set: |##################################################| 100.0% downloaded segments successfully!\n"
     ]
    },
    {
     "name": "stderr",
     "output_type": "stream",
     "text": [
      "2023-06-18 18:11:38,383 | INFO | decrypt and dump segments...\n",
      "2023-06-18 18:11:38,394 | INFO | merging segments...\n",
      "2023-06-18 18:11:38,862 | INFO | download successfully！ take 1.14s,  average download speed is 21361.13KB/s\n",
      "2023-06-18 18:11:40,233 | INFO | Resolved available hosts:\n",
      "2023-06-18 18:11:40,233 | INFO | 151.101.110.225:443\n"
     ]
    },
    {
     "name": "stdout",
     "output_type": "stream",
     "text": [
      "https://p-movie.learning-ware.jp/hls-vod/p-movie/530/01887680a56b53a0db12de3037b5d4b445c6a7b2/106387.mp4.m3u8\n",
      "\n",
      "summary\n",
      "m3u8_uri: https://p-movie.learning-ware.jp/hls-vod/p-movie/530/01887680a56b53a0db12de3037b5d4b445c6a7b2/106387.mp4.m3u8;\n",
      "max_retry_times: 3;\n",
      "tmp_dir: C:\\Users\\jerem\\AppData\\Local\\Temp\\m3u8_4198073937;\n",
      "mp4_file_path: ./m3u8_To_MP4.mp4;\n",
      "\n",
      "segment set: |##################################################| 100.0% downloaded segments successfully!\n"
     ]
    },
    {
     "name": "stderr",
     "output_type": "stream",
     "text": [
      "2023-06-18 18:11:40,780 | INFO | decrypt and dump segments...\n",
      "2023-06-18 18:11:40,800 | INFO | merging segments...\n",
      "2023-06-18 18:11:41,133 | INFO | download successfully！ take 0.90s,  average download speed is 15216.43KB/s\n",
      "2023-06-18 18:11:42,567 | INFO | Resolved available hosts:\n",
      "2023-06-18 18:11:42,568 | INFO | 151.101.110.225:443\n"
     ]
    },
    {
     "name": "stdout",
     "output_type": "stream",
     "text": [
      "https://p-movie.learning-ware.jp/hls-vod/p-movie/530/738492818d08f761fd7ccde97f2688c4e867f5e4/106388.mp4.m3u8\n",
      "\n",
      "summary\n",
      "m3u8_uri: https://p-movie.learning-ware.jp/hls-vod/p-movie/530/738492818d08f761fd7ccde97f2688c4e867f5e4/106388.mp4.m3u8;\n",
      "max_retry_times: 3;\n",
      "tmp_dir: C:\\Users\\jerem\\AppData\\Local\\Temp\\m3u8_3743043925;\n",
      "mp4_file_path: ./m3u8_To_MP4.mp4;\n",
      "\n",
      "segment set: |##################################################| 100.0% downloaded segments successfully!\n"
     ]
    },
    {
     "name": "stderr",
     "output_type": "stream",
     "text": [
      "2023-06-18 18:11:43,441 | INFO | decrypt and dump segments...\n",
      "2023-06-18 18:11:43,467 | INFO | merging segments...\n",
      "2023-06-18 18:11:44,296 | INFO | download successfully！ take 1.73s,  average download speed is 31318.31KB/s\n",
      "2023-06-18 18:11:45,793 | INFO | Resolved available hosts:\n",
      "2023-06-18 18:11:45,794 | INFO | 151.101.110.225:443\n"
     ]
    },
    {
     "name": "stdout",
     "output_type": "stream",
     "text": [
      "https://p-movie.learning-ware.jp/hls-vod/p-movie/530/ec382703c5b8830b74d06bb7e91815ecdeeb6067/106389.mp4.m3u8\n",
      "\n",
      "summary\n",
      "m3u8_uri: https://p-movie.learning-ware.jp/hls-vod/p-movie/530/ec382703c5b8830b74d06bb7e91815ecdeeb6067/106389.mp4.m3u8;\n",
      "max_retry_times: 3;\n",
      "tmp_dir: C:\\Users\\jerem\\AppData\\Local\\Temp\\m3u8_440008223;\n",
      "mp4_file_path: ./m3u8_To_MP4.mp4;\n",
      "\n",
      "segment set: |##################################################| 100.0% downloaded segments successfully!\n"
     ]
    },
    {
     "name": "stderr",
     "output_type": "stream",
     "text": [
      "2023-06-18 18:11:46,684 | INFO | decrypt and dump segments...\n",
      "2023-06-18 18:11:46,718 | INFO | merging segments...\n",
      "2023-06-18 18:11:47,447 | INFO | download successfully！ take 1.66s,  average download speed is 24945.12KB/s\n",
      "2023-06-18 18:11:48,824 | INFO | Resolved available hosts:\n",
      "2023-06-18 18:11:48,825 | INFO | 151.101.110.225:443\n"
     ]
    },
    {
     "name": "stdout",
     "output_type": "stream",
     "text": [
      "https://p-movie.learning-ware.jp/hls-vod/p-movie/530/17bd11c9a58aab4ec05a20697a31c49870e1ee50/106479.mp4.m3u8\n",
      "\n",
      "summary\n",
      "m3u8_uri: https://p-movie.learning-ware.jp/hls-vod/p-movie/530/17bd11c9a58aab4ec05a20697a31c49870e1ee50/106479.mp4.m3u8;\n",
      "max_retry_times: 3;\n",
      "tmp_dir: C:\\Users\\jerem\\AppData\\Local\\Temp\\m3u8_3955142999;\n",
      "mp4_file_path: ./m3u8_To_MP4.mp4;\n",
      "\n",
      "segment set: |##################################################| 100.0% downloaded segments successfully!\n"
     ]
    },
    {
     "name": "stderr",
     "output_type": "stream",
     "text": [
      "2023-06-18 18:11:49,484 | INFO | decrypt and dump segments...\n",
      "2023-06-18 18:11:49,495 | INFO | merging segments...\n",
      "2023-06-18 18:11:49,894 | INFO | download successfully！ take 1.09s,  average download speed is 17147.70KB/s\n",
      "2023-06-18 18:11:51,419 | INFO | Resolved available hosts:\n",
      "2023-06-18 18:11:51,419 | INFO | 151.101.110.225:443\n"
     ]
    },
    {
     "name": "stdout",
     "output_type": "stream",
     "text": [
      "https://p-movie.learning-ware.jp/hls-vod/p-movie/530/96ca78300cdfc0b20ba047c1bb56d9a05f2a74b6/106391.mp4.m3u8\n",
      "\n",
      "summary\n",
      "m3u8_uri: https://p-movie.learning-ware.jp/hls-vod/p-movie/530/96ca78300cdfc0b20ba047c1bb56d9a05f2a74b6/106391.mp4.m3u8;\n",
      "max_retry_times: 3;\n",
      "tmp_dir: C:\\Users\\jerem\\AppData\\Local\\Temp\\m3u8_3274170604;\n",
      "mp4_file_path: ./m3u8_To_MP4.mp4;\n",
      "\n",
      "segment set: |##################################################| 100.0% downloaded segments successfully!\n"
     ]
    },
    {
     "name": "stderr",
     "output_type": "stream",
     "text": [
      "2023-06-18 18:11:51,979 | INFO | decrypt and dump segments...\n",
      "2023-06-18 18:11:51,986 | INFO | merging segments...\n",
      "2023-06-18 18:11:52,213 | INFO | download successfully！ take 0.80s,  average download speed is 9855.54KB/s\n",
      "2023-06-18 18:11:53,692 | INFO | Resolved available hosts:\n",
      "2023-06-18 18:11:53,693 | INFO | 151.101.110.225:443\n"
     ]
    },
    {
     "name": "stdout",
     "output_type": "stream",
     "text": [
      "https://p-movie.learning-ware.jp/hls-vod/p-movie/530/59a6c42ee50235b7e46a39c8d963ba14f6ed7284/106392.mp4.m3u8\n",
      "\n",
      "summary\n",
      "m3u8_uri: https://p-movie.learning-ware.jp/hls-vod/p-movie/530/59a6c42ee50235b7e46a39c8d963ba14f6ed7284/106392.mp4.m3u8;\n",
      "max_retry_times: 3;\n",
      "tmp_dir: C:\\Users\\jerem\\AppData\\Local\\Temp\\m3u8_1545939247;\n",
      "mp4_file_path: ./m3u8_To_MP4.mp4;\n",
      "\n",
      "segment set: |##################################################| 100.0% downloaded segments successfully!\n"
     ]
    },
    {
     "name": "stderr",
     "output_type": "stream",
     "text": [
      "2023-06-18 18:11:54,441 | INFO | decrypt and dump segments...\n",
      "2023-06-18 18:11:54,455 | INFO | merging segments...\n",
      "2023-06-18 18:11:55,021 | INFO | download successfully！ take 1.33s,  average download speed is 22533.82KB/s\n",
      "2023-06-18 18:11:56,642 | INFO | Resolved available hosts:\n",
      "2023-06-18 18:11:56,643 | INFO | 151.101.110.225:443\n"
     ]
    },
    {
     "name": "stdout",
     "output_type": "stream",
     "text": [
      "https://p-movie.learning-ware.jp/hls-vod/p-movie/530/f17c86962dfa2e7e8d19b1e2086d7e3a52015842/106393.mp4.m3u8\n",
      "\n",
      "summary\n",
      "m3u8_uri: https://p-movie.learning-ware.jp/hls-vod/p-movie/530/f17c86962dfa2e7e8d19b1e2086d7e3a52015842/106393.mp4.m3u8;\n",
      "max_retry_times: 3;\n",
      "tmp_dir: C:\\Users\\jerem\\AppData\\Local\\Temp\\m3u8_1546521293;\n",
      "mp4_file_path: ./m3u8_To_MP4.mp4;\n",
      "\n",
      "segment set: |##################################################| 100.0% downloaded segments successfully!\n"
     ]
    },
    {
     "name": "stderr",
     "output_type": "stream",
     "text": [
      "2023-06-18 18:11:57,276 | INFO | decrypt and dump segments...\n",
      "2023-06-18 18:11:57,284 | INFO | merging segments...\n",
      "2023-06-18 18:11:57,560 | INFO | download successfully！ take 0.92s,  average download speed is 12138.77KB/s\n",
      "2023-06-18 18:11:58,921 | INFO | Resolved available hosts:\n",
      "2023-06-18 18:11:58,921 | INFO | 151.101.110.225:443\n"
     ]
    },
    {
     "name": "stdout",
     "output_type": "stream",
     "text": [
      "https://p-movie.learning-ware.jp/hls-vod/p-movie/530/0aebb7434d92a473e073ecd94d2d5ab39331574e/106394.mp4.m3u8\n",
      "\n",
      "summary\n",
      "m3u8_uri: https://p-movie.learning-ware.jp/hls-vod/p-movie/530/0aebb7434d92a473e073ecd94d2d5ab39331574e/106394.mp4.m3u8;\n",
      "max_retry_times: 3;\n",
      "tmp_dir: C:\\Users\\jerem\\AppData\\Local\\Temp\\m3u8_68570318;\n",
      "mp4_file_path: ./m3u8_To_MP4.mp4;\n",
      "\n",
      "segment set: |##################################################| 100.0% downloaded segments successfully!\n"
     ]
    },
    {
     "name": "stderr",
     "output_type": "stream",
     "text": [
      "2023-06-18 18:12:00,389 | INFO | decrypt and dump segments...\n",
      "2023-06-18 18:12:00,422 | INFO | merging segments...\n",
      "2023-06-18 18:12:01,611 | INFO | download successfully！ take 2.69s,  average download speed is 18026.25KB/s\n",
      "2023-06-18 18:12:03,107 | INFO | Resolved available hosts:\n",
      "2023-06-18 18:12:03,109 | INFO | 151.101.110.225:443\n"
     ]
    },
    {
     "name": "stdout",
     "output_type": "stream",
     "text": [
      "https://p-movie.learning-ware.jp/hls-vod/p-movie/530/ffcbab2ee0f7c9954ea1707243673143606d0954/91050.mp4.m3u8\n",
      "\n",
      "summary\n",
      "m3u8_uri: https://p-movie.learning-ware.jp/hls-vod/p-movie/530/ffcbab2ee0f7c9954ea1707243673143606d0954/91050.mp4.m3u8;\n",
      "max_retry_times: 3;\n",
      "tmp_dir: C:\\Users\\jerem\\AppData\\Local\\Temp\\m3u8_2561320969;\n",
      "mp4_file_path: ./m3u8_To_MP4.mp4;\n",
      "\n",
      "segment set: |##################################################| 100.0% downloaded segments successfully!\n"
     ]
    },
    {
     "name": "stderr",
     "output_type": "stream",
     "text": [
      "2023-06-18 18:12:03,682 | INFO | decrypt and dump segments...\n",
      "2023-06-18 18:12:03,694 | INFO | merging segments...\n",
      "2023-06-18 18:12:04,160 | INFO | download successfully！ take 1.05s,  average download speed is 21417.57KB/s\n"
     ]
    },
    {
     "name": "stdout",
     "output_type": "stream",
     "text": [
      "nothing found\n"
     ]
    },
    {
     "name": "stderr",
     "output_type": "stream",
     "text": [
      "2023-06-18 18:12:07,815 | INFO | Resolved available hosts:\n",
      "2023-06-18 18:12:07,816 | INFO | 151.101.110.225:443\n"
     ]
    },
    {
     "name": "stdout",
     "output_type": "stream",
     "text": [
      "https://p-movie.learning-ware.jp/hls-vod/p-movie/530/5c7a28064d88518ccd91d71e0ffe1dc6fa4cdd23/91107.mp4.m3u8\n",
      "\n",
      "summary\n",
      "m3u8_uri: https://p-movie.learning-ware.jp/hls-vod/p-movie/530/5c7a28064d88518ccd91d71e0ffe1dc6fa4cdd23/91107.mp4.m3u8;\n",
      "max_retry_times: 3;\n",
      "tmp_dir: C:\\Users\\jerem\\AppData\\Local\\Temp\\m3u8_2687755251;\n",
      "mp4_file_path: ./m3u8_To_MP4.mp4;\n",
      "\n",
      "segment set: |##################################################| 100.0% downloaded segments successfully!\n"
     ]
    },
    {
     "name": "stderr",
     "output_type": "stream",
     "text": [
      "2023-06-18 18:12:09,671 | INFO | decrypt and dump segments...\n",
      "2023-06-18 18:12:09,738 | INFO | merging segments...\n",
      "2023-06-18 18:12:12,056 | INFO | download successfully！ take 4.24s,  average download speed is 47715.69KB/s\n",
      "2023-06-18 18:12:13,684 | INFO | Resolved available hosts:\n",
      "2023-06-18 18:12:13,684 | INFO | 151.101.110.225:443\n"
     ]
    },
    {
     "name": "stdout",
     "output_type": "stream",
     "text": [
      "https://p-movie.learning-ware.jp/hls-vod/p-movie/530/23ecdcf0bbe3da7bca925f945f9e2a0264f0c9a9/106040.mp4.m3u8\n",
      "\n",
      "summary\n",
      "m3u8_uri: https://p-movie.learning-ware.jp/hls-vod/p-movie/530/23ecdcf0bbe3da7bca925f945f9e2a0264f0c9a9/106040.mp4.m3u8;\n",
      "max_retry_times: 3;\n",
      "tmp_dir: C:\\Users\\jerem\\AppData\\Local\\Temp\\m3u8_2426854805;\n",
      "mp4_file_path: ./m3u8_To_MP4.mp4;\n",
      "\n",
      "segment set: |##################################################| 100.0% downloaded segments successfully!\n"
     ]
    },
    {
     "name": "stderr",
     "output_type": "stream",
     "text": [
      "2023-06-18 18:12:14,821 | INFO | decrypt and dump segments...\n",
      "2023-06-18 18:12:14,848 | INFO | merging segments...\n",
      "2023-06-18 18:12:15,691 | INFO | download successfully！ take 2.01s,  average download speed is 24455.97KB/s\n",
      "2023-06-18 18:12:17,104 | INFO | Resolved available hosts:\n",
      "2023-06-18 18:12:17,105 | INFO | 151.101.110.225:443\n"
     ]
    },
    {
     "name": "stdout",
     "output_type": "stream",
     "text": [
      "https://p-movie.learning-ware.jp/hls-vod/p-movie/530/23e7ccc071e0b0aa4af28ba06ef0d81345ebe895/106041.mp4.m3u8\n",
      "\n",
      "summary\n",
      "m3u8_uri: https://p-movie.learning-ware.jp/hls-vod/p-movie/530/23e7ccc071e0b0aa4af28ba06ef0d81345ebe895/106041.mp4.m3u8;\n",
      "max_retry_times: 3;\n",
      "tmp_dir: C:\\Users\\jerem\\AppData\\Local\\Temp\\m3u8_2259742144;\n",
      "mp4_file_path: ./m3u8_To_MP4.mp4;\n",
      "\n",
      "segment set: |##################################################| 100.0% downloaded segments successfully!\n"
     ]
    },
    {
     "name": "stderr",
     "output_type": "stream",
     "text": [
      "2023-06-18 18:12:17,708 | INFO | decrypt and dump segments...\n",
      "2023-06-18 18:12:17,721 | INFO | merging segments...\n",
      "2023-06-18 18:12:18,241 | INFO | download successfully！ take 1.14s,  average download speed is 26981.19KB/s\n",
      "2023-06-18 18:12:19,926 | INFO | Resolved available hosts:\n",
      "2023-06-18 18:12:19,926 | INFO | 151.101.110.225:443\n"
     ]
    },
    {
     "name": "stdout",
     "output_type": "stream",
     "text": [
      "https://p-movie.learning-ware.jp/hls-vod/p-movie/530/079e88d90ec98fe58eaad6f1b86f81759e6b63fa/106042.mp4.m3u8\n",
      "\n",
      "summary\n",
      "m3u8_uri: https://p-movie.learning-ware.jp/hls-vod/p-movie/530/079e88d90ec98fe58eaad6f1b86f81759e6b63fa/106042.mp4.m3u8;\n",
      "max_retry_times: 3;\n",
      "tmp_dir: C:\\Users\\jerem\\AppData\\Local\\Temp\\m3u8_1794362388;\n",
      "mp4_file_path: ./m3u8_To_MP4.mp4;\n",
      "\n",
      "segment set: |##################################################| 100.0% downloaded segments successfully!\n"
     ]
    },
    {
     "name": "stderr",
     "output_type": "stream",
     "text": [
      "2023-06-18 18:12:21,413 | INFO | decrypt and dump segments...\n",
      "2023-06-18 18:12:21,436 | INFO | merging segments...\n",
      "2023-06-18 18:12:22,304 | INFO | download successfully！ take 2.39s,  average download speed is 18028.99KB/s\n",
      "2023-06-18 18:12:23,819 | INFO | Resolved available hosts:\n",
      "2023-06-18 18:12:23,819 | INFO | 151.101.110.225:443\n"
     ]
    },
    {
     "name": "stdout",
     "output_type": "stream",
     "text": [
      "https://p-movie.learning-ware.jp/hls-vod/p-movie/530/a3f64b469508106fa8ee67be4d47a508715b2bba/106043.mp4.m3u8\n",
      "\n",
      "summary\n",
      "m3u8_uri: https://p-movie.learning-ware.jp/hls-vod/p-movie/530/a3f64b469508106fa8ee67be4d47a508715b2bba/106043.mp4.m3u8;\n",
      "max_retry_times: 3;\n",
      "tmp_dir: C:\\Users\\jerem\\AppData\\Local\\Temp\\m3u8_1113715251;\n",
      "mp4_file_path: ./m3u8_To_MP4.mp4;\n",
      "\n",
      "segment set: |##################################################| 100.0% downloaded segments successfully!\n"
     ]
    },
    {
     "name": "stderr",
     "output_type": "stream",
     "text": [
      "2023-06-18 18:12:24,851 | INFO | decrypt and dump segments...\n",
      "2023-06-18 18:12:24,892 | INFO | merging segments...\n",
      "2023-06-18 18:12:25,724 | INFO | download successfully！ take 1.91s,  average download speed is 25604.16KB/s\n",
      "2023-06-18 18:12:27,118 | INFO | Resolved available hosts:\n",
      "2023-06-18 18:12:27,119 | INFO | 151.101.110.225:443\n"
     ]
    },
    {
     "name": "stdout",
     "output_type": "stream",
     "text": [
      "https://p-movie.learning-ware.jp/hls-vod/p-movie/530/a3814f04c70f34b406beec9dd69abb929bc3fe86/106044.mp4.m3u8\n",
      "\n",
      "summary\n",
      "m3u8_uri: https://p-movie.learning-ware.jp/hls-vod/p-movie/530/a3814f04c70f34b406beec9dd69abb929bc3fe86/106044.mp4.m3u8;\n",
      "max_retry_times: 3;\n",
      "tmp_dir: C:\\Users\\jerem\\AppData\\Local\\Temp\\m3u8_1216600170;\n",
      "mp4_file_path: ./m3u8_To_MP4.mp4;\n",
      "\n",
      "segment set: |##################################################| 100.0% downloaded segments successfully!\n"
     ]
    },
    {
     "name": "stderr",
     "output_type": "stream",
     "text": [
      "2023-06-18 18:12:27,935 | INFO | decrypt and dump segments...\n",
      "2023-06-18 18:12:27,949 | INFO | merging segments...\n",
      "2023-06-18 18:12:28,591 | INFO | download successfully！ take 1.47s,  average download speed is 21452.22KB/s\n",
      "2023-06-18 18:12:30,121 | INFO | Resolved available hosts:\n",
      "2023-06-18 18:12:30,121 | INFO | 151.101.110.225:443\n"
     ]
    },
    {
     "name": "stdout",
     "output_type": "stream",
     "text": [
      "https://p-movie.learning-ware.jp/hls-vod/p-movie/530/2a68a28471f12278f4df035d2f53b39d3bd224ed/106045.mp4.m3u8\n",
      "\n",
      "summary\n",
      "m3u8_uri: https://p-movie.learning-ware.jp/hls-vod/p-movie/530/2a68a28471f12278f4df035d2f53b39d3bd224ed/106045.mp4.m3u8;\n",
      "max_retry_times: 3;\n",
      "tmp_dir: C:\\Users\\jerem\\AppData\\Local\\Temp\\m3u8_2208857757;\n",
      "mp4_file_path: ./m3u8_To_MP4.mp4;\n",
      "\n",
      "segment set: |##################################################| 100.0% downloaded segments successfully!\n"
     ]
    },
    {
     "name": "stderr",
     "output_type": "stream",
     "text": [
      "2023-06-18 18:12:31,646 | INFO | decrypt and dump segments...\n",
      "2023-06-18 18:12:31,665 | INFO | merging segments...\n",
      "2023-06-18 18:12:32,381 | INFO | download successfully！ take 2.26s,  average download speed is 15406.04KB/s\n",
      "2023-06-18 18:12:34,038 | INFO | Resolved available hosts:\n",
      "2023-06-18 18:12:34,038 | INFO | 151.101.110.225:443\n"
     ]
    },
    {
     "name": "stdout",
     "output_type": "stream",
     "text": [
      "https://p-movie.learning-ware.jp/hls-vod/p-movie/530/1635af18faf61cd9bce193ddd6e4399fddc5141d/106046.mp4.m3u8\n",
      "\n",
      "summary\n",
      "m3u8_uri: https://p-movie.learning-ware.jp/hls-vod/p-movie/530/1635af18faf61cd9bce193ddd6e4399fddc5141d/106046.mp4.m3u8;\n",
      "max_retry_times: 3;\n",
      "tmp_dir: C:\\Users\\jerem\\AppData\\Local\\Temp\\m3u8_677073781;\n",
      "mp4_file_path: ./m3u8_To_MP4.mp4;\n",
      "\n",
      "segment set: |##################################################| 100.0% downloaded segments successfully!\n"
     ]
    },
    {
     "name": "stderr",
     "output_type": "stream",
     "text": [
      "2023-06-18 18:12:34,855 | INFO | decrypt and dump segments...\n",
      "2023-06-18 18:12:34,871 | INFO | merging segments...\n",
      "2023-06-18 18:12:35,536 | INFO | download successfully！ take 1.50s,  average download speed is 25517.71KB/s\n",
      "2023-06-18 18:12:36,952 | INFO | Resolved available hosts:\n",
      "2023-06-18 18:12:36,953 | INFO | 151.101.110.225:443\n"
     ]
    },
    {
     "name": "stdout",
     "output_type": "stream",
     "text": [
      "https://p-movie.learning-ware.jp/hls-vod/p-movie/530/9827d8443cde25e6d4bb0908741d6a531c35c6d6/91111.mp4.m3u8\n",
      "\n",
      "summary\n",
      "m3u8_uri: https://p-movie.learning-ware.jp/hls-vod/p-movie/530/9827d8443cde25e6d4bb0908741d6a531c35c6d6/91111.mp4.m3u8;\n",
      "max_retry_times: 3;\n",
      "tmp_dir: C:\\Users\\jerem\\AppData\\Local\\Temp\\m3u8_3474063109;\n",
      "mp4_file_path: ./m3u8_To_MP4.mp4;\n",
      "\n",
      "segment set: |##################################################| 100.0% downloaded segments successfully!\n"
     ]
    },
    {
     "name": "stderr",
     "output_type": "stream",
     "text": [
      "2023-06-18 18:12:38,944 | INFO | decrypt and dump segments...\n",
      "2023-06-18 18:12:39,020 | INFO | merging segments...\n",
      "2023-06-18 18:12:41,416 | INFO | download successfully！ take 4.46s,  average download speed is 48099.11KB/s\n",
      "2023-06-18 18:12:42,947 | INFO | Resolved available hosts:\n",
      "2023-06-18 18:12:42,948 | INFO | 151.101.110.225:443\n"
     ]
    },
    {
     "name": "stdout",
     "output_type": "stream",
     "text": [
      "https://p-movie.learning-ware.jp/hls-vod/p-movie/530/949354303a921b71d4d27bb77fac6e5f3cbe8a21/91108.mp4.m3u8\n",
      "\n",
      "summary\n",
      "m3u8_uri: https://p-movie.learning-ware.jp/hls-vod/p-movie/530/949354303a921b71d4d27bb77fac6e5f3cbe8a21/91108.mp4.m3u8;\n",
      "max_retry_times: 3;\n",
      "tmp_dir: C:\\Users\\jerem\\AppData\\Local\\Temp\\m3u8_2603904685;\n",
      "mp4_file_path: ./m3u8_To_MP4.mp4;\n",
      "\n",
      "segment set: |##################################################| 100.0% downloaded segments successfully!\n"
     ]
    },
    {
     "name": "stderr",
     "output_type": "stream",
     "text": [
      "2023-06-18 18:12:45,141 | INFO | decrypt and dump segments...\n",
      "2023-06-18 18:12:45,208 | INFO | merging segments...\n",
      "2023-06-18 18:12:47,522 | INFO | download successfully！ take 4.58s,  average download speed is 41553.77KB/s\n",
      "2023-06-18 18:12:49,086 | INFO | Resolved available hosts:\n",
      "2023-06-18 18:12:49,087 | INFO | 151.101.110.225:443\n"
     ]
    },
    {
     "name": "stdout",
     "output_type": "stream",
     "text": [
      "https://p-movie.learning-ware.jp/hls-vod/p-movie/530/65fb9160db03746c2eb858cd6ad2d54366e2a688/106047.mp4.m3u8\n",
      "\n",
      "summary\n",
      "m3u8_uri: https://p-movie.learning-ware.jp/hls-vod/p-movie/530/65fb9160db03746c2eb858cd6ad2d54366e2a688/106047.mp4.m3u8;\n",
      "max_retry_times: 3;\n",
      "tmp_dir: C:\\Users\\jerem\\AppData\\Local\\Temp\\m3u8_1934717271;\n",
      "mp4_file_path: ./m3u8_To_MP4.mp4;\n",
      "\n",
      "segment set: |##################################################| 100.0% downloaded segments successfully!\n"
     ]
    },
    {
     "name": "stderr",
     "output_type": "stream",
     "text": [
      "2023-06-18 18:12:50,359 | INFO | decrypt and dump segments...\n",
      "2023-06-18 18:12:50,380 | INFO | merging segments...\n",
      "2023-06-18 18:12:51,193 | INFO | download successfully！ take 2.11s,  average download speed is 20223.24KB/s\n",
      "2023-06-18 18:12:52,670 | INFO | Resolved available hosts:\n",
      "2023-06-18 18:12:52,671 | INFO | 151.101.110.225:443\n"
     ]
    },
    {
     "name": "stdout",
     "output_type": "stream",
     "text": [
      "https://p-movie.learning-ware.jp/hls-vod/p-movie/530/64f34dfa8c8ce4ddf1996101a7eca67dee98cdb1/106048.mp4.m3u8\n",
      "\n",
      "summary\n",
      "m3u8_uri: https://p-movie.learning-ware.jp/hls-vod/p-movie/530/64f34dfa8c8ce4ddf1996101a7eca67dee98cdb1/106048.mp4.m3u8;\n",
      "max_retry_times: 3;\n",
      "tmp_dir: C:\\Users\\jerem\\AppData\\Local\\Temp\\m3u8_3360215890;\n",
      "mp4_file_path: ./m3u8_To_MP4.mp4;\n",
      "\n",
      "segment set: |##################################################| 100.0% downloaded segments successfully!\n"
     ]
    },
    {
     "name": "stderr",
     "output_type": "stream",
     "text": [
      "2023-06-18 18:12:53,395 | INFO | decrypt and dump segments...\n",
      "2023-06-18 18:12:53,405 | INFO | merging segments...\n",
      "2023-06-18 18:12:53,791 | INFO | download successfully！ take 1.14s,  average download speed is 15201.82KB/s\n",
      "2023-06-18 18:12:55,249 | INFO | Resolved available hosts:\n",
      "2023-06-18 18:12:55,249 | INFO | 151.101.110.225:443\n"
     ]
    },
    {
     "name": "stdout",
     "output_type": "stream",
     "text": [
      "https://p-movie.learning-ware.jp/hls-vod/p-movie/530/7520abc5170b84320243a9f7111f8af015902c91/106049.mp4.m3u8\n",
      "\n",
      "summary\n",
      "m3u8_uri: https://p-movie.learning-ware.jp/hls-vod/p-movie/530/7520abc5170b84320243a9f7111f8af015902c91/106049.mp4.m3u8;\n",
      "max_retry_times: 3;\n",
      "tmp_dir: C:\\Users\\jerem\\AppData\\Local\\Temp\\m3u8_3593430937;\n",
      "mp4_file_path: ./m3u8_To_MP4.mp4;\n",
      "\n",
      "segment set: |##################################################| 100.0% downloaded segments successfully!\n"
     ]
    },
    {
     "name": "stderr",
     "output_type": "stream",
     "text": [
      "2023-06-18 18:12:56,009 | INFO | decrypt and dump segments...\n",
      "2023-06-18 18:12:56,026 | INFO | merging segments...\n",
      "2023-06-18 18:12:56,719 | INFO | download successfully！ take 1.47s,  average download speed is 28501.33KB/s\n",
      "2023-06-18 18:12:58,429 | INFO | Resolved available hosts:\n",
      "2023-06-18 18:12:58,430 | INFO | 151.101.110.225:443\n"
     ]
    },
    {
     "name": "stdout",
     "output_type": "stream",
     "text": [
      "https://p-movie.learning-ware.jp/hls-vod/p-movie/530/1804d77c6bd7aa5ca019c2a233416133ffb08391/106051.mp4.m3u8\n",
      "\n",
      "summary\n",
      "m3u8_uri: https://p-movie.learning-ware.jp/hls-vod/p-movie/530/1804d77c6bd7aa5ca019c2a233416133ffb08391/106051.mp4.m3u8;\n",
      "max_retry_times: 3;\n",
      "tmp_dir: C:\\Users\\jerem\\AppData\\Local\\Temp\\m3u8_828171844;\n",
      "mp4_file_path: ./m3u8_To_MP4.mp4;\n",
      "\n",
      "segment set: |##################################################| 100.0% downloaded segments successfully!\n"
     ]
    },
    {
     "name": "stderr",
     "output_type": "stream",
     "text": [
      "2023-06-18 18:12:59,526 | INFO | decrypt and dump segments...\n",
      "2023-06-18 18:12:59,551 | INFO | merging segments...\n",
      "2023-06-18 18:13:00,428 | INFO | download successfully！ take 2.02s,  average download speed is 25036.73KB/s\n",
      "2023-06-18 18:13:01,873 | INFO | Resolved available hosts:\n",
      "2023-06-18 18:13:01,873 | INFO | 151.101.110.225:443\n"
     ]
    },
    {
     "name": "stdout",
     "output_type": "stream",
     "text": [
      "https://p-movie.learning-ware.jp/hls-vod/p-movie/530/9dd046109a2af83c0c0c188bcd7d715a65bb3063/106052.mp4.m3u8\n",
      "\n",
      "summary\n",
      "m3u8_uri: https://p-movie.learning-ware.jp/hls-vod/p-movie/530/9dd046109a2af83c0c0c188bcd7d715a65bb3063/106052.mp4.m3u8;\n",
      "max_retry_times: 3;\n",
      "tmp_dir: C:\\Users\\jerem\\AppData\\Local\\Temp\\m3u8_1465756592;\n",
      "mp4_file_path: ./m3u8_To_MP4.mp4;\n",
      "\n",
      "segment set: |##################################################| 100.0% downloaded segments successfully!\n"
     ]
    },
    {
     "name": "stderr",
     "output_type": "stream",
     "text": [
      "2023-06-18 18:13:03,102 | INFO | decrypt and dump segments...\n",
      "2023-06-18 18:13:03,126 | INFO | merging segments...\n",
      "2023-06-18 18:13:04,012 | INFO | download successfully！ take 2.14s,  average download speed is 23645.65KB/s\n",
      "2023-06-18 18:13:05,489 | INFO | Resolved available hosts:\n",
      "2023-06-18 18:13:05,490 | INFO | 151.101.110.225:443\n"
     ]
    },
    {
     "name": "stdout",
     "output_type": "stream",
     "text": [
      "https://p-movie.learning-ware.jp/hls-vod/p-movie/530/94eb4fd46cf2a7e5918189ae63f500b8ba2e11af/91110.mp4.m3u8\n",
      "\n",
      "summary\n",
      "m3u8_uri: https://p-movie.learning-ware.jp/hls-vod/p-movie/530/94eb4fd46cf2a7e5918189ae63f500b8ba2e11af/91110.mp4.m3u8;\n",
      "max_retry_times: 3;\n",
      "tmp_dir: C:\\Users\\jerem\\AppData\\Local\\Temp\\m3u8_3065162462;\n",
      "mp4_file_path: ./m3u8_To_MP4.mp4;\n",
      "\n",
      "segment set: |##################################################| 100.0% downloaded segments successfully!\n"
     ]
    },
    {
     "name": "stderr",
     "output_type": "stream",
     "text": [
      "2023-06-18 18:13:07,744 | INFO | decrypt and dump segments...\n",
      "2023-06-18 18:13:07,830 | INFO | merging segments...\n",
      "2023-06-18 18:13:10,593 | INFO | download successfully！ take 5.11s,  average download speed is 52294.45KB/s\n",
      "2023-06-18 18:13:12,327 | INFO | Resolved available hosts:\n",
      "2023-06-18 18:13:12,327 | INFO | 151.101.110.225:443\n"
     ]
    },
    {
     "name": "stdout",
     "output_type": "stream",
     "text": [
      "https://p-movie.learning-ware.jp/hls-vod/p-movie/530/b4a901f9b660a7237352963c2a008193423c0b24/91109.mp4.m3u8\n",
      "\n",
      "summary\n",
      "m3u8_uri: https://p-movie.learning-ware.jp/hls-vod/p-movie/530/b4a901f9b660a7237352963c2a008193423c0b24/91109.mp4.m3u8;\n",
      "max_retry_times: 3;\n",
      "tmp_dir: C:\\Users\\jerem\\AppData\\Local\\Temp\\m3u8_3680411165;\n",
      "mp4_file_path: ./m3u8_To_MP4.mp4;\n",
      "\n",
      "segment set: |##################################################| 100.0% downloaded segments successfully!\n"
     ]
    },
    {
     "name": "stderr",
     "output_type": "stream",
     "text": [
      "2023-06-18 18:13:14,750 | INFO | decrypt and dump segments...\n",
      "2023-06-18 18:13:14,833 | INFO | merging segments...\n",
      "2023-06-18 18:13:17,978 | INFO | download successfully！ take 5.65s,  average download speed is 51318.39KB/s\n",
      "2023-06-18 18:13:19,620 | INFO | Resolved available hosts:\n",
      "2023-06-18 18:13:19,621 | INFO | 151.101.110.225:443\n"
     ]
    },
    {
     "name": "stdout",
     "output_type": "stream",
     "text": [
      "https://p-movie.learning-ware.jp/hls-vod/p-movie/530/1bf4f03775789bef98d11e6da8f8aff473458da6/91105.mp4.m3u8\n",
      "\n",
      "summary\n",
      "m3u8_uri: https://p-movie.learning-ware.jp/hls-vod/p-movie/530/1bf4f03775789bef98d11e6da8f8aff473458da6/91105.mp4.m3u8;\n",
      "max_retry_times: 3;\n",
      "tmp_dir: C:\\Users\\jerem\\AppData\\Local\\Temp\\m3u8_4093142954;\n",
      "mp4_file_path: ./m3u8_To_MP4.mp4;\n",
      "\n",
      "segment set: |##################################################| 100.0% downloaded segments successfully!\n"
     ]
    },
    {
     "name": "stderr",
     "output_type": "stream",
     "text": [
      "2023-06-18 18:13:20,407 | INFO | decrypt and dump segments...\n",
      "2023-06-18 18:13:20,434 | INFO | merging segments...\n",
      "2023-06-18 18:13:21,279 | INFO | download successfully！ take 1.66s,  average download speed is 22381.72KB/s\n",
      "2023-06-18 18:13:22,907 | INFO | Resolved available hosts:\n",
      "2023-06-18 18:13:22,908 | INFO | 151.101.110.225:443\n"
     ]
    },
    {
     "name": "stdout",
     "output_type": "stream",
     "text": [
      "https://p-movie.learning-ware.jp/hls-vod/p-movie/530/c6f625819708cd4e403e9d1c9b8f5c4d5e6c4e06/91106.mp4.m3u8\n",
      "\n",
      "summary\n",
      "m3u8_uri: https://p-movie.learning-ware.jp/hls-vod/p-movie/530/c6f625819708cd4e403e9d1c9b8f5c4d5e6c4e06/91106.mp4.m3u8;\n",
      "max_retry_times: 3;\n",
      "tmp_dir: C:\\Users\\jerem\\AppData\\Local\\Temp\\m3u8_1106337090;\n",
      "mp4_file_path: ./m3u8_To_MP4.mp4;\n",
      "\n",
      "segment set: |##################################################| 100.0% downloaded segments successfully!\n"
     ]
    },
    {
     "name": "stderr",
     "output_type": "stream",
     "text": [
      "2023-06-18 18:13:24,711 | INFO | decrypt and dump segments...\n",
      "2023-06-18 18:13:24,781 | INFO | merging segments...\n",
      "2023-06-18 18:13:26,579 | INFO | download successfully！ take 3.69s,  average download speed is 22772.56KB/s\n",
      "2023-06-18 18:13:28,029 | INFO | Resolved available hosts:\n",
      "2023-06-18 18:13:28,030 | INFO | 151.101.110.225:443\n"
     ]
    },
    {
     "name": "stdout",
     "output_type": "stream",
     "text": [
      "https://p-movie.learning-ware.jp/hls-vod/p-movie/530/d12cc58c382f7987abc1ec4de2275958b3687160/91115.mp4.m3u8\n",
      "\n",
      "summary\n",
      "m3u8_uri: https://p-movie.learning-ware.jp/hls-vod/p-movie/530/d12cc58c382f7987abc1ec4de2275958b3687160/91115.mp4.m3u8;\n",
      "max_retry_times: 3;\n",
      "tmp_dir: C:\\Users\\jerem\\AppData\\Local\\Temp\\m3u8_656768029;\n",
      "mp4_file_path: ./m3u8_To_MP4.mp4;\n",
      "\n",
      "segment set: |##################################################| 100.0% downloaded segments successfully!\n"
     ]
    },
    {
     "name": "stderr",
     "output_type": "stream",
     "text": [
      "2023-06-18 18:13:28,844 | INFO | decrypt and dump segments...\n",
      "2023-06-18 18:13:28,858 | INFO | merging segments...\n",
      "2023-06-18 18:13:29,428 | INFO | download successfully！ take 1.40s,  average download speed is 15768.04KB/s\n"
     ]
    },
    {
     "name": "stdout",
     "output_type": "stream",
     "text": [
      "nothing found\n"
     ]
    },
    {
     "name": "stderr",
     "output_type": "stream",
     "text": [
      "2023-06-18 18:13:32,884 | INFO | Resolved available hosts:\n",
      "2023-06-18 18:13:32,884 | INFO | 151.101.110.225:443\n"
     ]
    },
    {
     "name": "stdout",
     "output_type": "stream",
     "text": [
      "https://p-movie.learning-ware.jp/hls-vod/p-movie/530/8147ac3a8a68bd05f6ec779f282a19b03a93ae11/91118.mp4.m3u8\n",
      "\n",
      "summary\n",
      "m3u8_uri: https://p-movie.learning-ware.jp/hls-vod/p-movie/530/8147ac3a8a68bd05f6ec779f282a19b03a93ae11/91118.mp4.m3u8;\n",
      "max_retry_times: 3;\n",
      "tmp_dir: C:\\Users\\jerem\\AppData\\Local\\Temp\\m3u8_679882551;\n",
      "mp4_file_path: ./m3u8_To_MP4.mp4;\n",
      "\n",
      "segment set: |##################################################| 100.0% downloaded segments successfully!\n"
     ]
    },
    {
     "name": "stderr",
     "output_type": "stream",
     "text": [
      "2023-06-18 18:13:34,742 | INFO | decrypt and dump segments...\n",
      "2023-06-18 18:13:34,802 | INFO | merging segments...\n",
      "2023-06-18 18:13:36,854 | INFO | download successfully！ take 3.97s,  average download speed is 45453.96KB/s\n",
      "2023-06-18 18:13:38,371 | INFO | Resolved available hosts:\n",
      "2023-06-18 18:13:38,371 | INFO | 151.101.110.225:443\n"
     ]
    },
    {
     "name": "stdout",
     "output_type": "stream",
     "text": [
      "https://p-movie.learning-ware.jp/hls-vod/p-movie/530/cd3eb2f815dc917f670ad9efc21ec972d982f307/91119.mp4.m3u8\n",
      "\n",
      "summary\n",
      "m3u8_uri: https://p-movie.learning-ware.jp/hls-vod/p-movie/530/cd3eb2f815dc917f670ad9efc21ec972d982f307/91119.mp4.m3u8;\n",
      "max_retry_times: 3;\n",
      "tmp_dir: C:\\Users\\jerem\\AppData\\Local\\Temp\\m3u8_841036905;\n",
      "mp4_file_path: ./m3u8_To_MP4.mp4;\n",
      "\n",
      "segment set: |##################################################| 100.0% downloaded segments successfully!\n"
     ]
    },
    {
     "name": "stderr",
     "output_type": "stream",
     "text": [
      "2023-06-18 18:13:40,225 | INFO | decrypt and dump segments...\n",
      "2023-06-18 18:13:40,283 | INFO | merging segments...\n",
      "2023-06-18 18:13:42,395 | INFO | download successfully！ take 4.02s,  average download speed is 46473.34KB/s\n",
      "2023-06-18 18:13:43,858 | INFO | Resolved available hosts:\n",
      "2023-06-18 18:13:43,858 | INFO | 151.101.110.225:443\n"
     ]
    },
    {
     "name": "stdout",
     "output_type": "stream",
     "text": [
      "https://p-movie.learning-ware.jp/hls-vod/p-movie/530/52be471258a6920176a9827aae9a19925b86ad00/91206.mp4.m3u8\n",
      "\n",
      "summary\n",
      "m3u8_uri: https://p-movie.learning-ware.jp/hls-vod/p-movie/530/52be471258a6920176a9827aae9a19925b86ad00/91206.mp4.m3u8;\n",
      "max_retry_times: 3;\n",
      "tmp_dir: C:\\Users\\jerem\\AppData\\Local\\Temp\\m3u8_2476160793;\n",
      "mp4_file_path: ./m3u8_To_MP4.mp4;\n",
      "\n",
      "segment set: |##################################################| 100.0% downloaded segments successfully!\n"
     ]
    },
    {
     "name": "stderr",
     "output_type": "stream",
     "text": [
      "2023-06-18 18:13:45,715 | INFO | decrypt and dump segments...\n",
      "2023-06-18 18:13:45,789 | INFO | merging segments...\n",
      "2023-06-18 18:13:47,721 | INFO | download successfully！ take 3.86s,  average download speed is 42068.33KB/s\n",
      "2023-06-18 18:13:49,152 | INFO | Resolved available hosts:\n",
      "2023-06-18 18:13:49,153 | INFO | 151.101.110.225:443\n"
     ]
    },
    {
     "name": "stdout",
     "output_type": "stream",
     "text": [
      "https://p-movie.learning-ware.jp/hls-vod/p-movie/530/80883a7764397b5d527abe5e81f86c27022c66cc/91202.mp4.m3u8\n",
      "\n",
      "summary\n",
      "m3u8_uri: https://p-movie.learning-ware.jp/hls-vod/p-movie/530/80883a7764397b5d527abe5e81f86c27022c66cc/91202.mp4.m3u8;\n",
      "max_retry_times: 3;\n",
      "tmp_dir: C:\\Users\\jerem\\AppData\\Local\\Temp\\m3u8_3566322179;\n",
      "mp4_file_path: ./m3u8_To_MP4.mp4;\n",
      "\n",
      "segment set: |##################################################| 100.0% downloaded segments successfully!\n"
     ]
    },
    {
     "name": "stderr",
     "output_type": "stream",
     "text": [
      "2023-06-18 18:13:51,479 | INFO | decrypt and dump segments...\n",
      "2023-06-18 18:13:51,558 | INFO | merging segments...\n",
      "2023-06-18 18:13:54,162 | INFO | download successfully！ take 5.01s,  average download speed is 50440.81KB/s\n",
      "2023-06-18 18:13:55,685 | INFO | Resolved available hosts:\n",
      "2023-06-18 18:13:55,686 | INFO | 151.101.110.225:443\n"
     ]
    },
    {
     "name": "stdout",
     "output_type": "stream",
     "text": [
      "https://p-movie.learning-ware.jp/hls-vod/p-movie/530/0aee36796c5274a02e6046f7ce3c12ec9bd5731d/106053.mp4.m3u8\n",
      "\n",
      "summary\n",
      "m3u8_uri: https://p-movie.learning-ware.jp/hls-vod/p-movie/530/0aee36796c5274a02e6046f7ce3c12ec9bd5731d/106053.mp4.m3u8;\n",
      "max_retry_times: 3;\n",
      "tmp_dir: C:\\Users\\jerem\\AppData\\Local\\Temp\\m3u8_4081641418;\n",
      "mp4_file_path: ./m3u8_To_MP4.mp4;\n",
      "\n",
      "segment set: |##################################################| 100.0% downloaded segments successfully!\n"
     ]
    },
    {
     "name": "stderr",
     "output_type": "stream",
     "text": [
      "2023-06-18 18:13:56,560 | INFO | decrypt and dump segments...\n",
      "2023-06-18 18:13:56,587 | INFO | merging segments...\n",
      "2023-06-18 18:13:57,333 | INFO | download successfully！ take 1.66s,  average download speed is 26005.00KB/s\n",
      "2023-06-18 18:13:58,769 | INFO | Resolved available hosts:\n",
      "2023-06-18 18:13:58,770 | INFO | 151.101.110.225:443\n"
     ]
    },
    {
     "name": "stdout",
     "output_type": "stream",
     "text": [
      "https://p-movie.learning-ware.jp/hls-vod/p-movie/530/2149c20f748c8e8cdf81f5db2bf74f73553c557a/106054.mp4.m3u8\n",
      "\n",
      "summary\n",
      "m3u8_uri: https://p-movie.learning-ware.jp/hls-vod/p-movie/530/2149c20f748c8e8cdf81f5db2bf74f73553c557a/106054.mp4.m3u8;\n",
      "max_retry_times: 3;\n",
      "tmp_dir: C:\\Users\\jerem\\AppData\\Local\\Temp\\m3u8_4089787396;\n",
      "mp4_file_path: ./m3u8_To_MP4.mp4;\n",
      "\n",
      "segment set: |##################################################| 100.0% downloaded segments successfully!\n"
     ]
    },
    {
     "name": "stderr",
     "output_type": "stream",
     "text": [
      "2023-06-18 18:13:59,656 | INFO | decrypt and dump segments...\n",
      "2023-06-18 18:13:59,668 | INFO | merging segments...\n",
      "2023-06-18 18:14:00,254 | INFO | download successfully！ take 1.49s,  average download speed is 18788.49KB/s\n",
      "2023-06-18 18:14:01,711 | INFO | Resolved available hosts:\n",
      "2023-06-18 18:14:01,711 | INFO | 151.101.110.225:443\n"
     ]
    },
    {
     "name": "stdout",
     "output_type": "stream",
     "text": [
      "https://p-movie.learning-ware.jp/hls-vod/p-movie/530/b27b6f99a0831179df730e8c5e737b9aa28f8982/106055.mp4.m3u8\n",
      "\n",
      "summary\n",
      "m3u8_uri: https://p-movie.learning-ware.jp/hls-vod/p-movie/530/b27b6f99a0831179df730e8c5e737b9aa28f8982/106055.mp4.m3u8;\n",
      "max_retry_times: 3;\n",
      "tmp_dir: C:\\Users\\jerem\\AppData\\Local\\Temp\\m3u8_1306197219;\n",
      "mp4_file_path: ./m3u8_To_MP4.mp4;\n",
      "\n",
      "segment set: |##################################################| 100.0% downloaded segments successfully!\n"
     ]
    },
    {
     "name": "stderr",
     "output_type": "stream",
     "text": [
      "2023-06-18 18:14:02,654 | INFO | decrypt and dump segments...\n",
      "2023-06-18 18:14:02,672 | INFO | merging segments...\n",
      "2023-06-18 18:14:03,288 | INFO | download successfully！ take 1.58s,  average download speed is 20840.68KB/s\n",
      "2023-06-18 18:14:04,767 | INFO | Resolved available hosts:\n",
      "2023-06-18 18:14:04,768 | INFO | 151.101.110.225:443\n"
     ]
    },
    {
     "name": "stdout",
     "output_type": "stream",
     "text": [
      "https://p-movie.learning-ware.jp/hls-vod/p-movie/530/bffbfcdac555de807de8289de66b34f15d93da06/106056.mp4.m3u8\n",
      "\n",
      "summary\n",
      "m3u8_uri: https://p-movie.learning-ware.jp/hls-vod/p-movie/530/bffbfcdac555de807de8289de66b34f15d93da06/106056.mp4.m3u8;\n",
      "max_retry_times: 3;\n",
      "tmp_dir: C:\\Users\\jerem\\AppData\\Local\\Temp\\m3u8_1563295074;\n",
      "mp4_file_path: ./m3u8_To_MP4.mp4;\n",
      "\n",
      "segment set: |##################################################| 100.0% downloaded segments successfully!\n"
     ]
    },
    {
     "name": "stderr",
     "output_type": "stream",
     "text": [
      "2023-06-18 18:14:05,581 | INFO | decrypt and dump segments...\n",
      "2023-06-18 18:14:05,595 | INFO | merging segments...\n",
      "2023-06-18 18:14:06,099 | INFO | download successfully！ take 1.33s,  average download speed is 19240.68KB/s\n",
      "2023-06-18 18:14:07,476 | INFO | Resolved available hosts:\n",
      "2023-06-18 18:14:07,477 | INFO | 151.101.110.225:443\n"
     ]
    },
    {
     "name": "stdout",
     "output_type": "stream",
     "text": [
      "https://p-movie.learning-ware.jp/hls-vod/p-movie/530/be44890ec5b66fd0811c0204d271fb85c69eed9d/106057.mp4.m3u8\n",
      "\n",
      "summary\n",
      "m3u8_uri: https://p-movie.learning-ware.jp/hls-vod/p-movie/530/be44890ec5b66fd0811c0204d271fb85c69eed9d/106057.mp4.m3u8;\n",
      "max_retry_times: 3;\n",
      "tmp_dir: C:\\Users\\jerem\\AppData\\Local\\Temp\\m3u8_3494256627;\n",
      "mp4_file_path: ./m3u8_To_MP4.mp4;\n",
      "\n",
      "segment set: |##################################################| 100.0% downloaded segments successfully!\n"
     ]
    },
    {
     "name": "stderr",
     "output_type": "stream",
     "text": [
      "2023-06-18 18:14:08,870 | INFO | decrypt and dump segments...\n",
      "2023-06-18 18:14:08,897 | INFO | merging segments...\n",
      "2023-06-18 18:14:09,394 | INFO | download successfully！ take 1.92s,  average download speed is 10800.25KB/s\n",
      "2023-06-18 18:14:10,811 | INFO | Resolved available hosts:\n",
      "2023-06-18 18:14:10,812 | INFO | 151.101.110.225:443\n"
     ]
    },
    {
     "name": "stdout",
     "output_type": "stream",
     "text": [
      "https://p-movie.learning-ware.jp/hls-vod/p-movie/530/92f8d59490c7fd50ea9b25f2a2fccc1a21cce60b/106058.mp4.m3u8\n",
      "\n",
      "summary\n",
      "m3u8_uri: https://p-movie.learning-ware.jp/hls-vod/p-movie/530/92f8d59490c7fd50ea9b25f2a2fccc1a21cce60b/106058.mp4.m3u8;\n",
      "max_retry_times: 3;\n",
      "tmp_dir: C:\\Users\\jerem\\AppData\\Local\\Temp\\m3u8_2680822726;\n",
      "mp4_file_path: ./m3u8_To_MP4.mp4;\n",
      "\n",
      "segment set: |##################################################| 100.0% downloaded segments successfully!\n"
     ]
    },
    {
     "name": "stderr",
     "output_type": "stream",
     "text": [
      "2023-06-18 18:14:11,161 | INFO | decrypt and dump segments...\n",
      "2023-06-18 18:14:11,167 | INFO | merging segments...\n",
      "2023-06-18 18:14:11,440 | INFO | download successfully！ take 0.63s,  average download speed is 18437.51KB/s\n",
      "2023-06-18 18:14:12,798 | INFO | Resolved available hosts:\n",
      "2023-06-18 18:14:12,798 | INFO | 151.101.110.225:443\n"
     ]
    },
    {
     "name": "stdout",
     "output_type": "stream",
     "text": [
      "https://p-movie.learning-ware.jp/hls-vod/p-movie/530/eba6ae265a8528a6f98b742ea42cec7bc0873e3f/106059.mp4.m3u8\n",
      "\n",
      "summary\n",
      "m3u8_uri: https://p-movie.learning-ware.jp/hls-vod/p-movie/530/eba6ae265a8528a6f98b742ea42cec7bc0873e3f/106059.mp4.m3u8;\n",
      "max_retry_times: 3;\n",
      "tmp_dir: C:\\Users\\jerem\\AppData\\Local\\Temp\\m3u8_3162715591;\n",
      "mp4_file_path: ./m3u8_To_MP4.mp4;\n",
      "\n",
      "segment set: |##################################################| 100.0% downloaded segments successfully!\n"
     ]
    },
    {
     "name": "stderr",
     "output_type": "stream",
     "text": [
      "2023-06-18 18:14:13,472 | INFO | decrypt and dump segments...\n",
      "2023-06-18 18:14:13,489 | INFO | merging segments...\n",
      "2023-06-18 18:14:14,194 | INFO | download successfully！ take 1.40s,  average download speed is 32133.96KB/s\n",
      "2023-06-18 18:14:15,660 | INFO | Resolved available hosts:\n",
      "2023-06-18 18:14:15,660 | INFO | 151.101.110.225:443\n"
     ]
    },
    {
     "name": "stdout",
     "output_type": "stream",
     "text": [
      "https://p-movie.learning-ware.jp/hls-vod/p-movie/530/f9007963ece484599bd2bdf90af1145f4c292897/106060.mp4.m3u8\n",
      "\n",
      "summary\n",
      "m3u8_uri: https://p-movie.learning-ware.jp/hls-vod/p-movie/530/f9007963ece484599bd2bdf90af1145f4c292897/106060.mp4.m3u8;\n",
      "max_retry_times: 3;\n",
      "tmp_dir: C:\\Users\\jerem\\AppData\\Local\\Temp\\m3u8_1880647064;\n",
      "mp4_file_path: ./m3u8_To_MP4.mp4;\n",
      "\n",
      "segment set: |##################################################| 100.0% downloaded segments successfully!\n"
     ]
    },
    {
     "name": "stderr",
     "output_type": "stream",
     "text": [
      "2023-06-18 18:14:16,675 | INFO | decrypt and dump segments...\n",
      "2023-06-18 18:14:16,715 | INFO | merging segments...\n",
      "2023-06-18 18:14:17,549 | INFO | download successfully！ take 1.89s,  average download speed is 25879.55KB/s\n",
      "2023-06-18 18:14:18,990 | INFO | Resolved available hosts:\n",
      "2023-06-18 18:14:18,990 | INFO | 151.101.110.225:443\n"
     ]
    },
    {
     "name": "stdout",
     "output_type": "stream",
     "text": [
      "https://p-movie.learning-ware.jp/hls-vod/p-movie/530/500a002a4adf6f63d9559e0500f4da8f0471f52e/106061.mp4.m3u8\n",
      "\n",
      "summary\n",
      "m3u8_uri: https://p-movie.learning-ware.jp/hls-vod/p-movie/530/500a002a4adf6f63d9559e0500f4da8f0471f52e/106061.mp4.m3u8;\n",
      "max_retry_times: 3;\n",
      "tmp_dir: C:\\Users\\jerem\\AppData\\Local\\Temp\\m3u8_4025556114;\n",
      "mp4_file_path: ./m3u8_To_MP4.mp4;\n",
      "\n",
      "segment set: |##################################################| 100.0% downloaded segments successfully!\n"
     ]
    },
    {
     "name": "stderr",
     "output_type": "stream",
     "text": [
      "2023-06-18 18:14:19,685 | INFO | decrypt and dump segments...\n",
      "2023-06-18 18:14:19,699 | INFO | merging segments...\n",
      "2023-06-18 18:14:20,282 | INFO | download successfully！ take 1.29s,  average download speed is 26162.13KB/s\n",
      "2023-06-18 18:14:21,766 | INFO | Resolved available hosts:\n",
      "2023-06-18 18:14:21,766 | INFO | 151.101.110.225:443\n"
     ]
    },
    {
     "name": "stdout",
     "output_type": "stream",
     "text": [
      "https://p-movie.learning-ware.jp/hls-vod/p-movie/530/5ecd5d717652674fd6ca6527855ef05bcb9cd5e8/106062.mp4.m3u8\n",
      "\n",
      "summary\n",
      "m3u8_uri: https://p-movie.learning-ware.jp/hls-vod/p-movie/530/5ecd5d717652674fd6ca6527855ef05bcb9cd5e8/106062.mp4.m3u8;\n",
      "max_retry_times: 3;\n",
      "tmp_dir: C:\\Users\\jerem\\AppData\\Local\\Temp\\m3u8_3097820374;\n",
      "mp4_file_path: ./m3u8_To_MP4.mp4;\n",
      "\n",
      "segment set: |##################################################| 100.0% downloaded segments successfully!\n"
     ]
    },
    {
     "name": "stderr",
     "output_type": "stream",
     "text": [
      "2023-06-18 18:14:22,606 | INFO | decrypt and dump segments...\n",
      "2023-06-18 18:14:22,625 | INFO | merging segments...\n",
      "2023-06-18 18:14:23,350 | INFO | download successfully！ take 1.58s,  average download speed is 27646.11KB/s\n",
      "2023-06-18 18:14:24,954 | INFO | Resolved available hosts:\n",
      "2023-06-18 18:14:24,955 | INFO | 151.101.110.225:443\n"
     ]
    },
    {
     "name": "stdout",
     "output_type": "stream",
     "text": [
      "https://p-movie.learning-ware.jp/hls-vod/p-movie/530/4fefbb204f3f74e183460e111885765593da6f78/106063.mp4.m3u8\n",
      "\n",
      "summary\n",
      "m3u8_uri: https://p-movie.learning-ware.jp/hls-vod/p-movie/530/4fefbb204f3f74e183460e111885765593da6f78/106063.mp4.m3u8;\n",
      "max_retry_times: 3;\n",
      "tmp_dir: C:\\Users\\jerem\\AppData\\Local\\Temp\\m3u8_2037729084;\n",
      "mp4_file_path: ./m3u8_To_MP4.mp4;\n",
      "\n",
      "segment set: |##################################################| 100.0% downloaded segments successfully!\n"
     ]
    },
    {
     "name": "stderr",
     "output_type": "stream",
     "text": [
      "2023-06-18 18:14:25,821 | INFO | decrypt and dump segments...\n",
      "2023-06-18 18:14:25,842 | INFO | merging segments...\n",
      "2023-06-18 18:14:26,616 | INFO | download successfully！ take 1.69s,  average download speed is 28502.39KB/s\n",
      "2023-06-18 18:14:28,192 | INFO | Resolved available hosts:\n",
      "2023-06-18 18:14:28,192 | INFO | 151.101.110.225:443\n"
     ]
    },
    {
     "name": "stdout",
     "output_type": "stream",
     "text": [
      "https://p-movie.learning-ware.jp/hls-vod/p-movie/530/bdde75953eab576d822909265757946d7461bc71/106064.mp4.m3u8\n",
      "\n",
      "summary\n",
      "m3u8_uri: https://p-movie.learning-ware.jp/hls-vod/p-movie/530/bdde75953eab576d822909265757946d7461bc71/106064.mp4.m3u8;\n",
      "max_retry_times: 3;\n",
      "tmp_dir: C:\\Users\\jerem\\AppData\\Local\\Temp\\m3u8_2155771099;\n",
      "mp4_file_path: ./m3u8_To_MP4.mp4;\n",
      "\n",
      "segment set: |##################################################| 100.0% downloaded segments successfully!\n"
     ]
    },
    {
     "name": "stderr",
     "output_type": "stream",
     "text": [
      "2023-06-18 18:14:29,066 | INFO | decrypt and dump segments...\n",
      "2023-06-18 18:14:29,094 | INFO | merging segments...\n",
      "2023-06-18 18:14:30,030 | INFO | download successfully！ take 1.84s,  average download speed is 34810.50KB/s\n",
      "2023-06-18 18:14:31,457 | INFO | Resolved available hosts:\n",
      "2023-06-18 18:14:31,458 | INFO | 151.101.110.225:443\n"
     ]
    },
    {
     "name": "stdout",
     "output_type": "stream",
     "text": [
      "https://p-movie.learning-ware.jp/hls-vod/p-movie/530/d4f109786e96d56b2b711f8fc645ee23e173d1fe/106067.mp4.m3u8\n",
      "\n",
      "summary\n",
      "m3u8_uri: https://p-movie.learning-ware.jp/hls-vod/p-movie/530/d4f109786e96d56b2b711f8fc645ee23e173d1fe/106067.mp4.m3u8;\n",
      "max_retry_times: 3;\n",
      "tmp_dir: C:\\Users\\jerem\\AppData\\Local\\Temp\\m3u8_1608926289;\n",
      "mp4_file_path: ./m3u8_To_MP4.mp4;\n",
      "\n",
      "segment set: |##################################################| 100.0% downloaded segments successfully!\n"
     ]
    },
    {
     "name": "stderr",
     "output_type": "stream",
     "text": [
      "2023-06-18 18:14:32,311 | INFO | decrypt and dump segments...\n",
      "2023-06-18 18:14:32,329 | INFO | merging segments...\n",
      "2023-06-18 18:14:33,080 | INFO | download successfully！ take 1.62s,  average download speed is 26522.61KB/s\n",
      "2023-06-18 18:14:34,893 | INFO | Resolved available hosts:\n",
      "2023-06-18 18:14:34,894 | INFO | 151.101.110.225:443\n"
     ]
    },
    {
     "name": "stdout",
     "output_type": "stream",
     "text": [
      "https://p-movie.learning-ware.jp/hls-vod/p-movie/530/e3f3afce8c597ccb9faf6944976ca6171ddf322f/106070.mp4.m3u8\n",
      "\n",
      "summary\n",
      "m3u8_uri: https://p-movie.learning-ware.jp/hls-vod/p-movie/530/e3f3afce8c597ccb9faf6944976ca6171ddf322f/106070.mp4.m3u8;\n",
      "max_retry_times: 3;\n",
      "tmp_dir: C:\\Users\\jerem\\AppData\\Local\\Temp\\m3u8_4198830605;\n",
      "mp4_file_path: ./m3u8_To_MP4.mp4;\n",
      "\n",
      "segment set: |##################################################| 100.0% downloaded segments successfully!\n"
     ]
    },
    {
     "name": "stderr",
     "output_type": "stream",
     "text": [
      "2023-06-18 18:14:35,568 | INFO | decrypt and dump segments...\n",
      "2023-06-18 18:14:35,581 | INFO | merging segments...\n",
      "2023-06-18 18:14:36,049 | INFO | download successfully！ take 1.16s,  average download speed is 20633.84KB/s\n",
      "2023-06-18 18:14:37,496 | INFO | Resolved available hosts:\n",
      "2023-06-18 18:14:37,496 | INFO | 151.101.110.225:443\n"
     ]
    },
    {
     "name": "stdout",
     "output_type": "stream",
     "text": [
      "https://p-movie.learning-ware.jp/hls-vod/p-movie/530/3cebb22be9502da73ebf5bcd8829e0d8b2754dc8/106071.mp4.m3u8\n",
      "\n",
      "summary\n",
      "m3u8_uri: https://p-movie.learning-ware.jp/hls-vod/p-movie/530/3cebb22be9502da73ebf5bcd8829e0d8b2754dc8/106071.mp4.m3u8;\n",
      "max_retry_times: 3;\n",
      "tmp_dir: C:\\Users\\jerem\\AppData\\Local\\Temp\\m3u8_2011308282;\n",
      "mp4_file_path: ./m3u8_To_MP4.mp4;\n",
      "\n",
      "segment set: |##################################################| 100.0% downloaded segments successfully!\n"
     ]
    },
    {
     "name": "stderr",
     "output_type": "stream",
     "text": [
      "2023-06-18 18:14:38,144 | INFO | decrypt and dump segments...\n",
      "2023-06-18 18:14:38,154 | INFO | merging segments...\n",
      "2023-06-18 18:14:38,552 | INFO | download successfully！ take 1.06s,  average download speed is 17911.95KB/s\n",
      "2023-06-18 18:14:40,150 | INFO | Resolved available hosts:\n",
      "2023-06-18 18:14:40,151 | INFO | 151.101.110.225:443\n"
     ]
    },
    {
     "name": "stdout",
     "output_type": "stream",
     "text": [
      "https://p-movie.learning-ware.jp/hls-vod/p-movie/530/103c6abce1889b8e811bf648b7927bef4a2fd552/106072.mp4.m3u8\n",
      "\n",
      "summary\n",
      "m3u8_uri: https://p-movie.learning-ware.jp/hls-vod/p-movie/530/103c6abce1889b8e811bf648b7927bef4a2fd552/106072.mp4.m3u8;\n",
      "max_retry_times: 3;\n",
      "tmp_dir: C:\\Users\\jerem\\AppData\\Local\\Temp\\m3u8_2049224668;\n",
      "mp4_file_path: ./m3u8_To_MP4.mp4;\n",
      "\n",
      "segment set: |##################################################| 100.0% downloaded segments successfully!\n"
     ]
    },
    {
     "name": "stderr",
     "output_type": "stream",
     "text": [
      "2023-06-18 18:14:40,601 | INFO | decrypt and dump segments...\n",
      "2023-06-18 18:14:40,611 | INFO | merging segments...\n",
      "2023-06-18 18:14:40,949 | INFO | download successfully！ take 0.80s,  average download speed is 19453.71KB/s\n",
      "2023-06-18 18:14:42,406 | INFO | Resolved available hosts:\n",
      "2023-06-18 18:14:42,407 | INFO | 151.101.110.225:443\n"
     ]
    },
    {
     "name": "stdout",
     "output_type": "stream",
     "text": [
      "https://p-movie.learning-ware.jp/hls-vod/p-movie/530/04a23896a7e8afbc4c412d09934b20dca2c14bfd/106073.mp4.m3u8\n",
      "\n",
      "summary\n",
      "m3u8_uri: https://p-movie.learning-ware.jp/hls-vod/p-movie/530/04a23896a7e8afbc4c412d09934b20dca2c14bfd/106073.mp4.m3u8;\n",
      "max_retry_times: 3;\n",
      "tmp_dir: C:\\Users\\jerem\\AppData\\Local\\Temp\\m3u8_3346201122;\n",
      "mp4_file_path: ./m3u8_To_MP4.mp4;\n",
      "\n",
      "segment set: |##################################################| 100.0% downloaded segments successfully!\n"
     ]
    },
    {
     "name": "stderr",
     "output_type": "stream",
     "text": [
      "2023-06-18 18:14:43,230 | INFO | decrypt and dump segments...\n",
      "2023-06-18 18:14:43,241 | INFO | merging segments...\n",
      "2023-06-18 18:14:43,597 | INFO | download successfully！ take 1.19s,  average download speed is 11105.06KB/s\n",
      "2023-06-18 18:14:44,845 | INFO | Resolved available hosts:\n",
      "2023-06-18 18:14:44,846 | INFO | 151.101.110.225:443\n"
     ]
    },
    {
     "name": "stdout",
     "output_type": "stream",
     "text": [
      "https://p-movie.learning-ware.jp/hls-vod/p-movie/530/926521916426b4bc02f12a26491493f9d2773e1a/91199.mp4.m3u8\n",
      "\n",
      "summary\n",
      "m3u8_uri: https://p-movie.learning-ware.jp/hls-vod/p-movie/530/926521916426b4bc02f12a26491493f9d2773e1a/91199.mp4.m3u8;\n",
      "max_retry_times: 3;\n",
      "tmp_dir: C:\\Users\\jerem\\AppData\\Local\\Temp\\m3u8_2832901362;\n",
      "mp4_file_path: ./m3u8_To_MP4.mp4;\n",
      "\n",
      "segment set: |##################################################| 100.0% downloaded segments successfully!\n"
     ]
    },
    {
     "name": "stderr",
     "output_type": "stream",
     "text": [
      "2023-06-18 18:14:46,818 | INFO | decrypt and dump segments...\n",
      "2023-06-18 18:14:46,896 | INFO | merging segments...\n",
      "2023-06-18 18:14:48,947 | INFO | download successfully！ take 4.10s,  average download speed is 41084.07KB/s\n",
      "2023-06-18 18:14:50,346 | INFO | Resolved available hosts:\n",
      "2023-06-18 18:14:50,346 | INFO | 151.101.110.225:443\n"
     ]
    },
    {
     "name": "stdout",
     "output_type": "stream",
     "text": [
      "https://p-movie.learning-ware.jp/hls-vod/p-movie/530/1dff61470e45f60ada8d8c395d2c7509fd877f4a/91203.mp4.m3u8\n",
      "\n",
      "summary\n",
      "m3u8_uri: https://p-movie.learning-ware.jp/hls-vod/p-movie/530/1dff61470e45f60ada8d8c395d2c7509fd877f4a/91203.mp4.m3u8;\n",
      "max_retry_times: 3;\n",
      "tmp_dir: C:\\Users\\jerem\\AppData\\Local\\Temp\\m3u8_4266812598;\n",
      "mp4_file_path: ./m3u8_To_MP4.mp4;\n",
      "\n",
      "segment set: |##################################################| 100.0% downloaded segments successfully!\n"
     ]
    },
    {
     "name": "stderr",
     "output_type": "stream",
     "text": [
      "2023-06-18 18:14:52,593 | INFO | decrypt and dump segments...\n",
      "2023-06-18 18:14:52,690 | INFO | merging segments...\n",
      "2023-06-18 18:14:55,202 | INFO | download successfully！ take 4.86s,  average download speed is 44379.86KB/s\n",
      "2023-06-18 18:14:56,887 | INFO | Resolved available hosts:\n",
      "2023-06-18 18:14:56,888 | INFO | 151.101.110.225:443\n"
     ]
    },
    {
     "name": "stdout",
     "output_type": "stream",
     "text": [
      "https://p-movie.learning-ware.jp/hls-vod/p-movie/530/5befad9b5be1059a569b4ba83992a8dadbb20fb7/91205.mp4.m3u8\n",
      "\n",
      "summary\n",
      "m3u8_uri: https://p-movie.learning-ware.jp/hls-vod/p-movie/530/5befad9b5be1059a569b4ba83992a8dadbb20fb7/91205.mp4.m3u8;\n",
      "max_retry_times: 3;\n",
      "tmp_dir: C:\\Users\\jerem\\AppData\\Local\\Temp\\m3u8_2826943185;\n",
      "mp4_file_path: ./m3u8_To_MP4.mp4;\n",
      "\n",
      "segment set: |##################################################| 100.0% downloaded segments successfully!\n"
     ]
    },
    {
     "name": "stderr",
     "output_type": "stream",
     "text": [
      "2023-06-18 18:14:59,581 | INFO | decrypt and dump segments...\n",
      "2023-06-18 18:14:59,663 | INFO | merging segments...\n",
      "2023-06-18 18:15:02,583 | INFO | download successfully！ take 5.71s,  average download speed is 45189.46KB/s\n",
      "2023-06-18 18:15:04,329 | INFO | Resolved available hosts:\n",
      "2023-06-18 18:15:04,330 | INFO | 151.101.110.225:443\n"
     ]
    },
    {
     "name": "stdout",
     "output_type": "stream",
     "text": [
      "https://p-movie.learning-ware.jp/hls-vod/p-movie/530/d3c6d6be1abcc2eb8a660ecf0a111b470d14e3b5/91201.mp4.m3u8\n",
      "\n",
      "summary\n",
      "m3u8_uri: https://p-movie.learning-ware.jp/hls-vod/p-movie/530/d3c6d6be1abcc2eb8a660ecf0a111b470d14e3b5/91201.mp4.m3u8;\n",
      "max_retry_times: 3;\n",
      "tmp_dir: C:\\Users\\jerem\\AppData\\Local\\Temp\\m3u8_2415437736;\n",
      "mp4_file_path: ./m3u8_To_MP4.mp4;\n",
      "\n",
      "segment set: |##################################################| 100.0% downloaded segments successfully!\n"
     ]
    },
    {
     "name": "stderr",
     "output_type": "stream",
     "text": [
      "2023-06-18 18:15:06,791 | INFO | decrypt and dump segments...\n",
      "2023-06-18 18:15:06,873 | INFO | merging segments...\n",
      "2023-06-18 18:15:09,908 | INFO | download successfully！ take 5.58s,  average download speed is 50548.11KB/s\n",
      "2023-06-18 18:15:11,646 | INFO | Resolved available hosts:\n",
      "2023-06-18 18:15:11,646 | INFO | 151.101.110.225:443\n"
     ]
    },
    {
     "name": "stdout",
     "output_type": "stream",
     "text": [
      "https://p-movie.learning-ware.jp/hls-vod/p-movie/530/7123528567e5a743df269f788dd1601e59f7eb6a/91220.mp4.m3u8\n",
      "\n",
      "summary\n",
      "m3u8_uri: https://p-movie.learning-ware.jp/hls-vod/p-movie/530/7123528567e5a743df269f788dd1601e59f7eb6a/91220.mp4.m3u8;\n",
      "max_retry_times: 3;\n",
      "tmp_dir: C:\\Users\\jerem\\AppData\\Local\\Temp\\m3u8_1706442698;\n",
      "mp4_file_path: ./m3u8_To_MP4.mp4;\n",
      "\n",
      "segment set: |##################################################| 100.0% downloaded segments successfully!\n"
     ]
    },
    {
     "name": "stderr",
     "output_type": "stream",
     "text": [
      "2023-06-18 18:15:14,130 | INFO | decrypt and dump segments...\n",
      "2023-06-18 18:15:14,208 | INFO | merging segments...\n",
      "2023-06-18 18:15:16,836 | INFO | download successfully！ take 5.19s,  average download speed is 42824.87KB/s\n",
      "2023-06-18 18:15:18,413 | INFO | Resolved available hosts:\n",
      "2023-06-18 18:15:18,413 | INFO | 151.101.110.225:443\n"
     ]
    },
    {
     "name": "stdout",
     "output_type": "stream",
     "text": [
      "https://p-movie.learning-ware.jp/hls-vod/p-movie/530/779c5beac7c85d7b89bcb2bed0f237af1869f77b/91216.mp4.m3u8\n",
      "\n",
      "summary\n",
      "m3u8_uri: https://p-movie.learning-ware.jp/hls-vod/p-movie/530/779c5beac7c85d7b89bcb2bed0f237af1869f77b/91216.mp4.m3u8;\n",
      "max_retry_times: 3;\n",
      "tmp_dir: C:\\Users\\jerem\\AppData\\Local\\Temp\\m3u8_2050723472;\n",
      "mp4_file_path: ./m3u8_To_MP4.mp4;\n",
      "\n",
      "segment set: |##################################################| 100.0% downloaded segments successfully!\n"
     ]
    },
    {
     "name": "stderr",
     "output_type": "stream",
     "text": [
      "2023-06-18 18:15:19,735 | INFO | decrypt and dump segments...\n",
      "2023-06-18 18:15:19,765 | INFO | merging segments...\n",
      "2023-06-18 18:15:20,888 | INFO | download successfully！ take 2.48s,  average download speed is 34200.91KB/s\n",
      "2023-06-18 18:15:22,451 | INFO | Resolved available hosts:\n",
      "2023-06-18 18:15:22,451 | INFO | 151.101.110.225:443\n"
     ]
    },
    {
     "name": "stdout",
     "output_type": "stream",
     "text": [
      "https://p-movie.learning-ware.jp/hls-vod/p-movie/530/2a67273c1b4ae1fde9e1c096db4bd74aaf8dbd53/91215.mp4.m3u8\n",
      "\n",
      "summary\n",
      "m3u8_uri: https://p-movie.learning-ware.jp/hls-vod/p-movie/530/2a67273c1b4ae1fde9e1c096db4bd74aaf8dbd53/91215.mp4.m3u8;\n",
      "max_retry_times: 3;\n",
      "tmp_dir: C:\\Users\\jerem\\AppData\\Local\\Temp\\m3u8_2385998887;\n",
      "mp4_file_path: ./m3u8_To_MP4.mp4;\n",
      "\n",
      "segment set: |##################################################| 100.0% downloaded segments successfully!\n"
     ]
    },
    {
     "name": "stderr",
     "output_type": "stream",
     "text": [
      "2023-06-18 18:15:24,411 | INFO | decrypt and dump segments...\n",
      "2023-06-18 18:15:24,465 | INFO | merging segments...\n",
      "2023-06-18 18:15:26,456 | INFO | download successfully！ take 4.01s,  average download speed is 43928.14KB/s\n",
      "2023-06-18 18:15:27,891 | INFO | Resolved available hosts:\n",
      "2023-06-18 18:15:27,892 | INFO | 151.101.110.225:443\n"
     ]
    },
    {
     "name": "stdout",
     "output_type": "stream",
     "text": [
      "https://p-movie.learning-ware.jp/hls-vod/p-movie/530/b50d83be17f80d88f56ea830679cc32eff98dfef/91218.mp4.m3u8\n",
      "\n",
      "summary\n",
      "m3u8_uri: https://p-movie.learning-ware.jp/hls-vod/p-movie/530/b50d83be17f80d88f56ea830679cc32eff98dfef/91218.mp4.m3u8;\n",
      "max_retry_times: 3;\n",
      "tmp_dir: C:\\Users\\jerem\\AppData\\Local\\Temp\\m3u8_2888831060;\n",
      "mp4_file_path: ./m3u8_To_MP4.mp4;\n",
      "\n",
      "segment set: |##################################################| 100.0% downloaded segments successfully!\n"
     ]
    },
    {
     "name": "stderr",
     "output_type": "stream",
     "text": [
      "2023-06-18 18:15:29,617 | INFO | decrypt and dump segments...\n",
      "2023-06-18 18:15:29,645 | INFO | merging segments...\n",
      "2023-06-18 18:15:30,442 | INFO | download successfully！ take 2.57s,  average download speed is 17973.64KB/s\n"
     ]
    },
    {
     "name": "stdout",
     "output_type": "stream",
     "text": [
      "nothing found\n"
     ]
    },
    {
     "name": "stderr",
     "output_type": "stream",
     "text": [
      "2023-06-18 18:15:33,910 | INFO | Resolved available hosts:\n",
      "2023-06-18 18:15:33,911 | INFO | 151.101.110.225:443\n"
     ]
    },
    {
     "name": "stdout",
     "output_type": "stream",
     "text": [
      "https://p-movie.learning-ware.jp/hls-vod/p-movie/530/7abaa811e520b86f9feaac439fc965db507812be/91235.mp4.m3u8\n",
      "\n",
      "summary\n",
      "m3u8_uri: https://p-movie.learning-ware.jp/hls-vod/p-movie/530/7abaa811e520b86f9feaac439fc965db507812be/91235.mp4.m3u8;\n",
      "max_retry_times: 3;\n",
      "tmp_dir: C:\\Users\\jerem\\AppData\\Local\\Temp\\m3u8_2805455389;\n",
      "mp4_file_path: ./m3u8_To_MP4.mp4;\n",
      "\n",
      "segment set: |##################################################| 100.0% downloaded segments successfully!\n"
     ]
    },
    {
     "name": "stderr",
     "output_type": "stream",
     "text": [
      "2023-06-18 18:15:35,814 | INFO | decrypt and dump segments...\n",
      "2023-06-18 18:15:35,868 | INFO | merging segments...\n",
      "2023-06-18 18:15:38,062 | INFO | download successfully！ take 4.17s,  average download speed is 48098.93KB/s\n",
      "2023-06-18 18:15:39,733 | INFO | Resolved available hosts:\n",
      "2023-06-18 18:15:39,734 | INFO | 151.101.110.225:443\n"
     ]
    },
    {
     "name": "stdout",
     "output_type": "stream",
     "text": [
      "https://p-movie.learning-ware.jp/hls-vod/p-movie/530/1de3d34e21159f2136a1d213087ed6a28f9c3eca/91237.mp4.m3u8\n",
      "\n",
      "summary\n",
      "m3u8_uri: https://p-movie.learning-ware.jp/hls-vod/p-movie/530/1de3d34e21159f2136a1d213087ed6a28f9c3eca/91237.mp4.m3u8;\n",
      "max_retry_times: 3;\n",
      "tmp_dir: C:\\Users\\jerem\\AppData\\Local\\Temp\\m3u8_1386857717;\n",
      "mp4_file_path: ./m3u8_To_MP4.mp4;\n",
      "\n",
      "segment set: |##################################################| 100.0% downloaded segments successfully!\n"
     ]
    },
    {
     "name": "stderr",
     "output_type": "stream",
     "text": [
      "2023-06-18 18:15:42,192 | INFO | decrypt and dump segments...\n",
      "2023-06-18 18:15:42,272 | INFO | merging segments...\n",
      "2023-06-18 18:15:45,185 | INFO | download successfully！ take 5.45s,  average download speed is 50808.37KB/s\n",
      "2023-06-18 18:15:46,830 | INFO | Resolved available hosts:\n",
      "2023-06-18 18:15:46,830 | INFO | 151.101.110.225:443\n"
     ]
    },
    {
     "name": "stdout",
     "output_type": "stream",
     "text": [
      "https://p-movie.learning-ware.jp/hls-vod/p-movie/530/b1a828819378574eaa0bb615ce42ca29d009df76/91232.mp4.m3u8\n",
      "\n",
      "summary\n",
      "m3u8_uri: https://p-movie.learning-ware.jp/hls-vod/p-movie/530/b1a828819378574eaa0bb615ce42ca29d009df76/91232.mp4.m3u8;\n",
      "max_retry_times: 3;\n",
      "tmp_dir: C:\\Users\\jerem\\AppData\\Local\\Temp\\m3u8_2511264793;\n",
      "mp4_file_path: ./m3u8_To_MP4.mp4;\n",
      "\n",
      "segment set: |##################################################| 100.0% downloaded segments successfully!\n"
     ]
    },
    {
     "name": "stderr",
     "output_type": "stream",
     "text": [
      "2023-06-18 18:15:49,259 | INFO | decrypt and dump segments...\n",
      "2023-06-18 18:15:49,358 | INFO | merging segments...\n",
      "2023-06-18 18:15:52,135 | INFO | download successfully！ take 5.31s,  average download speed is 47155.81KB/s\n",
      "2023-06-18 18:15:53,750 | INFO | Resolved available hosts:\n",
      "2023-06-18 18:15:53,751 | INFO | 151.101.110.225:443\n"
     ]
    },
    {
     "name": "stdout",
     "output_type": "stream",
     "text": [
      "https://p-movie.learning-ware.jp/hls-vod/p-movie/530/990e4a355fcd8ebede7bd67709c38b7ef7810511/91227.mp4.m3u8\n",
      "\n",
      "summary\n",
      "m3u8_uri: https://p-movie.learning-ware.jp/hls-vod/p-movie/530/990e4a355fcd8ebede7bd67709c38b7ef7810511/91227.mp4.m3u8;\n",
      "max_retry_times: 3;\n",
      "tmp_dir: C:\\Users\\jerem\\AppData\\Local\\Temp\\m3u8_129917797;\n",
      "mp4_file_path: ./m3u8_To_MP4.mp4;\n",
      "\n",
      "segment set: |##################################################| 100.0% downloaded segments successfully!\n"
     ]
    },
    {
     "name": "stderr",
     "output_type": "stream",
     "text": [
      "2023-06-18 18:15:56,234 | INFO | decrypt and dump segments...\n",
      "2023-06-18 18:15:56,330 | INFO | merging segments...\n",
      "2023-06-18 18:15:59,720 | INFO | download successfully！ take 5.97s,  average download speed is 55806.40KB/s\n",
      "2023-06-18 18:16:01,251 | INFO | Resolved available hosts:\n",
      "2023-06-18 18:16:01,252 | INFO | 151.101.110.225:443\n"
     ]
    },
    {
     "name": "stdout",
     "output_type": "stream",
     "text": [
      "https://p-movie.learning-ware.jp/hls-vod/p-movie/530/be888c34766e984d83f205c04a8a5128d7129f31/91225.mp4.m3u8\n",
      "\n",
      "summary\n",
      "m3u8_uri: https://p-movie.learning-ware.jp/hls-vod/p-movie/530/be888c34766e984d83f205c04a8a5128d7129f31/91225.mp4.m3u8;\n",
      "max_retry_times: 3;\n",
      "tmp_dir: C:\\Users\\jerem\\AppData\\Local\\Temp\\m3u8_3260439551;\n",
      "mp4_file_path: ./m3u8_To_MP4.mp4;\n",
      "\n",
      "segment set: |##################################################| 100.0% downloaded segments successfully!\n"
     ]
    },
    {
     "name": "stderr",
     "output_type": "stream",
     "text": [
      "2023-06-18 18:16:04,265 | INFO | decrypt and dump segments...\n",
      "2023-06-18 18:16:04,382 | INFO | merging segments...\n",
      "2023-06-18 18:16:08,052 | INFO | download successfully！ take 6.81s,  average download speed is 48934.94KB/s\n",
      "2023-06-18 18:16:09,588 | INFO | Resolved available hosts:\n",
      "2023-06-18 18:16:09,589 | INFO | 151.101.110.225:443\n"
     ]
    },
    {
     "name": "stdout",
     "output_type": "stream",
     "text": [
      "https://p-movie.learning-ware.jp/hls-vod/p-movie/530/2a5c56a269cf202295d1ac4c0f1465cd19068070/91226.mp4.m3u8\n",
      "\n",
      "summary\n",
      "m3u8_uri: https://p-movie.learning-ware.jp/hls-vod/p-movie/530/2a5c56a269cf202295d1ac4c0f1465cd19068070/91226.mp4.m3u8;\n",
      "max_retry_times: 3;\n",
      "tmp_dir: C:\\Users\\jerem\\AppData\\Local\\Temp\\m3u8_772773907;\n",
      "mp4_file_path: ./m3u8_To_MP4.mp4;\n",
      "\n",
      "segment set: |##################################################| 100.0% downloaded segments successfully!\n"
     ]
    },
    {
     "name": "stderr",
     "output_type": "stream",
     "text": [
      "2023-06-18 18:16:11,437 | INFO | decrypt and dump segments...\n",
      "2023-06-18 18:16:11,487 | INFO | merging segments...\n",
      "2023-06-18 18:16:13,326 | INFO | download successfully！ take 3.74s,  average download speed is 41166.06KB/s\n",
      "2023-06-18 18:16:14,694 | INFO | Resolved available hosts:\n",
      "2023-06-18 18:16:14,694 | INFO | 151.101.110.225:443\n"
     ]
    },
    {
     "name": "stdout",
     "output_type": "stream",
     "text": [
      "https://p-movie.learning-ware.jp/hls-vod/p-movie/530/1677b4b3dbac86ad71abaf5d09e94a427bde73ff/91222.mp4.m3u8\n",
      "\n",
      "summary\n",
      "m3u8_uri: https://p-movie.learning-ware.jp/hls-vod/p-movie/530/1677b4b3dbac86ad71abaf5d09e94a427bde73ff/91222.mp4.m3u8;\n",
      "max_retry_times: 3;\n",
      "tmp_dir: C:\\Users\\jerem\\AppData\\Local\\Temp\\m3u8_3669380485;\n",
      "mp4_file_path: ./m3u8_To_MP4.mp4;\n",
      "\n",
      "segment set: |##################################################| 100.0% downloaded segments successfully!\n"
     ]
    },
    {
     "name": "stderr",
     "output_type": "stream",
     "text": [
      "2023-06-18 18:16:16,479 | INFO | decrypt and dump segments...\n",
      "2023-06-18 18:16:16,533 | INFO | merging segments...\n",
      "2023-06-18 18:16:18,287 | INFO | download successfully！ take 3.60s,  average download speed is 40930.35KB/s\n",
      "2023-06-18 18:16:19,751 | INFO | Resolved available hosts:\n",
      "2023-06-18 18:16:19,752 | INFO | 151.101.110.225:443\n"
     ]
    },
    {
     "name": "stdout",
     "output_type": "stream",
     "text": [
      "https://p-movie.learning-ware.jp/hls-vod/p-movie/530/0ba4bcabba60873699a278c778ea8f2e01a27374/91238.mp4.m3u8\n",
      "\n",
      "summary\n",
      "m3u8_uri: https://p-movie.learning-ware.jp/hls-vod/p-movie/530/0ba4bcabba60873699a278c778ea8f2e01a27374/91238.mp4.m3u8;\n",
      "max_retry_times: 3;\n",
      "tmp_dir: C:\\Users\\jerem\\AppData\\Local\\Temp\\m3u8_3036597134;\n",
      "mp4_file_path: ./m3u8_To_MP4.mp4;\n",
      "\n",
      "segment set: |##################################################| 100.0% downloaded segments successfully!\n"
     ]
    },
    {
     "name": "stderr",
     "output_type": "stream",
     "text": [
      "2023-06-18 18:16:21,613 | INFO | decrypt and dump segments...\n",
      "2023-06-18 18:16:21,672 | INFO | merging segments...\n",
      "2023-06-18 18:16:23,582 | INFO | download successfully！ take 3.83s,  average download speed is 42769.64KB/s\n",
      "2023-06-18 18:16:24,952 | INFO | Resolved available hosts:\n",
      "2023-06-18 18:16:24,952 | INFO | 151.101.110.225:443\n"
     ]
    },
    {
     "name": "stdout",
     "output_type": "stream",
     "text": [
      "https://p-movie.learning-ware.jp/hls-vod/p-movie/530/7209a023db4544cce699884ec59af197baa1c8f5/91242.mp4.m3u8\n",
      "\n",
      "summary\n",
      "m3u8_uri: https://p-movie.learning-ware.jp/hls-vod/p-movie/530/7209a023db4544cce699884ec59af197baa1c8f5/91242.mp4.m3u8;\n",
      "max_retry_times: 3;\n",
      "tmp_dir: C:\\Users\\jerem\\AppData\\Local\\Temp\\m3u8_2586354373;\n",
      "mp4_file_path: ./m3u8_To_MP4.mp4;\n",
      "\n",
      "segment set: |##################################################| 100.0% downloaded segments successfully!\n"
     ]
    },
    {
     "name": "stderr",
     "output_type": "stream",
     "text": [
      "2023-06-18 18:16:26,927 | INFO | decrypt and dump segments...\n",
      "2023-06-18 18:16:26,987 | INFO | merging segments...\n",
      "2023-06-18 18:16:28,992 | INFO | download successfully！ take 4.04s,  average download speed is 42193.55KB/s\n",
      "2023-06-18 18:16:30,504 | INFO | Resolved available hosts:\n",
      "2023-06-18 18:16:30,505 | INFO | 151.101.110.225:443\n"
     ]
    },
    {
     "name": "stdout",
     "output_type": "stream",
     "text": [
      "https://p-movie.learning-ware.jp/hls-vod/p-movie/530/042d7854e4d7f90f8570dc228296207cebbab323/91240.mp4.m3u8\n",
      "\n",
      "summary\n",
      "m3u8_uri: https://p-movie.learning-ware.jp/hls-vod/p-movie/530/042d7854e4d7f90f8570dc228296207cebbab323/91240.mp4.m3u8;\n",
      "max_retry_times: 3;\n",
      "tmp_dir: C:\\Users\\jerem\\AppData\\Local\\Temp\\m3u8_3119530403;\n",
      "mp4_file_path: ./m3u8_To_MP4.mp4;\n",
      "\n",
      "segment set: |##################################################| 100.0% downloaded segments successfully!\n"
     ]
    },
    {
     "name": "stderr",
     "output_type": "stream",
     "text": [
      "2023-06-18 18:16:32,284 | INFO | decrypt and dump segments...\n",
      "2023-06-18 18:16:32,332 | INFO | merging segments...\n",
      "2023-06-18 18:16:34,169 | INFO | download successfully！ take 3.68s,  average download speed is 40141.31KB/s\n",
      "2023-06-18 18:16:35,684 | INFO | Resolved available hosts:\n",
      "2023-06-18 18:16:35,685 | INFO | 151.101.110.225:443\n"
     ]
    },
    {
     "name": "stdout",
     "output_type": "stream",
     "text": [
      "https://p-movie.learning-ware.jp/hls-vod/p-movie/530/75c38df869c84cd30e5c81c484001fb39e13bb0a/91241.mp4.m3u8\n",
      "\n",
      "summary\n",
      "m3u8_uri: https://p-movie.learning-ware.jp/hls-vod/p-movie/530/75c38df869c84cd30e5c81c484001fb39e13bb0a/91241.mp4.m3u8;\n",
      "max_retry_times: 3;\n",
      "tmp_dir: C:\\Users\\jerem\\AppData\\Local\\Temp\\m3u8_765956483;\n",
      "mp4_file_path: ./m3u8_To_MP4.mp4;\n",
      "\n",
      "segment set: |##################################################| 100.0% downloaded segments successfully!\n"
     ]
    },
    {
     "name": "stderr",
     "output_type": "stream",
     "text": [
      "2023-06-18 18:16:36,363 | INFO | decrypt and dump segments...\n",
      "2023-06-18 18:16:36,377 | INFO | merging segments...\n",
      "2023-06-18 18:16:37,114 | INFO | download successfully！ take 1.43s,  average download speed is 20871.22KB/s\n"
     ]
    },
    {
     "name": "stdout",
     "output_type": "stream",
     "text": [
      "nothing found\n",
      "nothing found\n",
      "nothing found\n"
     ]
    },
    {
     "name": "stderr",
     "output_type": "stream",
     "text": [
      "2023-06-18 18:16:44,302 | INFO | Resolved available hosts:\n",
      "2023-06-18 18:16:44,303 | INFO | 151.101.110.225:443\n"
     ]
    },
    {
     "name": "stdout",
     "output_type": "stream",
     "text": [
      "https://p-movie.learning-ware.jp/hls-vod/p-movie/530/c474c6583647715eb2d402f675ea5d3f9c5a8e15/91182.mp4.m3u8\n",
      "\n",
      "summary\n",
      "m3u8_uri: https://p-movie.learning-ware.jp/hls-vod/p-movie/530/c474c6583647715eb2d402f675ea5d3f9c5a8e15/91182.mp4.m3u8;\n",
      "max_retry_times: 3;\n",
      "tmp_dir: C:\\Users\\jerem\\AppData\\Local\\Temp\\m3u8_204400661;\n",
      "mp4_file_path: ./m3u8_To_MP4.mp4;\n",
      "\n",
      "segment set: |##################################################| 100.0% downloaded segments successfully!\n"
     ]
    },
    {
     "name": "stderr",
     "output_type": "stream",
     "text": [
      "2023-06-18 18:16:47,293 | INFO | decrypt and dump segments...\n",
      "2023-06-18 18:16:47,409 | INFO | merging segments...\n",
      "2023-06-18 18:16:50,295 | INFO | download successfully！ take 5.99s,  average download speed is 55526.13KB/s\n",
      "2023-06-18 18:16:51,721 | INFO | Resolved available hosts:\n",
      "2023-06-18 18:16:51,721 | INFO | 151.101.110.225:443\n"
     ]
    },
    {
     "name": "stdout",
     "output_type": "stream",
     "text": [
      "https://p-movie.learning-ware.jp/hls-vod/p-movie/530/52b762702534e2ec2ead9fabccf90ca5d0baefd6/91181.mp4.m3u8\n",
      "\n",
      "summary\n",
      "m3u8_uri: https://p-movie.learning-ware.jp/hls-vod/p-movie/530/52b762702534e2ec2ead9fabccf90ca5d0baefd6/91181.mp4.m3u8;\n",
      "max_retry_times: 3;\n",
      "tmp_dir: C:\\Users\\jerem\\AppData\\Local\\Temp\\m3u8_273256855;\n",
      "mp4_file_path: ./m3u8_To_MP4.mp4;\n",
      "\n",
      "segment set: |##################################################| 100.0% downloaded segments successfully!\n"
     ]
    },
    {
     "name": "stderr",
     "output_type": "stream",
     "text": [
      "2023-06-18 18:16:53,451 | INFO | decrypt and dump segments...\n",
      "2023-06-18 18:16:53,500 | INFO | merging segments...\n",
      "2023-06-18 18:16:55,402 | INFO | download successfully！ take 3.68s,  average download speed is 43486.08KB/s\n",
      "2023-06-18 18:16:56,775 | INFO | Resolved available hosts:\n",
      "2023-06-18 18:16:56,776 | INFO | 151.101.110.225:443\n"
     ]
    },
    {
     "name": "stdout",
     "output_type": "stream",
     "text": [
      "https://p-movie.learning-ware.jp/hls-vod/p-movie/530/fef9b0fd840c4efa282f569f65eb5d4a72be2bc7/91177.mp4.m3u8\n",
      "\n",
      "summary\n",
      "m3u8_uri: https://p-movie.learning-ware.jp/hls-vod/p-movie/530/fef9b0fd840c4efa282f569f65eb5d4a72be2bc7/91177.mp4.m3u8;\n",
      "max_retry_times: 3;\n",
      "tmp_dir: C:\\Users\\jerem\\AppData\\Local\\Temp\\m3u8_3052214018;\n",
      "mp4_file_path: ./m3u8_To_MP4.mp4;\n",
      "\n",
      "segment set: |##################################################| 100.0% downloaded segments successfully!\n"
     ]
    },
    {
     "name": "stderr",
     "output_type": "stream",
     "text": [
      "2023-06-18 18:16:58,555 | INFO | decrypt and dump segments...\n",
      "2023-06-18 18:16:58,618 | INFO | merging segments...\n",
      "2023-06-18 18:17:00,910 | INFO | download successfully！ take 4.14s,  average download speed is 51976.08KB/s\n",
      "2023-06-18 18:17:02,386 | INFO | Resolved available hosts:\n",
      "2023-06-18 18:17:02,386 | INFO | 151.101.110.225:443\n"
     ]
    },
    {
     "name": "stdout",
     "output_type": "stream",
     "text": [
      "https://p-movie.learning-ware.jp/hls-vod/p-movie/530/8451fdd7d3fc2216beea76d58f3e1f5d941476c2/91175.mp4.m3u8\n",
      "\n",
      "summary\n",
      "m3u8_uri: https://p-movie.learning-ware.jp/hls-vod/p-movie/530/8451fdd7d3fc2216beea76d58f3e1f5d941476c2/91175.mp4.m3u8;\n",
      "max_retry_times: 3;\n",
      "tmp_dir: C:\\Users\\jerem\\AppData\\Local\\Temp\\m3u8_578269957;\n",
      "mp4_file_path: ./m3u8_To_MP4.mp4;\n",
      "\n",
      "segment set: |##################################################| 100.0% downloaded segments successfully!\n"
     ]
    },
    {
     "name": "stderr",
     "output_type": "stream",
     "text": [
      "2023-06-18 18:17:04,062 | INFO | decrypt and dump segments...\n",
      "2023-06-18 18:17:04,167 | INFO | merging segments...\n",
      "2023-06-18 18:17:05,964 | INFO | download successfully！ take 3.60s,  average download speed is 40020.75KB/s\n",
      "2023-06-18 18:17:07,429 | INFO | Resolved available hosts:\n",
      "2023-06-18 18:17:07,430 | INFO | 151.101.110.225:443\n"
     ]
    },
    {
     "name": "stdout",
     "output_type": "stream",
     "text": [
      "https://p-movie.learning-ware.jp/hls-vod/p-movie/530/6f87c91df968ccb228418fbe11465f449c98fd4c/91174.mp4.m3u8\n",
      "\n",
      "summary\n",
      "m3u8_uri: https://p-movie.learning-ware.jp/hls-vod/p-movie/530/6f87c91df968ccb228418fbe11465f449c98fd4c/91174.mp4.m3u8;\n",
      "max_retry_times: 3;\n",
      "tmp_dir: C:\\Users\\jerem\\AppData\\Local\\Temp\\m3u8_3462594264;\n",
      "mp4_file_path: ./m3u8_To_MP4.mp4;\n",
      "\n",
      "segment set: |##################################################| 100.0% downloaded segments successfully!\n"
     ]
    },
    {
     "name": "stderr",
     "output_type": "stream",
     "text": [
      "2023-06-18 18:17:08,859 | INFO | decrypt and dump segments...\n",
      "2023-06-18 18:17:08,900 | INFO | merging segments...\n",
      "2023-06-18 18:17:10,380 | INFO | download successfully！ take 2.95s,  average download speed is 40737.56KB/s\n",
      "2023-06-18 18:17:11,771 | INFO | Resolved available hosts:\n",
      "2023-06-18 18:17:11,772 | INFO | 151.101.110.225:443\n"
     ]
    },
    {
     "name": "stdout",
     "output_type": "stream",
     "text": [
      "https://p-movie.learning-ware.jp/hls-vod/p-movie/530/85b1281e100f10487a875f99123091258e959753/91183.mp4.m3u8\n",
      "\n",
      "summary\n",
      "m3u8_uri: https://p-movie.learning-ware.jp/hls-vod/p-movie/530/85b1281e100f10487a875f99123091258e959753/91183.mp4.m3u8;\n",
      "max_retry_times: 3;\n",
      "tmp_dir: C:\\Users\\jerem\\AppData\\Local\\Temp\\m3u8_74776872;\n",
      "mp4_file_path: ./m3u8_To_MP4.mp4;\n",
      "\n",
      "segment set: |##################################################| 100.0% downloaded segments successfully!\n"
     ]
    },
    {
     "name": "stderr",
     "output_type": "stream",
     "text": [
      "2023-06-18 18:17:13,430 | INFO | decrypt and dump segments...\n",
      "2023-06-18 18:17:13,475 | INFO | merging segments...\n",
      "2023-06-18 18:17:15,272 | INFO | download successfully！ take 3.50s,  average download speed is 42303.90KB/s\n",
      "2023-06-18 18:17:16,752 | INFO | Resolved available hosts:\n",
      "2023-06-18 18:17:16,753 | INFO | 151.101.110.225:443\n"
     ]
    },
    {
     "name": "stdout",
     "output_type": "stream",
     "text": [
      "https://p-movie.learning-ware.jp/hls-vod/p-movie/530/4d047a968a1b62acc519f0b0953803e8d0a36294/91178.mp4.m3u8\n",
      "\n",
      "summary\n",
      "m3u8_uri: https://p-movie.learning-ware.jp/hls-vod/p-movie/530/4d047a968a1b62acc519f0b0953803e8d0a36294/91178.mp4.m3u8;\n",
      "max_retry_times: 3;\n",
      "tmp_dir: C:\\Users\\jerem\\AppData\\Local\\Temp\\m3u8_1320974008;\n",
      "mp4_file_path: ./m3u8_To_MP4.mp4;\n",
      "\n",
      "segment set: |##################################################| 100.0% downloaded segments successfully!\n"
     ]
    },
    {
     "name": "stderr",
     "output_type": "stream",
     "text": [
      "2023-06-18 18:17:17,734 | INFO | decrypt and dump segments...\n",
      "2023-06-18 18:17:17,757 | INFO | merging segments...\n",
      "2023-06-18 18:17:18,700 | INFO | download successfully！ take 1.95s,  average download speed is 31571.97KB/s\n",
      "2023-06-18 18:17:20,121 | INFO | Resolved available hosts:\n",
      "2023-06-18 18:17:20,122 | INFO | 151.101.110.225:443\n"
     ]
    },
    {
     "name": "stdout",
     "output_type": "stream",
     "text": [
      "https://p-movie.learning-ware.jp/hls-vod/p-movie/530/f1bb592afa53d0a8f01046f8414d662be4255401/91176.mp4.m3u8\n",
      "\n",
      "summary\n",
      "m3u8_uri: https://p-movie.learning-ware.jp/hls-vod/p-movie/530/f1bb592afa53d0a8f01046f8414d662be4255401/91176.mp4.m3u8;\n",
      "max_retry_times: 3;\n",
      "tmp_dir: C:\\Users\\jerem\\AppData\\Local\\Temp\\m3u8_3593279505;\n",
      "mp4_file_path: ./m3u8_To_MP4.mp4;\n",
      "\n",
      "segment set: |##################################################| 100.0% downloaded segments successfully!\n"
     ]
    },
    {
     "name": "stderr",
     "output_type": "stream",
     "text": [
      "2023-06-18 18:17:21,222 | INFO | decrypt and dump segments...\n",
      "2023-06-18 18:17:21,235 | INFO | merging segments...\n",
      "2023-06-18 18:17:21,841 | INFO | download successfully！ take 1.72s,  average download speed is 19873.11KB/s\n",
      "2023-06-18 18:17:23,375 | INFO | Resolved available hosts:\n",
      "2023-06-18 18:17:23,376 | INFO | 151.101.110.225:443\n"
     ]
    },
    {
     "name": "stdout",
     "output_type": "stream",
     "text": [
      "https://p-movie.learning-ware.jp/hls-vod/p-movie/530/9c02e9030d6d691720a2b8009f86f206e724f4d5/91179.mp4.m3u8\n",
      "\n",
      "summary\n",
      "m3u8_uri: https://p-movie.learning-ware.jp/hls-vod/p-movie/530/9c02e9030d6d691720a2b8009f86f206e724f4d5/91179.mp4.m3u8;\n",
      "max_retry_times: 3;\n",
      "tmp_dir: C:\\Users\\jerem\\AppData\\Local\\Temp\\m3u8_2332782364;\n",
      "mp4_file_path: ./m3u8_To_MP4.mp4;\n",
      "\n",
      "segment set: |##################################################| 100.0% downloaded segments successfully!\n"
     ]
    },
    {
     "name": "stderr",
     "output_type": "stream",
     "text": [
      "2023-06-18 18:17:24,831 | INFO | decrypt and dump segments...\n",
      "2023-06-18 18:17:24,880 | INFO | merging segments...\n",
      "2023-06-18 18:17:26,032 | INFO | download successfully！ take 2.66s,  average download speed is 30515.70KB/s\n",
      "2023-06-18 18:17:27,818 | INFO | Resolved available hosts:\n",
      "2023-06-18 18:17:27,819 | INFO | 151.101.110.225:443\n"
     ]
    },
    {
     "name": "stdout",
     "output_type": "stream",
     "text": [
      "https://p-movie.learning-ware.jp/hls-vod/p-movie/530/2a5c83357b6d130fab0308a858191d3511c16ba5/91180.mp4.m3u8\n",
      "\n",
      "summary\n",
      "m3u8_uri: https://p-movie.learning-ware.jp/hls-vod/p-movie/530/2a5c83357b6d130fab0308a858191d3511c16ba5/91180.mp4.m3u8;\n",
      "max_retry_times: 3;\n",
      "tmp_dir: C:\\Users\\jerem\\AppData\\Local\\Temp\\m3u8_1326032646;\n",
      "mp4_file_path: ./m3u8_To_MP4.mp4;\n",
      "\n",
      "segment set: |##################################################| 100.0% downloaded segments successfully!\n"
     ]
    },
    {
     "name": "stderr",
     "output_type": "stream",
     "text": [
      "2023-06-18 18:17:28,904 | INFO | decrypt and dump segments...\n",
      "2023-06-18 18:17:28,923 | INFO | merging segments...\n",
      "2023-06-18 18:17:29,697 | INFO | download successfully！ take 1.88s,  average download speed is 27155.06KB/s\n",
      "2023-06-18 18:17:31,084 | INFO | Resolved available hosts:\n",
      "2023-06-18 18:17:31,084 | INFO | 151.101.110.225:443\n"
     ]
    },
    {
     "name": "stdout",
     "output_type": "stream",
     "text": [
      "https://p-movie.learning-ware.jp/hls-vod/p-movie/530/8d6ddf61d5ba880c2cdef96b4ee4c8e4fdb02538/91186.mp4.m3u8\n",
      "\n",
      "summary\n",
      "m3u8_uri: https://p-movie.learning-ware.jp/hls-vod/p-movie/530/8d6ddf61d5ba880c2cdef96b4ee4c8e4fdb02538/91186.mp4.m3u8;\n",
      "max_retry_times: 3;\n",
      "tmp_dir: C:\\Users\\jerem\\AppData\\Local\\Temp\\m3u8_559570815;\n",
      "mp4_file_path: ./m3u8_To_MP4.mp4;\n",
      "\n",
      "segment set: |##################################################| 100.0% downloaded segments successfully!\n"
     ]
    },
    {
     "name": "stderr",
     "output_type": "stream",
     "text": [
      "2023-06-18 18:17:33,447 | INFO | decrypt and dump segments...\n",
      "2023-06-18 18:17:33,479 | INFO | merging segments...\n",
      "2023-06-18 18:17:34,756 | INFO | download successfully！ take 3.67s,  average download speed is 21611.33KB/s\n",
      "2023-06-18 18:17:36,139 | INFO | Resolved available hosts:\n",
      "2023-06-18 18:17:36,140 | INFO | 151.101.110.225:443\n"
     ]
    },
    {
     "name": "stdout",
     "output_type": "stream",
     "text": [
      "https://p-movie.learning-ware.jp/hls-vod/p-movie/530/84889fb75e268e3d89dddf0d7c880e4bf1a1e25e/91188.mp4.m3u8\n",
      "\n",
      "summary\n",
      "m3u8_uri: https://p-movie.learning-ware.jp/hls-vod/p-movie/530/84889fb75e268e3d89dddf0d7c880e4bf1a1e25e/91188.mp4.m3u8;\n",
      "max_retry_times: 3;\n",
      "tmp_dir: C:\\Users\\jerem\\AppData\\Local\\Temp\\m3u8_2052741154;\n",
      "mp4_file_path: ./m3u8_To_MP4.mp4;\n",
      "\n",
      "segment set: |##################################################| 100.0% downloaded segments successfully!\n"
     ]
    },
    {
     "name": "stderr",
     "output_type": "stream",
     "text": [
      "2023-06-18 18:17:37,622 | INFO | decrypt and dump segments...\n",
      "2023-06-18 18:17:37,646 | INFO | merging segments...\n",
      "2023-06-18 18:17:38,652 | INFO | download successfully！ take 2.53s,  average download speed is 23918.38KB/s\n",
      "2023-06-18 18:17:39,995 | INFO | Resolved available hosts:\n",
      "2023-06-18 18:17:39,995 | INFO | 151.101.110.225:443\n"
     ]
    },
    {
     "name": "stdout",
     "output_type": "stream",
     "text": [
      "https://p-movie.learning-ware.jp/hls-vod/p-movie/530/026dc8f824018868dd236f37c2d5e47275250073/91185.mp4.m3u8\n",
      "\n",
      "summary\n",
      "m3u8_uri: https://p-movie.learning-ware.jp/hls-vod/p-movie/530/026dc8f824018868dd236f37c2d5e47275250073/91185.mp4.m3u8;\n",
      "max_retry_times: 3;\n",
      "tmp_dir: C:\\Users\\jerem\\AppData\\Local\\Temp\\m3u8_1005257665;\n",
      "mp4_file_path: ./m3u8_To_MP4.mp4;\n",
      "\n",
      "segment set: |##################################################| 100.0% downloaded segments successfully!\n"
     ]
    },
    {
     "name": "stderr",
     "output_type": "stream",
     "text": [
      "2023-06-18 18:17:40,359 | INFO | decrypt and dump segments...\n",
      "2023-06-18 18:17:40,363 | INFO | merging segments...\n",
      "2023-06-18 18:17:40,502 | INFO | download successfully！ take 0.51s,  average download speed is 8907.85KB/s\n",
      "2023-06-18 18:17:41,851 | INFO | Resolved available hosts:\n",
      "2023-06-18 18:17:41,852 | INFO | 151.101.110.225:443\n"
     ]
    },
    {
     "name": "stdout",
     "output_type": "stream",
     "text": [
      "https://p-movie.learning-ware.jp/hls-vod/p-movie/530/b9d01ded6e636249add5d1358781425031eb1573/91189.mp4.m3u8\n",
      "\n",
      "summary\n",
      "m3u8_uri: https://p-movie.learning-ware.jp/hls-vod/p-movie/530/b9d01ded6e636249add5d1358781425031eb1573/91189.mp4.m3u8;\n",
      "max_retry_times: 3;\n",
      "tmp_dir: C:\\Users\\jerem\\AppData\\Local\\Temp\\m3u8_1586437805;\n",
      "mp4_file_path: ./m3u8_To_MP4.mp4;\n",
      "\n",
      "segment set: |##################################################| 100.0% downloaded segments successfully!\n"
     ]
    },
    {
     "name": "stderr",
     "output_type": "stream",
     "text": [
      "2023-06-18 18:17:43,509 | INFO | decrypt and dump segments...\n",
      "2023-06-18 18:17:43,568 | INFO | merging segments...\n",
      "2023-06-18 18:17:45,533 | INFO | download successfully！ take 3.68s,  average download speed is 45593.44KB/s\n",
      "2023-06-18 18:17:46,877 | INFO | Resolved available hosts:\n",
      "2023-06-18 18:17:46,878 | INFO | 151.101.110.225:443\n"
     ]
    },
    {
     "name": "stdout",
     "output_type": "stream",
     "text": [
      "https://p-movie.learning-ware.jp/hls-vod/p-movie/530/c467c1dcec87e176472ee186d587630e58098366/91187.mp4.m3u8\n",
      "\n",
      "summary\n",
      "m3u8_uri: https://p-movie.learning-ware.jp/hls-vod/p-movie/530/c467c1dcec87e176472ee186d587630e58098366/91187.mp4.m3u8;\n",
      "max_retry_times: 3;\n",
      "tmp_dir: C:\\Users\\jerem\\AppData\\Local\\Temp\\m3u8_3628456368;\n",
      "mp4_file_path: ./m3u8_To_MP4.mp4;\n",
      "\n",
      "segment set: |##################################################| 100.0% downloaded segments successfully!\n"
     ]
    },
    {
     "name": "stderr",
     "output_type": "stream",
     "text": [
      "2023-06-18 18:17:48,157 | INFO | decrypt and dump segments...\n",
      "2023-06-18 18:17:48,185 | INFO | merging segments...\n",
      "2023-06-18 18:17:49,356 | INFO | download successfully！ take 2.48s,  average download speed is 35267.43KB/s\n",
      "2023-06-18 18:17:50,759 | INFO | Resolved available hosts:\n",
      "2023-06-18 18:17:50,759 | INFO | 151.101.110.225:443\n"
     ]
    },
    {
     "name": "stdout",
     "output_type": "stream",
     "text": [
      "https://p-movie.learning-ware.jp/hls-vod/p-movie/530/215f116ef068725471c360edea8a82b162c32d33/91194.mp4.m3u8\n",
      "\n",
      "summary\n",
      "m3u8_uri: https://p-movie.learning-ware.jp/hls-vod/p-movie/530/215f116ef068725471c360edea8a82b162c32d33/91194.mp4.m3u8;\n",
      "max_retry_times: 3;\n",
      "tmp_dir: C:\\Users\\jerem\\AppData\\Local\\Temp\\m3u8_3542889889;\n",
      "mp4_file_path: ./m3u8_To_MP4.mp4;\n",
      "\n",
      "segment set: |##################################################| 100.0% downloaded segments successfully!\n"
     ]
    },
    {
     "name": "stderr",
     "output_type": "stream",
     "text": [
      "2023-06-18 18:17:52,360 | INFO | decrypt and dump segments...\n",
      "2023-06-18 18:17:52,407 | INFO | merging segments...\n",
      "2023-06-18 18:17:54,185 | INFO | download successfully！ take 3.43s,  average download speed is 42508.36KB/s\n",
      "2023-06-18 18:17:55,659 | INFO | Resolved available hosts:\n",
      "2023-06-18 18:17:55,659 | INFO | 151.101.110.225:443\n"
     ]
    },
    {
     "name": "stdout",
     "output_type": "stream",
     "text": [
      "https://p-movie.learning-ware.jp/hls-vod/p-movie/530/3227bb1585ccf27869d7079df8dc8f21eda70cda/91191.mp4.m3u8\n",
      "\n",
      "summary\n",
      "m3u8_uri: https://p-movie.learning-ware.jp/hls-vod/p-movie/530/3227bb1585ccf27869d7079df8dc8f21eda70cda/91191.mp4.m3u8;\n",
      "max_retry_times: 3;\n",
      "tmp_dir: C:\\Users\\jerem\\AppData\\Local\\Temp\\m3u8_2595035041;\n",
      "mp4_file_path: ./m3u8_To_MP4.mp4;\n",
      "\n",
      "segment set: |##################################################| 100.0% downloaded segments successfully!\n"
     ]
    },
    {
     "name": "stderr",
     "output_type": "stream",
     "text": [
      "2023-06-18 18:17:57,193 | INFO | decrypt and dump segments...\n",
      "2023-06-18 18:17:57,231 | INFO | merging segments...\n",
      "2023-06-18 18:17:58,735 | INFO | download successfully！ take 3.08s,  average download speed is 37269.95KB/s\n",
      "2023-06-18 18:18:00,176 | INFO | Resolved available hosts:\n",
      "2023-06-18 18:18:00,177 | INFO | 151.101.110.225:443\n"
     ]
    },
    {
     "name": "stdout",
     "output_type": "stream",
     "text": [
      "https://p-movie.learning-ware.jp/hls-vod/p-movie/530/6d1f98634c01b0fe868f1fca24066ff703fcb32d/91193.mp4.m3u8\n",
      "\n",
      "summary\n",
      "m3u8_uri: https://p-movie.learning-ware.jp/hls-vod/p-movie/530/6d1f98634c01b0fe868f1fca24066ff703fcb32d/91193.mp4.m3u8;\n",
      "max_retry_times: 3;\n",
      "tmp_dir: C:\\Users\\jerem\\AppData\\Local\\Temp\\m3u8_2049944513;\n",
      "mp4_file_path: ./m3u8_To_MP4.mp4;\n",
      "\n",
      "segment set: |##################################################| 100.0% downloaded segments successfully!\n"
     ]
    },
    {
     "name": "stderr",
     "output_type": "stream",
     "text": [
      "2023-06-18 18:18:01,373 | INFO | decrypt and dump segments...\n",
      "2023-06-18 18:18:01,399 | INFO | merging segments...\n",
      "2023-06-18 18:18:02,556 | INFO | download successfully！ take 2.38s,  average download speed is 34546.43KB/s\n",
      "2023-06-18 18:18:04,068 | INFO | Resolved available hosts:\n",
      "2023-06-18 18:18:04,068 | INFO | 151.101.110.225:443\n"
     ]
    },
    {
     "name": "stdout",
     "output_type": "stream",
     "text": [
      "https://p-movie.learning-ware.jp/hls-vod/p-movie/530/ade0879a32de739e402767cfe5e7d8e180a69709/91195.mp4.m3u8\n",
      "\n",
      "summary\n",
      "m3u8_uri: https://p-movie.learning-ware.jp/hls-vod/p-movie/530/ade0879a32de739e402767cfe5e7d8e180a69709/91195.mp4.m3u8;\n",
      "max_retry_times: 3;\n",
      "tmp_dir: C:\\Users\\jerem\\AppData\\Local\\Temp\\m3u8_4003961392;\n",
      "mp4_file_path: ./m3u8_To_MP4.mp4;\n",
      "\n",
      "segment set: |##################################################| 100.0% downloaded segments successfully!\n"
     ]
    },
    {
     "name": "stderr",
     "output_type": "stream",
     "text": [
      "2023-06-18 18:18:05,821 | INFO | decrypt and dump segments...\n",
      "2023-06-18 18:18:05,878 | INFO | merging segments...\n",
      "2023-06-18 18:18:07,804 | INFO | download successfully！ take 3.76s,  average download speed is 41334.67KB/s\n",
      "2023-06-18 18:18:09,206 | INFO | Resolved available hosts:\n",
      "2023-06-18 18:18:09,207 | INFO | 151.101.110.225:443\n"
     ]
    },
    {
     "name": "stdout",
     "output_type": "stream",
     "text": [
      "https://p-movie.learning-ware.jp/hls-vod/p-movie/530/58f16f8059c197667568b08dcb0c71666ff4d760/91192.mp4.m3u8\n",
      "\n",
      "summary\n",
      "m3u8_uri: https://p-movie.learning-ware.jp/hls-vod/p-movie/530/58f16f8059c197667568b08dcb0c71666ff4d760/91192.mp4.m3u8;\n",
      "max_retry_times: 3;\n",
      "tmp_dir: C:\\Users\\jerem\\AppData\\Local\\Temp\\m3u8_1738495232;\n",
      "mp4_file_path: ./m3u8_To_MP4.mp4;\n",
      "\n",
      "segment set: |##################################################| 100.0% downloaded segments successfully!\n"
     ]
    },
    {
     "name": "stderr",
     "output_type": "stream",
     "text": [
      "2023-06-18 18:18:10,801 | INFO | decrypt and dump segments...\n",
      "2023-06-18 18:18:10,835 | INFO | merging segments...\n",
      "2023-06-18 18:18:12,229 | INFO | download successfully！ take 3.03s,  average download speed is 33046.06KB/s\n"
     ]
    },
    {
     "name": "stdout",
     "output_type": "stream",
     "text": [
      "nothing found\n",
      "nothing found\n"
     ]
    },
    {
     "name": "stderr",
     "output_type": "stream",
     "text": [
      "2023-06-18 18:18:17,422 | INFO | Resolved available hosts:\n",
      "2023-06-18 18:18:17,423 | INFO | 151.101.110.225:443\n"
     ]
    },
    {
     "name": "stdout",
     "output_type": "stream",
     "text": [
      "https://p-movie.learning-ware.jp/hls-vod/p-movie/530/814159d19b34a2d67c77d57b2031cfef045d4d84/125267.mp4.m3u8\n",
      "\n",
      "summary\n",
      "m3u8_uri: https://p-movie.learning-ware.jp/hls-vod/p-movie/530/814159d19b34a2d67c77d57b2031cfef045d4d84/125267.mp4.m3u8;\n",
      "max_retry_times: 3;\n",
      "tmp_dir: C:\\Users\\jerem\\AppData\\Local\\Temp\\m3u8_1200837439;\n",
      "mp4_file_path: ./m3u8_To_MP4.mp4;\n",
      "\n",
      "segment set: |##################################################| 100.0% downloaded segments successfully!\n"
     ]
    },
    {
     "name": "stderr",
     "output_type": "stream",
     "text": [
      "2023-06-18 18:18:23,327 | INFO | decrypt and dump segments...\n",
      "2023-06-18 18:18:23,686 | INFO | merging segments...\n",
      "2023-06-18 18:18:40,356 | INFO | download successfully！ take 22.94s,  average download speed is 46633.72KB/s\n",
      "2023-06-18 18:18:41,977 | INFO | Resolved available hosts:\n",
      "2023-06-18 18:18:41,978 | INFO | 151.101.110.225:443\n"
     ]
    },
    {
     "name": "stdout",
     "output_type": "stream",
     "text": [
      "https://p-movie.learning-ware.jp/hls-vod/p-movie/530/0c3ca17c7479a49aee0df0353c20047dad1cfb0c/125268.mp4.m3u8\n",
      "\n",
      "summary\n",
      "m3u8_uri: https://p-movie.learning-ware.jp/hls-vod/p-movie/530/0c3ca17c7479a49aee0df0353c20047dad1cfb0c/125268.mp4.m3u8;\n",
      "max_retry_times: 3;\n",
      "tmp_dir: C:\\Users\\jerem\\AppData\\Local\\Temp\\m3u8_4022218526;\n",
      "mp4_file_path: ./m3u8_To_MP4.mp4;\n",
      "\n",
      "segment set: |##################################################| 100.0% downloaded segments successfully!\n"
     ]
    },
    {
     "name": "stderr",
     "output_type": "stream",
     "text": [
      "2023-06-18 18:18:48,138 | INFO | decrypt and dump segments...\n",
      "2023-06-18 18:18:48,425 | INFO | merging segments...\n",
      "2023-06-18 18:19:03,507 | INFO | download successfully！ take 21.56s,  average download speed is 43819.42KB/s\n",
      "2023-06-18 18:19:05,176 | INFO | Resolved available hosts:\n",
      "2023-06-18 18:19:05,176 | INFO | 151.101.110.225:443\n"
     ]
    },
    {
     "name": "stdout",
     "output_type": "stream",
     "text": [
      "https://p-movie.learning-ware.jp/hls-vod/p-movie/530/190a325eb73c1f08f5944d20f363fb91f79a5175/125269.mp4.m3u8\n",
      "\n",
      "summary\n",
      "m3u8_uri: https://p-movie.learning-ware.jp/hls-vod/p-movie/530/190a325eb73c1f08f5944d20f363fb91f79a5175/125269.mp4.m3u8;\n",
      "max_retry_times: 3;\n",
      "tmp_dir: C:\\Users\\jerem\\AppData\\Local\\Temp\\m3u8_1325563673;\n",
      "mp4_file_path: ./m3u8_To_MP4.mp4;\n",
      "\n",
      "segment set: |##################################################| 100.0% downloaded segments successfully!\n"
     ]
    },
    {
     "name": "stderr",
     "output_type": "stream",
     "text": [
      "2023-06-18 18:19:21,548 | INFO | decrypt and dump segments...\n",
      "2023-06-18 18:19:21,994 | INFO | merging segments...\n",
      "2023-06-18 18:19:33,252 | INFO | download successfully！ take 28.08s,  average download speed is 43049.58KB/s\n",
      "2023-06-18 18:19:34,843 | INFO | Resolved available hosts:\n",
      "2023-06-18 18:19:34,843 | INFO | 151.101.110.225:443\n"
     ]
    },
    {
     "name": "stdout",
     "output_type": "stream",
     "text": [
      "https://p-movie.learning-ware.jp/hls-vod/p-movie/530/b7d4943ba3603d149984582d6fd4fb6f53cf8297/121236.mp4.m3u8\n",
      "\n",
      "summary\n",
      "m3u8_uri: https://p-movie.learning-ware.jp/hls-vod/p-movie/530/b7d4943ba3603d149984582d6fd4fb6f53cf8297/121236.mp4.m3u8;\n",
      "max_retry_times: 3;\n",
      "tmp_dir: C:\\Users\\jerem\\AppData\\Local\\Temp\\m3u8_503634212;\n",
      "mp4_file_path: ./m3u8_To_MP4.mp4;\n",
      "\n",
      "segment set: |##################################################| 100.0% downloaded segments successfully!\n"
     ]
    },
    {
     "name": "stderr",
     "output_type": "stream",
     "text": [
      "2023-06-18 18:19:36,243 | INFO | decrypt and dump segments...\n",
      "2023-06-18 18:19:36,298 | INFO | merging segments...\n",
      "2023-06-18 18:19:37,262 | INFO | download successfully！ take 2.44s,  average download speed is 32371.31KB/s\n",
      "2023-06-18 18:19:38,611 | INFO | Resolved available hosts:\n",
      "2023-06-18 18:19:38,612 | INFO | 151.101.110.225:443\n"
     ]
    },
    {
     "name": "stdout",
     "output_type": "stream",
     "text": [
      "https://p-movie.learning-ware.jp/hls-vod/p-movie/530/a91bc2fc64b5d1a112615a7243a0c5a6e6dde377/121246.mp4.m3u8\n",
      "\n",
      "summary\n",
      "m3u8_uri: https://p-movie.learning-ware.jp/hls-vod/p-movie/530/a91bc2fc64b5d1a112615a7243a0c5a6e6dde377/121246.mp4.m3u8;\n",
      "max_retry_times: 3;\n",
      "tmp_dir: C:\\Users\\jerem\\AppData\\Local\\Temp\\m3u8_2397997359;\n",
      "mp4_file_path: ./m3u8_To_MP4.mp4;\n",
      "\n",
      "segment set: |##################################################| 100.0% downloaded segments successfully!\n"
     ]
    },
    {
     "name": "stderr",
     "output_type": "stream",
     "text": [
      "2023-06-18 18:19:39,444 | INFO | decrypt and dump segments...\n",
      "2023-06-18 18:19:39,467 | INFO | merging segments...\n",
      "2023-06-18 18:19:40,772 | INFO | download successfully！ take 2.16s,  average download speed is 26503.00KB/s\n",
      "2023-06-18 18:19:42,248 | INFO | Resolved available hosts:\n",
      "2023-06-18 18:19:42,249 | INFO | 151.101.110.225:443\n"
     ]
    },
    {
     "name": "stdout",
     "output_type": "stream",
     "text": [
      "https://p-movie.learning-ware.jp/hls-vod/p-movie/530/e6a5e26dbcae5bac537cf332be8c7d99172d582a/121247.mp4.m3u8\n",
      "\n",
      "summary\n",
      "m3u8_uri: https://p-movie.learning-ware.jp/hls-vod/p-movie/530/e6a5e26dbcae5bac537cf332be8c7d99172d582a/121247.mp4.m3u8;\n",
      "max_retry_times: 3;\n",
      "tmp_dir: C:\\Users\\jerem\\AppData\\Local\\Temp\\m3u8_3615270897;\n",
      "mp4_file_path: ./m3u8_To_MP4.mp4;\n",
      "\n",
      "segment set: |##################################################| 100.0% downloaded segments successfully!\n"
     ]
    },
    {
     "name": "stderr",
     "output_type": "stream",
     "text": [
      "2023-06-18 18:19:42,888 | INFO | decrypt and dump segments...\n",
      "2023-06-18 18:19:42,901 | INFO | merging segments...\n",
      "2023-06-18 18:19:43,692 | INFO | download successfully！ take 1.46s,  average download speed is 19283.75KB/s\n",
      "2023-06-18 18:19:44,976 | INFO | Resolved available hosts:\n",
      "2023-06-18 18:19:44,977 | INFO | 151.101.110.225:443\n"
     ]
    },
    {
     "name": "stdout",
     "output_type": "stream",
     "text": [
      "https://p-movie.learning-ware.jp/hls-vod/p-movie/530/5c647d3603561f70b05be69be3f8a86f87417bce/121248.mp4.m3u8\n",
      "\n",
      "summary\n",
      "m3u8_uri: https://p-movie.learning-ware.jp/hls-vod/p-movie/530/5c647d3603561f70b05be69be3f8a86f87417bce/121248.mp4.m3u8;\n",
      "max_retry_times: 3;\n",
      "tmp_dir: C:\\Users\\jerem\\AppData\\Local\\Temp\\m3u8_3341212821;\n",
      "mp4_file_path: ./m3u8_To_MP4.mp4;\n",
      "\n",
      "segment set: |##################################################| 100.0% downloaded segments successfully!\n"
     ]
    },
    {
     "name": "stderr",
     "output_type": "stream",
     "text": [
      "2023-06-18 18:19:45,680 | INFO | decrypt and dump segments...\n",
      "2023-06-18 18:19:45,696 | INFO | merging segments...\n",
      "2023-06-18 18:19:46,666 | INFO | download successfully！ take 1.69s,  average download speed is 21293.52KB/s\n",
      "2023-06-18 18:19:48,062 | INFO | Resolved available hosts:\n",
      "2023-06-18 18:19:48,063 | INFO | 151.101.110.225:443\n"
     ]
    },
    {
     "name": "stdout",
     "output_type": "stream",
     "text": [
      "https://p-movie.learning-ware.jp/hls-vod/p-movie/530/eb9ad5a72f0efcc7a88709014b08ae6fbd9ecda8/121249.mp4.m3u8\n",
      "\n",
      "summary\n",
      "m3u8_uri: https://p-movie.learning-ware.jp/hls-vod/p-movie/530/eb9ad5a72f0efcc7a88709014b08ae6fbd9ecda8/121249.mp4.m3u8;\n",
      "max_retry_times: 3;\n",
      "tmp_dir: C:\\Users\\jerem\\AppData\\Local\\Temp\\m3u8_3537845662;\n",
      "mp4_file_path: ./m3u8_To_MP4.mp4;\n",
      "\n",
      "segment set: |##################################################| 100.0% downloaded segments successfully!\n"
     ]
    },
    {
     "name": "stderr",
     "output_type": "stream",
     "text": [
      "2023-06-18 18:19:49,587 | INFO | decrypt and dump segments...\n",
      "2023-06-18 18:19:49,618 | INFO | merging segments...\n",
      "2023-06-18 18:19:51,236 | INFO | download successfully！ take 3.17s,  average download speed is 17897.48KB/s\n",
      "2023-06-18 18:19:52,798 | INFO | Resolved available hosts:\n",
      "2023-06-18 18:19:52,798 | INFO | 151.101.110.225:443\n"
     ]
    },
    {
     "name": "stdout",
     "output_type": "stream",
     "text": [
      "https://p-movie.learning-ware.jp/hls-vod/p-movie/530/a37358f509440f50723831e8da849e7329e9c6e4/121250.mp4.m3u8\n",
      "\n",
      "summary\n",
      "m3u8_uri: https://p-movie.learning-ware.jp/hls-vod/p-movie/530/a37358f509440f50723831e8da849e7329e9c6e4/121250.mp4.m3u8;\n",
      "max_retry_times: 3;\n",
      "tmp_dir: C:\\Users\\jerem\\AppData\\Local\\Temp\\m3u8_2889088223;\n",
      "mp4_file_path: ./m3u8_To_MP4.mp4;\n",
      "\n",
      "segment set: |##################################################| 100.0% downloaded segments successfully!\n"
     ]
    },
    {
     "name": "stderr",
     "output_type": "stream",
     "text": [
      "2023-06-18 18:19:53,775 | INFO | decrypt and dump segments...\n",
      "2023-06-18 18:19:53,804 | INFO | merging segments...\n",
      "2023-06-18 18:19:55,515 | INFO | download successfully！ take 2.72s,  average download speed is 28408.50KB/s\n",
      "2023-06-18 18:19:56,862 | INFO | Resolved available hosts:\n",
      "2023-06-18 18:19:56,862 | INFO | 151.101.110.225:443\n"
     ]
    },
    {
     "name": "stdout",
     "output_type": "stream",
     "text": [
      "https://p-movie.learning-ware.jp/hls-vod/p-movie/530/db2dc45bdf258ff1eeaad772ad5ae0860177f4c3/121251.mp4.m3u8\n",
      "\n",
      "summary\n",
      "m3u8_uri: https://p-movie.learning-ware.jp/hls-vod/p-movie/530/db2dc45bdf258ff1eeaad772ad5ae0860177f4c3/121251.mp4.m3u8;\n",
      "max_retry_times: 3;\n",
      "tmp_dir: C:\\Users\\jerem\\AppData\\Local\\Temp\\m3u8_3257370002;\n",
      "mp4_file_path: ./m3u8_To_MP4.mp4;\n",
      "\n",
      "segment set: |##################################################| 100.0% downloaded segments successfully!\n"
     ]
    },
    {
     "name": "stderr",
     "output_type": "stream",
     "text": [
      "2023-06-18 18:19:58,340 | INFO | decrypt and dump segments...\n",
      "2023-06-18 18:19:58,380 | INFO | merging segments...\n",
      "2023-06-18 18:19:59,690 | INFO | download successfully！ take 2.83s,  average download speed is 14325.02KB/s\n",
      "2023-06-18 18:20:01,105 | INFO | Resolved available hosts:\n",
      "2023-06-18 18:20:01,105 | INFO | 151.101.110.225:443\n"
     ]
    },
    {
     "name": "stdout",
     "output_type": "stream",
     "text": [
      "https://p-movie.learning-ware.jp/hls-vod/p-movie/530/a32bc2107cb5a7de91c0c3c38defc384becd4505/121252.mp4.m3u8\n",
      "\n",
      "summary\n",
      "m3u8_uri: https://p-movie.learning-ware.jp/hls-vod/p-movie/530/a32bc2107cb5a7de91c0c3c38defc384becd4505/121252.mp4.m3u8;\n",
      "max_retry_times: 3;\n",
      "tmp_dir: C:\\Users\\jerem\\AppData\\Local\\Temp\\m3u8_2682027696;\n",
      "mp4_file_path: ./m3u8_To_MP4.mp4;\n",
      "\n",
      "segment set: |##################################################| 100.0% downloaded segments successfully!\n"
     ]
    },
    {
     "name": "stderr",
     "output_type": "stream",
     "text": [
      "2023-06-18 18:20:01,839 | INFO | decrypt and dump segments...\n",
      "2023-06-18 18:20:01,859 | INFO | merging segments...\n",
      "2023-06-18 18:20:03,040 | INFO | download successfully！ take 1.94s,  average download speed is 26640.61KB/s\n"
     ]
    },
    {
     "name": "stdout",
     "output_type": "stream",
     "text": [
      "nothing found\n",
      "nothing found\n",
      "nothing found\n"
     ]
    }
   ],
   "source": [
    "#134だめ\n",
    "for url in urls[138:]:    \n",
    "    driver.get(url)\n",
    "    file_name = driver.title\n",
    "    wait = WebDriverWait(driver, 3) \n",
    "    \n",
    "    source_element = wait.until(EC.visibility_of_element_located((By.ID, \"sample1\")))\n",
    "    src = source_element.get_attribute(\"src\")\n",
    "    \n",
    "    driver.get(src)  \n",
    "    \n",
    "    try:\n",
    "        #stream_video = driver.find_element(By.ID,value=\"streaming_video\")\n",
    "        stream_video = driver.find_element(By.CLASS_NAME,value=\"movie-wrapper\")\n",
    "        \n",
    "    except Exception as e:        \n",
    "        print(\"nothing found\")\n",
    "        time.sleep(1)\n",
    "    else:\n",
    "        movie_source = stream_video.find_element(By.ID,value=\"movie\")  \n",
    "        movie_source = movie_source.find_element(By.ID,value=\"fluid_video_wrapper_streaming_video\")\n",
    "        movie_source = movie_source.find_element(By.ID,value=\"streaming_video\")\n",
    "        movie_source = movie_source.find_element(By.ID,value=\"movie-source\")\n",
    "        dl_file = movie_source.get_attribute('src') \n",
    "        print(dl_file)\n",
    "\n",
    "        m3u8_To_MP4.multithread_download(dl_file)\n",
    "       \n",
    "        file_name = find_unique_filename(file_name)\n",
    "\n",
    "        # Renaming the file\n",
    "        os.rename(\"m3u8_To_MP4.mp4\", f\"{file_name}.mp4\")\n",
    "        \n",
    "        \n",
    "        \n"
   ]
  },
  {
   "cell_type": "code",
   "execution_count": null,
   "metadata": {},
   "outputs": [
    {
     "name": "stdout",
     "output_type": "stream",
     "text": [
      "134\n"
     ]
    }
   ],
   "source": [
    "position = urls.index(url)\n",
    "print(position)"
   ]
  },
  {
   "cell_type": "code",
   "execution_count": null,
   "metadata": {},
   "outputs": [
    {
     "name": "stdout",
     "output_type": "stream",
     "text": [
      "391\n"
     ]
    }
   ],
   "source": [
    "print(len(urls))"
   ]
  },
  {
   "cell_type": "code",
   "execution_count": null,
   "metadata": {},
   "outputs": [],
   "source": []
  }
 ],
 "metadata": {
  "kernelspec": {
   "display_name": "base",
   "language": "python",
   "name": "python3"
  },
  "language_info": {
   "codemirror_mode": {
    "name": "ipython",
    "version": 3
   },
   "file_extension": ".py",
   "mimetype": "text/x-python",
   "name": "python",
   "nbconvert_exporter": "python",
   "pygments_lexer": "ipython3",
   "version": "3.8.16"
  },
  "orig_nbformat": 4
 },
 "nbformat": 4,
 "nbformat_minor": 2
}
